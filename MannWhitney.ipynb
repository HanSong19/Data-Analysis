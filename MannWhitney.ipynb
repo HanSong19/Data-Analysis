{
 "cells": [
  {
   "cell_type": "code",
   "execution_count": 1,
   "metadata": {},
   "outputs": [],
   "source": [
    "from scipy.stats import chi2_contingency\n",
    "import pandas as pd\n",
    "import numpy as np"
   ]
  },
  {
   "cell_type": "code",
   "execution_count": 2,
   "metadata": {},
   "outputs": [],
   "source": [
    "df = pd.DataFrame(\n",
    "    [\n",
    "        [6,6],\n",
    "        [36,8],\n",
    "        [7,16],\n",
    "        [13,14],\n",
    "        [13,27]\n",
    "    ],\n",
    "    index = [\"Palatalization\", \"Prefix Change\", \"Sound Change\", \"Two Options\", \"No Mention\"],\n",
    "    columns=[\"Alt\", \"Neut\"])"
   ]
  },
  {
   "cell_type": "code",
   "execution_count": 3,
   "metadata": {},
   "outputs": [
    {
     "output_type": "execute_result",
     "data": {
      "text/plain": [
       "Index(['Alt', 'Neut'], dtype='object')"
      ]
     },
     "metadata": {},
     "execution_count": 3
    }
   ],
   "source": [
    "df.columns"
   ]
  },
  {
   "cell_type": "code",
   "execution_count": 4,
   "metadata": {},
   "outputs": [
    {
     "output_type": "execute_result",
     "data": {
      "text/plain": [
       "Index(['Palatalization', 'Prefix Change', 'Sound Change', 'Two Options',\n",
       "       'No Mention'],\n",
       "      dtype='object')"
      ]
     },
     "metadata": {},
     "execution_count": 4
    }
   ],
   "source": [
    "df.index"
   ]
  },
  {
   "cell_type": "code",
   "execution_count": 5,
   "metadata": {},
   "outputs": [
    {
     "output_type": "execute_result",
     "data": {
      "text/plain": [
       "(26.18702518414051,\n",
       " 2.9012087617689084e-05,\n",
       " 4,\n",
       " array([[ 6.16438356,  5.83561644],\n",
       "        [22.60273973, 21.39726027],\n",
       "        [11.81506849, 11.18493151],\n",
       "        [13.86986301, 13.13013699],\n",
       "        [20.54794521, 19.45205479]]))"
      ]
     },
     "metadata": {},
     "execution_count": 5
    }
   ],
   "source": [
    "chi2_contingency(df)"
   ]
  },
  {
   "cell_type": "code",
   "execution_count": 6,
   "metadata": {},
   "outputs": [
    {
     "output_type": "execute_result",
     "data": {
      "text/plain": [
       "                  Alt   Neut\n",
       "Palatalization   6.16   5.84\n",
       "Prefix Change   22.60  21.40\n",
       "Sound Change    11.82  11.18\n",
       "Two Options     13.87  13.13\n",
       "No Mention      20.55  19.45"
      ],
      "text/html": "<div>\n<style scoped>\n    .dataframe tbody tr th:only-of-type {\n        vertical-align: middle;\n    }\n\n    .dataframe tbody tr th {\n        vertical-align: top;\n    }\n\n    .dataframe thead th {\n        text-align: right;\n    }\n</style>\n<table border=\"1\" class=\"dataframe\">\n  <thead>\n    <tr style=\"text-align: right;\">\n      <th></th>\n      <th>Alt</th>\n      <th>Neut</th>\n    </tr>\n  </thead>\n  <tbody>\n    <tr>\n      <th>Palatalization</th>\n      <td>6.16</td>\n      <td>5.84</td>\n    </tr>\n    <tr>\n      <th>Prefix Change</th>\n      <td>22.60</td>\n      <td>21.40</td>\n    </tr>\n    <tr>\n      <th>Sound Change</th>\n      <td>11.82</td>\n      <td>11.18</td>\n    </tr>\n    <tr>\n      <th>Two Options</th>\n      <td>13.87</td>\n      <td>13.13</td>\n    </tr>\n    <tr>\n      <th>No Mention</th>\n      <td>20.55</td>\n      <td>19.45</td>\n    </tr>\n  </tbody>\n</table>\n</div>"
     },
     "metadata": {},
     "execution_count": 6
    }
   ],
   "source": [
    "df2= chi2_contingency(df)[3]\n",
    "pd.DataFrame(\n",
    "    data=df2[:,:],\n",
    "    index = [\"Palatalization\", \"Prefix Change\", \"Sound Change\", \"Two Options\", \"No Mention\"],\n",
    "    columns=[\"Alt\", \"Neut\"]).round(2)"
   ]
  },
  {
   "cell_type": "code",
   "execution_count": 7,
   "metadata": {},
   "outputs": [
    {
     "output_type": "stream",
     "name": "stdout",
     "text": [
      "chisquare is:  26.18702518414051\npvalue is:  2.9012087617689084e-05\ndegree of freedom is : 4\n"
     ]
    }
   ],
   "source": [
    "chisquare = chi2_contingency(df)[0]\n",
    "print(\"chisquare is: \", chisquare)\n",
    "pvalue = chi2_contingency(df)[1]\n",
    "print(\"pvalue is: \", pvalue)\n",
    "dof = chi2_contingency(df)[2]\n",
    "print(\"degree of freedom is :\", dof )\n"
   ]
  },
  {
   "cell_type": "code",
   "execution_count": 8,
   "metadata": {},
   "outputs": [
    {
     "output_type": "stream",
     "name": "stdout",
     "text": [
      "critical value is:  13.276704135987622\n"
     ]
    }
   ],
   "source": [
    "from scipy.stats import chi2\n",
    "significance = 0.01\n",
    "p= 1- significance\n",
    "dof = chi2_contingency(df)[2]\n",
    "critical_value = chi2.ppf(p, dof)\n",
    "print(\"critical value is: \", critical_value)"
   ]
  },
  {
   "cell_type": "markdown",
   "metadata": {},
   "source": [
    "## Treating as ordinal (Added by Jamie)"
   ]
  },
  {
   "cell_type": "code",
   "execution_count": 9,
   "metadata": {},
   "outputs": [],
   "source": [
    "## Make a data frame with each response coded as a number, \n",
    "## where 5 = most detailed information about rule and 1 = no information.\n",
    "\n",
    "alternation = [5]*6 + [4]*36 + [3]*7 + [2]*13 + [1]*13 \n",
    "neutralization = [5]*6 + [4]*8 + [3]*20 + [2]*14 + [1]*27 \n",
    "\n",
    "df = pd.DataFrame(\n",
    "    {\n",
    "        'alternation':alternation,\n",
    "        'neutralization':neutralization\n",
    "    }\n",
    ")"
   ]
  },
  {
   "cell_type": "code",
   "execution_count": 10,
   "metadata": {},
   "outputs": [
    {
     "output_type": "execute_result",
     "data": {
      "text/plain": [
       "    alternation  neutralization\n",
       "0             5               5\n",
       "1             5               5\n",
       "2             5               5\n",
       "3             5               5\n",
       "4             5               5\n",
       "5             5               5\n",
       "6             4               4\n",
       "7             4               4\n",
       "8             4               4\n",
       "9             4               4\n",
       "10            4               4\n",
       "11            4               4\n",
       "12            4               4\n",
       "13            4               4\n",
       "14            4               3\n",
       "15            4               3\n",
       "16            4               3\n",
       "17            4               3\n",
       "18            4               3\n",
       "19            4               3\n",
       "20            4               3\n",
       "21            4               3\n",
       "22            4               3\n",
       "23            4               3\n",
       "24            4               3\n",
       "25            4               3\n",
       "26            4               3\n",
       "27            4               3\n",
       "28            4               3\n",
       "29            4               3\n",
       "..          ...             ...\n",
       "45            3               2\n",
       "46            3               2\n",
       "47            3               2\n",
       "48            3               1\n",
       "49            2               1\n",
       "50            2               1\n",
       "51            2               1\n",
       "52            2               1\n",
       "53            2               1\n",
       "54            2               1\n",
       "55            2               1\n",
       "56            2               1\n",
       "57            2               1\n",
       "58            2               1\n",
       "59            2               1\n",
       "60            2               1\n",
       "61            2               1\n",
       "62            1               1\n",
       "63            1               1\n",
       "64            1               1\n",
       "65            1               1\n",
       "66            1               1\n",
       "67            1               1\n",
       "68            1               1\n",
       "69            1               1\n",
       "70            1               1\n",
       "71            1               1\n",
       "72            1               1\n",
       "73            1               1\n",
       "74            1               1\n",
       "\n",
       "[75 rows x 2 columns]"
      ],
      "text/html": "<div>\n<style scoped>\n    .dataframe tbody tr th:only-of-type {\n        vertical-align: middle;\n    }\n\n    .dataframe tbody tr th {\n        vertical-align: top;\n    }\n\n    .dataframe thead th {\n        text-align: right;\n    }\n</style>\n<table border=\"1\" class=\"dataframe\">\n  <thead>\n    <tr style=\"text-align: right;\">\n      <th></th>\n      <th>alternation</th>\n      <th>neutralization</th>\n    </tr>\n  </thead>\n  <tbody>\n    <tr>\n      <th>0</th>\n      <td>5</td>\n      <td>5</td>\n    </tr>\n    <tr>\n      <th>1</th>\n      <td>5</td>\n      <td>5</td>\n    </tr>\n    <tr>\n      <th>2</th>\n      <td>5</td>\n      <td>5</td>\n    </tr>\n    <tr>\n      <th>3</th>\n      <td>5</td>\n      <td>5</td>\n    </tr>\n    <tr>\n      <th>4</th>\n      <td>5</td>\n      <td>5</td>\n    </tr>\n    <tr>\n      <th>5</th>\n      <td>5</td>\n      <td>5</td>\n    </tr>\n    <tr>\n      <th>6</th>\n      <td>4</td>\n      <td>4</td>\n    </tr>\n    <tr>\n      <th>7</th>\n      <td>4</td>\n      <td>4</td>\n    </tr>\n    <tr>\n      <th>8</th>\n      <td>4</td>\n      <td>4</td>\n    </tr>\n    <tr>\n      <th>9</th>\n      <td>4</td>\n      <td>4</td>\n    </tr>\n    <tr>\n      <th>10</th>\n      <td>4</td>\n      <td>4</td>\n    </tr>\n    <tr>\n      <th>11</th>\n      <td>4</td>\n      <td>4</td>\n    </tr>\n    <tr>\n      <th>12</th>\n      <td>4</td>\n      <td>4</td>\n    </tr>\n    <tr>\n      <th>13</th>\n      <td>4</td>\n      <td>4</td>\n    </tr>\n    <tr>\n      <th>14</th>\n      <td>4</td>\n      <td>3</td>\n    </tr>\n    <tr>\n      <th>15</th>\n      <td>4</td>\n      <td>3</td>\n    </tr>\n    <tr>\n      <th>16</th>\n      <td>4</td>\n      <td>3</td>\n    </tr>\n    <tr>\n      <th>17</th>\n      <td>4</td>\n      <td>3</td>\n    </tr>\n    <tr>\n      <th>18</th>\n      <td>4</td>\n      <td>3</td>\n    </tr>\n    <tr>\n      <th>19</th>\n      <td>4</td>\n      <td>3</td>\n    </tr>\n    <tr>\n      <th>20</th>\n      <td>4</td>\n      <td>3</td>\n    </tr>\n    <tr>\n      <th>21</th>\n      <td>4</td>\n      <td>3</td>\n    </tr>\n    <tr>\n      <th>22</th>\n      <td>4</td>\n      <td>3</td>\n    </tr>\n    <tr>\n      <th>23</th>\n      <td>4</td>\n      <td>3</td>\n    </tr>\n    <tr>\n      <th>24</th>\n      <td>4</td>\n      <td>3</td>\n    </tr>\n    <tr>\n      <th>25</th>\n      <td>4</td>\n      <td>3</td>\n    </tr>\n    <tr>\n      <th>26</th>\n      <td>4</td>\n      <td>3</td>\n    </tr>\n    <tr>\n      <th>27</th>\n      <td>4</td>\n      <td>3</td>\n    </tr>\n    <tr>\n      <th>28</th>\n      <td>4</td>\n      <td>3</td>\n    </tr>\n    <tr>\n      <th>29</th>\n      <td>4</td>\n      <td>3</td>\n    </tr>\n    <tr>\n      <th>...</th>\n      <td>...</td>\n      <td>...</td>\n    </tr>\n    <tr>\n      <th>45</th>\n      <td>3</td>\n      <td>2</td>\n    </tr>\n    <tr>\n      <th>46</th>\n      <td>3</td>\n      <td>2</td>\n    </tr>\n    <tr>\n      <th>47</th>\n      <td>3</td>\n      <td>2</td>\n    </tr>\n    <tr>\n      <th>48</th>\n      <td>3</td>\n      <td>1</td>\n    </tr>\n    <tr>\n      <th>49</th>\n      <td>2</td>\n      <td>1</td>\n    </tr>\n    <tr>\n      <th>50</th>\n      <td>2</td>\n      <td>1</td>\n    </tr>\n    <tr>\n      <th>51</th>\n      <td>2</td>\n      <td>1</td>\n    </tr>\n    <tr>\n      <th>52</th>\n      <td>2</td>\n      <td>1</td>\n    </tr>\n    <tr>\n      <th>53</th>\n      <td>2</td>\n      <td>1</td>\n    </tr>\n    <tr>\n      <th>54</th>\n      <td>2</td>\n      <td>1</td>\n    </tr>\n    <tr>\n      <th>55</th>\n      <td>2</td>\n      <td>1</td>\n    </tr>\n    <tr>\n      <th>56</th>\n      <td>2</td>\n      <td>1</td>\n    </tr>\n    <tr>\n      <th>57</th>\n      <td>2</td>\n      <td>1</td>\n    </tr>\n    <tr>\n      <th>58</th>\n      <td>2</td>\n      <td>1</td>\n    </tr>\n    <tr>\n      <th>59</th>\n      <td>2</td>\n      <td>1</td>\n    </tr>\n    <tr>\n      <th>60</th>\n      <td>2</td>\n      <td>1</td>\n    </tr>\n    <tr>\n      <th>61</th>\n      <td>2</td>\n      <td>1</td>\n    </tr>\n    <tr>\n      <th>62</th>\n      <td>1</td>\n      <td>1</td>\n    </tr>\n    <tr>\n      <th>63</th>\n      <td>1</td>\n      <td>1</td>\n    </tr>\n    <tr>\n      <th>64</th>\n      <td>1</td>\n      <td>1</td>\n    </tr>\n    <tr>\n      <th>65</th>\n      <td>1</td>\n      <td>1</td>\n    </tr>\n    <tr>\n      <th>66</th>\n      <td>1</td>\n      <td>1</td>\n    </tr>\n    <tr>\n      <th>67</th>\n      <td>1</td>\n      <td>1</td>\n    </tr>\n    <tr>\n      <th>68</th>\n      <td>1</td>\n      <td>1</td>\n    </tr>\n    <tr>\n      <th>69</th>\n      <td>1</td>\n      <td>1</td>\n    </tr>\n    <tr>\n      <th>70</th>\n      <td>1</td>\n      <td>1</td>\n    </tr>\n    <tr>\n      <th>71</th>\n      <td>1</td>\n      <td>1</td>\n    </tr>\n    <tr>\n      <th>72</th>\n      <td>1</td>\n      <td>1</td>\n    </tr>\n    <tr>\n      <th>73</th>\n      <td>1</td>\n      <td>1</td>\n    </tr>\n    <tr>\n      <th>74</th>\n      <td>1</td>\n      <td>1</td>\n    </tr>\n  </tbody>\n</table>\n<p>75 rows × 2 columns</p>\n</div>"
     },
     "metadata": {},
     "execution_count": 10
    }
   ],
   "source": [
    "df"
   ]
  },
  {
   "cell_type": "code",
   "execution_count": 11,
   "metadata": {},
   "outputs": [
    {
     "output_type": "execute_result",
     "data": {
      "text/plain": [
       "       alternation  neutralization\n",
       "count    75.000000       75.000000\n",
       "mean      3.120000        2.360000\n",
       "std       1.294061        1.290715\n",
       "min       1.000000        1.000000\n",
       "25%       2.000000        1.000000\n",
       "50%       4.000000        2.000000\n",
       "75%       4.000000        3.000000\n",
       "max       5.000000        5.000000"
      ],
      "text/html": "<div>\n<style scoped>\n    .dataframe tbody tr th:only-of-type {\n        vertical-align: middle;\n    }\n\n    .dataframe tbody tr th {\n        vertical-align: top;\n    }\n\n    .dataframe thead th {\n        text-align: right;\n    }\n</style>\n<table border=\"1\" class=\"dataframe\">\n  <thead>\n    <tr style=\"text-align: right;\">\n      <th></th>\n      <th>alternation</th>\n      <th>neutralization</th>\n    </tr>\n  </thead>\n  <tbody>\n    <tr>\n      <th>count</th>\n      <td>75.000000</td>\n      <td>75.000000</td>\n    </tr>\n    <tr>\n      <th>mean</th>\n      <td>3.120000</td>\n      <td>2.360000</td>\n    </tr>\n    <tr>\n      <th>std</th>\n      <td>1.294061</td>\n      <td>1.290715</td>\n    </tr>\n    <tr>\n      <th>min</th>\n      <td>1.000000</td>\n      <td>1.000000</td>\n    </tr>\n    <tr>\n      <th>25%</th>\n      <td>2.000000</td>\n      <td>1.000000</td>\n    </tr>\n    <tr>\n      <th>50%</th>\n      <td>4.000000</td>\n      <td>2.000000</td>\n    </tr>\n    <tr>\n      <th>75%</th>\n      <td>4.000000</td>\n      <td>3.000000</td>\n    </tr>\n    <tr>\n      <th>max</th>\n      <td>5.000000</td>\n      <td>5.000000</td>\n    </tr>\n  </tbody>\n</table>\n</div>"
     },
     "metadata": {},
     "execution_count": 11
    }
   ],
   "source": [
    "## Get some basic information about the spread\n",
    "df.describe()"
   ]
  },
  {
   "cell_type": "code",
   "execution_count": 12,
   "metadata": {},
   "outputs": [
    {
     "output_type": "execute_result",
     "data": {
      "text/plain": [
       "alternation       4.0\n",
       "neutralization    2.0\n",
       "dtype: float64"
      ]
     },
     "metadata": {},
     "execution_count": 12
    }
   ],
   "source": [
    "## Calculate median for each condition, which should probably be reported\n",
    "df.median()"
   ]
  },
  {
   "cell_type": "code",
   "execution_count": 14,
   "metadata": {},
   "outputs": [],
   "source": [
    "from scipy.stats import mannwhitneyu"
   ]
  },
  {
   "cell_type": "code",
   "execution_count": 15,
   "metadata": {},
   "outputs": [
    {
     "output_type": "execute_result",
     "data": {
      "text/plain": [
       "MannwhitneyuResult(statistic=3746.5, pvalue=0.0003038548983868646)"
      ]
     },
     "metadata": {},
     "execution_count": 15
    }
   ],
   "source": [
    "## Mann-Whitney U test (which allows you to treat the data as an ordinal scale)\n",
    "\n",
    "mannwhitneyu(df['alternation'],df['neutralization'],alternative='two-sided')"
   ]
  },
  {
   "cell_type": "markdown",
   "metadata": {},
   "source": [
    "Outcome:  we can say that participants in the alternation condition were able to express more detail about the phonological rule that they learned compared to participants in the neutralization condition."
   ]
  },
  {
   "cell_type": "code",
   "execution_count": null,
   "metadata": {},
   "outputs": [],
   "source": []
  }
 ],
 "metadata": {
  "kernelspec": {
   "display_name": "Python 3",
   "language": "python",
   "name": "python3"
  },
  "language_info": {
   "codemirror_mode": {
    "name": "ipython",
    "version": 3
   },
   "file_extension": ".py",
   "mimetype": "text/x-python",
   "name": "python",
   "nbconvert_exporter": "python",
   "pygments_lexer": "ipython3",
   "version": "3.7.3-final"
  }
 },
 "nbformat": 4,
 "nbformat_minor": 2
}