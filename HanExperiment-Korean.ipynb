{
 "cells": [
  {
   "cell_type": "markdown",
   "metadata": {},
   "source": [
    "# Import libraries and setup"
   ]
  },
  {
   "cell_type": "code",
   "execution_count": 140,
   "metadata": {
    "tags": []
   },
   "outputs": [
    {
     "name": "stdout",
     "output_type": "stream",
     "text": [
      "The rpy2.ipython extension is already loaded. To reload it, use:\n",
      "  %reload_ext rpy2.ipython\n"
     ]
    }
   ],
   "source": [
    "%load_ext rpy2.ipython\n",
    "import rpy2.rinterface\n",
    "import pandas as pd\n",
    "import numpy as np\n",
    "import matplotlib.pyplot as plt\n",
    "import seaborn as sns\n",
    "\n"
   ]
  },
  {
   "cell_type": "code",
   "execution_count": 3,
   "metadata": {},
   "outputs": [],
   "source": [
    "%matplotlib inline"
   ]
  },
  {
   "cell_type": "markdown",
   "metadata": {},
   "source": [
    "# Read in data and adjust dataframe"
   ]
  },
  {
   "cell_type": "code",
   "execution_count": 4,
   "metadata": {},
   "outputs": [
    {
     "data": {
      "text/html": [
       "<div>\n",
       "<style scoped>\n",
       "    .dataframe tbody tr th:only-of-type {\n",
       "        vertical-align: middle;\n",
       "    }\n",
       "\n",
       "    .dataframe tbody tr th {\n",
       "        vertical-align: top;\n",
       "    }\n",
       "\n",
       "    .dataframe thead th {\n",
       "        text-align: right;\n",
       "    }\n",
       "</style>\n",
       "<table border=\"1\" class=\"dataframe\">\n",
       "  <thead>\n",
       "    <tr style=\"text-align: right;\">\n",
       "      <th></th>\n",
       "      <th>Subject</th>\n",
       "      <th>Group</th>\n",
       "      <th>Age</th>\n",
       "      <th>Gender</th>\n",
       "      <th>Phase</th>\n",
       "      <th>TrialNum</th>\n",
       "      <th>KeyPress</th>\n",
       "      <th>Accuracy</th>\n",
       "      <th>CurrentScore</th>\n",
       "      <th>RT</th>\n",
       "      <th>Response</th>\n",
       "      <th>AffixUsed</th>\n",
       "      <th>StemAlternation</th>\n",
       "      <th>AlienWord</th>\n",
       "      <th>Picture</th>\n",
       "      <th>CorrectAffix</th>\n",
       "      <th>StemShouldAlternate</th>\n",
       "    </tr>\n",
       "  </thead>\n",
       "  <tbody>\n",
       "    <tr>\n",
       "      <th>0</th>\n",
       "      <td>NaN</td>\n",
       "      <td>NaN</td>\n",
       "      <td>NaN</td>\n",
       "      <td>NaN</td>\n",
       "      <td>NaN</td>\n",
       "      <td>NaN</td>\n",
       "      <td>NaN</td>\n",
       "      <td>NaN</td>\n",
       "      <td>NaN</td>\n",
       "      <td>NaN</td>\n",
       "      <td>NaN</td>\n",
       "      <td>NaN</td>\n",
       "      <td>NaN</td>\n",
       "      <td>NaN</td>\n",
       "      <td>NaN</td>\n",
       "      <td>NaN</td>\n",
       "      <td>NaN</td>\n",
       "    </tr>\n",
       "    <tr>\n",
       "      <th>1</th>\n",
       "      <td>11.0</td>\n",
       "      <td>1.0</td>\n",
       "      <td>26.0</td>\n",
       "      <td>m</td>\n",
       "      <td>affixedtest</td>\n",
       "      <td>1.0</td>\n",
       "      <td>a</td>\n",
       "      <td>0.0</td>\n",
       "      <td>205.0</td>\n",
       "      <td>6034</td>\n",
       "      <td>other_error</td>\n",
       "      <td>error</td>\n",
       "      <td>error</td>\n",
       "      <td>nijaku</td>\n",
       "      <td>melon2</td>\n",
       "      <td>ni</td>\n",
       "      <td>yes</td>\n",
       "    </tr>\n",
       "    <tr>\n",
       "      <th>2</th>\n",
       "      <td>NaN</td>\n",
       "      <td>NaN</td>\n",
       "      <td>NaN</td>\n",
       "      <td>NaN</td>\n",
       "      <td>NaN</td>\n",
       "      <td>NaN</td>\n",
       "      <td>NaN</td>\n",
       "      <td>NaN</td>\n",
       "      <td>NaN</td>\n",
       "      <td>NaN</td>\n",
       "      <td>NaN</td>\n",
       "      <td>NaN</td>\n",
       "      <td>NaN</td>\n",
       "      <td>NaN</td>\n",
       "      <td>NaN</td>\n",
       "      <td>NaN</td>\n",
       "      <td>NaN</td>\n",
       "    </tr>\n",
       "    <tr>\n",
       "      <th>3</th>\n",
       "      <td>11.0</td>\n",
       "      <td>1.0</td>\n",
       "      <td>26.0</td>\n",
       "      <td>m</td>\n",
       "      <td>affixedtest</td>\n",
       "      <td>2.0</td>\n",
       "      <td>f</td>\n",
       "      <td>1.0</td>\n",
       "      <td>215.0</td>\n",
       "      <td>5000</td>\n",
       "      <td>ba_correct</td>\n",
       "      <td>ba</td>\n",
       "      <td>no</td>\n",
       "      <td>bakuta</td>\n",
       "      <td>kitten2</td>\n",
       "      <td>ba</td>\n",
       "      <td>no</td>\n",
       "    </tr>\n",
       "    <tr>\n",
       "      <th>4</th>\n",
       "      <td>NaN</td>\n",
       "      <td>NaN</td>\n",
       "      <td>NaN</td>\n",
       "      <td>NaN</td>\n",
       "      <td>NaN</td>\n",
       "      <td>NaN</td>\n",
       "      <td>NaN</td>\n",
       "      <td>NaN</td>\n",
       "      <td>NaN</td>\n",
       "      <td>NaN</td>\n",
       "      <td>NaN</td>\n",
       "      <td>NaN</td>\n",
       "      <td>NaN</td>\n",
       "      <td>NaN</td>\n",
       "      <td>NaN</td>\n",
       "      <td>NaN</td>\n",
       "      <td>NaN</td>\n",
       "    </tr>\n",
       "  </tbody>\n",
       "</table>\n",
       "</div>"
      ],
      "text/plain": [
       "   Subject  Group   Age Gender        Phase  TrialNum KeyPress  Accuracy  \\\n",
       "0      NaN    NaN   NaN    NaN          NaN       NaN      NaN       NaN   \n",
       "1     11.0    1.0  26.0      m  affixedtest       1.0        a       0.0   \n",
       "2      NaN    NaN   NaN    NaN          NaN       NaN      NaN       NaN   \n",
       "3     11.0    1.0  26.0      m  affixedtest       2.0        f       1.0   \n",
       "4      NaN    NaN   NaN    NaN          NaN       NaN      NaN       NaN   \n",
       "\n",
       "   CurrentScore    RT     Response AffixUsed StemAlternation AlienWord  \\\n",
       "0           NaN   NaN          NaN       NaN             NaN       NaN   \n",
       "1         205.0  6034  other_error     error           error    nijaku   \n",
       "2           NaN   NaN          NaN       NaN             NaN       NaN   \n",
       "3         215.0  5000   ba_correct        ba              no    bakuta   \n",
       "4           NaN   NaN          NaN       NaN             NaN       NaN   \n",
       "\n",
       "   Picture CorrectAffix StemShouldAlternate  \n",
       "0      NaN          NaN                 NaN  \n",
       "1   melon2           ni                 yes  \n",
       "2      NaN          NaN                 NaN  \n",
       "3  kitten2           ba                  no  \n",
       "4      NaN          NaN                 NaN  "
      ]
     },
     "execution_count": 4,
     "metadata": {},
     "output_type": "execute_result"
    }
   ],
   "source": [
    "# Read in data\n",
    "df_orig = pd.read_csv('Experiment_result_final_1507.csv')\n",
    "df_orig.head()"
   ]
  },
  {
   "cell_type": "code",
   "execution_count": 5,
   "metadata": {
    "tags": []
   },
   "outputs": [
    {
     "name": "stdout",
     "output_type": "stream",
     "text": [
      "Number of participants:  325\n"
     ]
    }
   ],
   "source": [
    "# Grab only the English subjects (through sub #297) and remove pilot data, which was first 10 subjects\n",
    "df = df_orig[(df_orig['Subject'] > 10) & (df_orig['Subject'] < 407)].copy()\n",
    "df.head()\n",
    "print('Number of participants: ',df['Subject'].nunique())"
   ]
  },
  {
   "cell_type": "code",
   "execution_count": 6,
   "metadata": {
    "tags": []
   },
   "outputs": [
    {
     "name": "stdout",
     "output_type": "stream",
     "text": [
      "Number of unique participants remaining:  324\n",
      "Number of expected participants, based on number of trials:  324.0\n"
     ]
    },
    {
     "data": {
      "text/plain": [
       "array([ 11.,  12.,  13.,  14.,  15.,  16.,  17.,  18.,  19.,  20.,  22.,\n",
       "        23.,  24.,  25.,  26.,  27.,  28.,  29.,  31.,  32.,  33.,  34.,\n",
       "        35.,  36.,  39.,  41.,  42.,  44.,  45.,  49.,  51.,  52.,  53.,\n",
       "        55.,  56.,  57.,  60.,  61.,  62.,  63.,  64.,  65.,  67.,  70.,\n",
       "        71.,  72.,  73.,  74.,  75.,  76.,  77.,  80.,  81.,  83.,  84.,\n",
       "        85.,  86.,  87.,  90.,  91.,  92.,  94.,  96.,  98., 100., 101.,\n",
       "       102., 104., 105., 106., 108., 109., 112., 113., 114., 117., 118.,\n",
       "       120., 121., 122., 124., 125., 126., 127., 128., 129., 130., 132.,\n",
       "       133., 134., 135., 136., 137., 138., 139., 140., 141., 142., 143.,\n",
       "       144., 145., 146., 147., 148., 149., 150., 151., 152., 153., 154.,\n",
       "       155., 156., 157., 158., 159., 160., 161., 162., 163., 164., 165.,\n",
       "       166., 167., 169., 170., 171., 172., 173., 174., 175., 177., 178.,\n",
       "       179., 180., 182., 183., 184., 186., 188., 189., 190., 191., 192.,\n",
       "       194., 195., 196., 197., 198., 199., 200., 202., 203., 204., 206.,\n",
       "       207., 208., 209., 210., 211., 212., 213., 216., 217., 219., 221.,\n",
       "       222., 223., 224., 225., 226., 227., 228., 229., 230., 231., 232.,\n",
       "       234., 235., 236., 237., 238., 239., 240., 241., 242., 243., 244.,\n",
       "       245., 246., 247., 249., 250., 251., 252., 253., 254., 255., 256.,\n",
       "       257., 258., 260., 265., 268., 269., 271., 273., 274., 275., 276.,\n",
       "       277., 278., 279., 280., 282., 283., 284., 285., 286., 287., 292.,\n",
       "       293., 294., 295., 296., 297., 301., 303., 304., 305., 306., 307.,\n",
       "       308., 309., 310., 311., 312., 313., 314., 315., 316., 317., 318.,\n",
       "       320., 321., 322., 323., 324., 326., 327., 328., 329., 330., 331.,\n",
       "       332., 333., 334., 335., 336., 337., 338., 339., 340., 341., 342.,\n",
       "       343., 344., 345., 346., 347., 348., 349., 350., 351., 352., 353.,\n",
       "       354., 355., 356., 357., 358., 359., 360., 361., 362., 364., 365.,\n",
       "       366., 367., 368., 369., 370., 371., 372., 373., 374., 375., 376.,\n",
       "       377., 378., 379., 380., 381., 382., 383., 385., 386., 387., 389.,\n",
       "       391., 392., 393., 394., 395., 396., 397., 398., 399., 400., 401.,\n",
       "       402., 403., 404., 405., 406.])"
      ]
     },
     "execution_count": 6,
     "metadata": {},
     "output_type": "execute_result"
    }
   ],
   "source": [
    "# Remove participants to be excluded due to inclusion/exclusion criteria\n",
    "# Most of these (all except 1) were already removed from the csv file, so only 1 more gets removed\n",
    "exclude_list = [21,30,107,110,111,\n",
    "                37,38,40,43,46,47,48,50,54,58,59,95,97,99,103,\n",
    "                66,68,69,78,79,82,88,89,93,\n",
    "                115,116,119,123,131,\n",
    "                168,\n",
    "                176,181,185,187,193,\n",
    "                233,248,\n",
    "                201,205,214,215,218,220,\n",
    "                261,262,263,264,266,267,270,272,281,288,289,290,291,\n",
    "                300,302,319,325,363,384,388,390]\n",
    "df = df[~df['Subject'].isin(exclude_list)]\n",
    "\n",
    "# Check that the numbers add up in terms of data and # of participants\n",
    "print(\"Number of unique participants remaining: \", len(df['Subject'].unique()))\n",
    "print(\"Number of expected participants, based on number of trials: \", len(df)/60)\n",
    "\n",
    "\n",
    "\n",
    "# Show the unique subjects remaining\n",
    "df.Subject.unique()"
   ]
  },
  {
   "cell_type": "code",
   "execution_count": 7,
   "metadata": {},
   "outputs": [
    {
     "name": "stdout",
     "output_type": "stream",
     "text": [
      "number of subject in Korean data: 99\n"
     ]
    }
   ],
   "source": [
    "dfk=df[(df['Subject']>300) & (df['Subject']<407)].copy()\n",
    "print('number of subject in Korean data:', len(dfk['Subject'].unique()))\n"
   ]
  },
  {
   "cell_type": "code",
   "execution_count": 8,
   "metadata": {},
   "outputs": [
    {
     "data": {
      "text/plain": [
       "1        False\n",
       "3        False\n",
       "5        False\n",
       "7        False\n",
       "9        False\n",
       "         ...  \n",
       "38991    False\n",
       "38993    False\n",
       "38995    False\n",
       "38997    False\n",
       "38999    False\n",
       "Name: Subject, Length: 19440, dtype: bool"
      ]
     },
     "execution_count": 8,
     "metadata": {},
     "output_type": "execute_result"
    }
   ],
   "source": [
    "df['Subject'] ==205"
   ]
  },
  {
   "cell_type": "code",
   "execution_count": 9,
   "metadata": {
    "tags": []
   },
   "outputs": [
    {
     "name": "stdout",
     "output_type": "stream",
     "text": [
      "Number of unique women participants remaining: 226.0\n"
     ]
    },
    {
     "data": {
      "text/plain": [
       "1        34.155556\n",
       "3        34.155556\n",
       "5        34.155556\n",
       "7        34.155556\n",
       "9        34.155556\n",
       "           ...    \n",
       "38991    34.155556\n",
       "38993    34.155556\n",
       "38995    34.155556\n",
       "38997    34.155556\n",
       "38999    34.155556\n",
       "Name: total, Length: 19440, dtype: float64"
      ]
     },
     "execution_count": 9,
     "metadata": {},
     "output_type": "execute_result"
    }
   ],
   "source": [
    "#Show the number of female subject\n",
    "dfw = df[(df['Gender'] == 'f')]\n",
    "dfw.head()\n",
    "print(\"Number of unique women participants remaining:\" , len(dfw)/60)\n",
    "#show the mean age of all remaining subject\n",
    "df['total'] = df['Age'].sum()\n",
    "(df['total'].div(60)).div(225)"
   ]
  },
  {
   "cell_type": "code",
   "execution_count": 10,
   "metadata": {},
   "outputs": [
    {
     "name": "stdout",
     "output_type": "stream",
     "text": [
      "number of female participants: 65.0\n",
      "the mean age of the participant: 27121    23.535354\n",
      "27123    23.535354\n",
      "27125    23.535354\n",
      "27127    23.535354\n",
      "27129    23.535354\n",
      "           ...    \n",
      "38991    23.535354\n",
      "38993    23.535354\n",
      "38995    23.535354\n",
      "38997    23.535354\n",
      "38999    23.535354\n",
      "Name: sumage, Length: 5940, dtype: float64\n"
     ]
    }
   ],
   "source": [
    "##Number of female and the average age of Korean data\n",
    "dfkw=dfk[(dfk['Gender'] =='f')]\n",
    "print(\"number of female participants:\", len(dfkw)/60)\n",
    "\n",
    "dfk['sumage']=dfk['Age'].sum()\n",
    "print(\"the mean age of the participant:\", (dfk['sumage']/60)/99)"
   ]
  },
  {
   "cell_type": "code",
   "execution_count": 10,
   "metadata": {},
   "outputs": [
    {
     "data": {
      "text/html": [
       "<div>\n",
       "<style scoped>\n",
       "    .dataframe tbody tr th:only-of-type {\n",
       "        vertical-align: middle;\n",
       "    }\n",
       "\n",
       "    .dataframe tbody tr th {\n",
       "        vertical-align: top;\n",
       "    }\n",
       "\n",
       "    .dataframe thead th {\n",
       "        text-align: right;\n",
       "    }\n",
       "</style>\n",
       "<table border=\"1\" class=\"dataframe\">\n",
       "  <thead>\n",
       "    <tr style=\"text-align: right;\">\n",
       "      <th></th>\n",
       "      <th>Subject</th>\n",
       "      <th>Group</th>\n",
       "      <th>Age</th>\n",
       "      <th>Gender</th>\n",
       "      <th>Phase</th>\n",
       "      <th>TrialNum</th>\n",
       "      <th>KeyPress</th>\n",
       "      <th>Accuracy</th>\n",
       "      <th>CurrentScore</th>\n",
       "      <th>RT</th>\n",
       "      <th>Response</th>\n",
       "      <th>AffixUsed</th>\n",
       "      <th>StemAlternation</th>\n",
       "      <th>AlienWord</th>\n",
       "      <th>Picture</th>\n",
       "      <th>CorrectAffix</th>\n",
       "      <th>total</th>\n",
       "    </tr>\n",
       "  </thead>\n",
       "  <tbody>\n",
       "    <tr>\n",
       "      <th>1</th>\n",
       "      <td>11.0</td>\n",
       "      <td>1.0</td>\n",
       "      <td>26.0</td>\n",
       "      <td>m</td>\n",
       "      <td>affixedtest</td>\n",
       "      <td>1.0</td>\n",
       "      <td>a</td>\n",
       "      <td>0.0</td>\n",
       "      <td>205.0</td>\n",
       "      <td>6034</td>\n",
       "      <td>other_error</td>\n",
       "      <td>error</td>\n",
       "      <td>error</td>\n",
       "      <td>nijaku</td>\n",
       "      <td>melon2</td>\n",
       "      <td>ni</td>\n",
       "      <td>461100.0</td>\n",
       "    </tr>\n",
       "    <tr>\n",
       "      <th>3</th>\n",
       "      <td>11.0</td>\n",
       "      <td>1.0</td>\n",
       "      <td>26.0</td>\n",
       "      <td>m</td>\n",
       "      <td>affixedtest</td>\n",
       "      <td>2.0</td>\n",
       "      <td>f</td>\n",
       "      <td>1.0</td>\n",
       "      <td>215.0</td>\n",
       "      <td>5000</td>\n",
       "      <td>ba_correct</td>\n",
       "      <td>ba</td>\n",
       "      <td>no</td>\n",
       "      <td>bakuta</td>\n",
       "      <td>kitten2</td>\n",
       "      <td>ba</td>\n",
       "      <td>461100.0</td>\n",
       "    </tr>\n",
       "    <tr>\n",
       "      <th>5</th>\n",
       "      <td>11.0</td>\n",
       "      <td>1.0</td>\n",
       "      <td>26.0</td>\n",
       "      <td>m</td>\n",
       "      <td>affixedtest</td>\n",
       "      <td>3.0</td>\n",
       "      <td>j</td>\n",
       "      <td>0.0</td>\n",
       "      <td>220.0</td>\n",
       "      <td>7279</td>\n",
       "      <td>ni_nochange</td>\n",
       "      <td>ni</td>\n",
       "      <td>no</td>\n",
       "      <td>bagapi</td>\n",
       "      <td>fork2</td>\n",
       "      <td>ba</td>\n",
       "      <td>461100.0</td>\n",
       "    </tr>\n",
       "    <tr>\n",
       "      <th>7</th>\n",
       "      <td>11.0</td>\n",
       "      <td>1.0</td>\n",
       "      <td>26.0</td>\n",
       "      <td>m</td>\n",
       "      <td>affixedtest</td>\n",
       "      <td>4.0</td>\n",
       "      <td>f</td>\n",
       "      <td>1.0</td>\n",
       "      <td>230.0</td>\n",
       "      <td>3329</td>\n",
       "      <td>ba_correct</td>\n",
       "      <td>ba</td>\n",
       "      <td>no</td>\n",
       "      <td>baputi</td>\n",
       "      <td>bird2</td>\n",
       "      <td>ba</td>\n",
       "      <td>461100.0</td>\n",
       "    </tr>\n",
       "    <tr>\n",
       "      <th>9</th>\n",
       "      <td>11.0</td>\n",
       "      <td>1.0</td>\n",
       "      <td>26.0</td>\n",
       "      <td>m</td>\n",
       "      <td>affixedtest</td>\n",
       "      <td>5.0</td>\n",
       "      <td>f</td>\n",
       "      <td>1.0</td>\n",
       "      <td>240.0</td>\n",
       "      <td>5792</td>\n",
       "      <td>ba_correct</td>\n",
       "      <td>ba</td>\n",
       "      <td>no</td>\n",
       "      <td>bagaku</td>\n",
       "      <td>melon2</td>\n",
       "      <td>ba</td>\n",
       "      <td>461100.0</td>\n",
       "    </tr>\n",
       "  </tbody>\n",
       "</table>\n",
       "</div>"
      ],
      "text/plain": [
       "   Subject  Group   Age Gender        Phase  TrialNum KeyPress  Accuracy  \\\n",
       "1     11.0    1.0  26.0      m  affixedtest       1.0        a       0.0   \n",
       "3     11.0    1.0  26.0      m  affixedtest       2.0        f       1.0   \n",
       "5     11.0    1.0  26.0      m  affixedtest       3.0        j       0.0   \n",
       "7     11.0    1.0  26.0      m  affixedtest       4.0        f       1.0   \n",
       "9     11.0    1.0  26.0      m  affixedtest       5.0        f       1.0   \n",
       "\n",
       "   CurrentScore    RT     Response AffixUsed StemAlternation AlienWord  \\\n",
       "1         205.0  6034  other_error     error           error    nijaku   \n",
       "3         215.0  5000   ba_correct        ba              no    bakuta   \n",
       "5         220.0  7279  ni_nochange        ni              no    bagapi   \n",
       "7         230.0  3329   ba_correct        ba              no    baputi   \n",
       "9         240.0  5792   ba_correct        ba              no    bagaku   \n",
       "\n",
       "   Picture CorrectAffix     total  \n",
       "1   melon2           ni  461100.0  \n",
       "3  kitten2           ba  461100.0  \n",
       "5    fork2           ba  461100.0  \n",
       "7    bird2           ba  461100.0  \n",
       "9   melon2           ba  461100.0  "
      ]
     },
     "execution_count": 10,
     "metadata": {},
     "output_type": "execute_result"
    }
   ],
   "source": [
    "# Drop the StemShouldAlternate column because it seems to have errors \n",
    "# (and we will recalculate an equivalant based on other columns)\n",
    "df.drop(columns=['StemShouldAlternate'],inplace=True)\n",
    "df.head()"
   ]
  },
  {
   "cell_type": "markdown",
   "metadata": {},
   "source": [
    "### Check the dataframe for errors"
   ]
  },
  {
   "cell_type": "code",
   "execution_count": 12,
   "metadata": {},
   "outputs": [
    {
     "data": {
      "text/plain": [
       "Subject  Phase      \n",
       "406.0    affixedtest    60\n",
       "165.0    affixedtest    60\n",
       "147.0    affixedtest    60\n",
       "148.0    affixedtest    60\n",
       "149.0    affixedtest    60\n",
       "                        ..\n",
       "286.0    affixedtest    60\n",
       "287.0    affixedtest    60\n",
       "292.0    affixedtest    60\n",
       "293.0    affixedtest    60\n",
       "11.0     affixedtest    60\n",
       "Name: Phase, Length: 324, dtype: int64"
      ]
     },
     "execution_count": 12,
     "metadata": {},
     "output_type": "execute_result"
    }
   ],
   "source": [
    "# Check that each subject has 60 trials as expected\n",
    "df.groupby('Subject')['Phase'].value_counts().sort_values(ascending=False)"
   ]
  },
  {
   "cell_type": "code",
   "execution_count": 13,
   "metadata": {},
   "outputs": [
    {
     "data": {
      "text/plain": [
       "Group  Subject\n",
       "1.0    11.0       60\n",
       "       12.0       60\n",
       "       13.0       60\n",
       "       14.0       60\n",
       "       15.0       60\n",
       "                  ..\n",
       "13.0   402.0      60\n",
       "       403.0      60\n",
       "       404.0      60\n",
       "       405.0      60\n",
       "       406.0      60\n",
       "Name: Subject, Length: 324, dtype: int64"
      ]
     },
     "execution_count": 13,
     "metadata": {},
     "output_type": "execute_result"
    }
   ],
   "source": [
    "df.groupby('Group')['Subject'].value_counts()"
   ]
  },
  {
   "cell_type": "code",
   "execution_count": 14,
   "metadata": {},
   "outputs": [
    {
     "data": {
      "text/plain": [
       "54.0      60\n",
       "37.0      60\n",
       "56.0      60\n",
       "57.0      60\n",
       "46.0      60\n",
       "49.0      60\n",
       "5.0       60\n",
       "44.0      60\n",
       "45.0      60\n",
       "58.0      60\n",
       "47.0      60\n",
       "59.0      60\n",
       "35.0     120\n",
       "33.0     120\n",
       "38.0     120\n",
       "39.0     120\n",
       "43.0     120\n",
       "32.0     120\n",
       "29.0     180\n",
       "30.0     180\n",
       "31.0     180\n",
       "27.0     300\n",
       "28.0     480\n",
       "26.0     720\n",
       "18.0     900\n",
       "19.0    1320\n",
       "25.0    1380\n",
       "24.0    1620\n",
       "21.0    1920\n",
       "23.0    2160\n",
       "20.0    3180\n",
       "22.0    3480\n",
       "Name: Age, dtype: int64"
      ]
     },
     "execution_count": 14,
     "metadata": {},
     "output_type": "execute_result"
    }
   ],
   "source": [
    "### Check that each column has only the expected values\n",
    "# Age - should be numeric\n",
    "df.Age.value_counts().sort_values()"
   ]
  },
  {
   "cell_type": "code",
   "execution_count": 15,
   "metadata": {},
   "outputs": [
    {
     "data": {
      "text/plain": [
       "m     5880\n",
       "f    13560\n",
       "Name: Gender, dtype: int64"
      ]
     },
     "execution_count": 15,
     "metadata": {},
     "output_type": "execute_result"
    }
   ],
   "source": [
    "# Gender, should be m, f, or o\n",
    "df.Gender.value_counts().sort_values()"
   ]
  },
  {
   "cell_type": "code",
   "execution_count": 16,
   "metadata": {},
   "outputs": [
    {
     "data": {
      "text/plain": [
       "affixedtest    19440\n",
       "Name: Phase, dtype: int64"
      ]
     },
     "execution_count": 16,
     "metadata": {},
     "output_type": "execute_result"
    }
   ],
   "source": [
    "# Phase, should be only 'affixedtest'\n",
    "df.Phase.value_counts().sort_values()"
   ]
  },
  {
   "cell_type": "code",
   "execution_count": 17,
   "metadata": {},
   "outputs": [
    {
     "data": {
      "text/plain": [
       "1.0     324\n",
       "2.0     324\n",
       "3.0     324\n",
       "4.0     324\n",
       "5.0     324\n",
       "6.0     324\n",
       "7.0     324\n",
       "8.0     324\n",
       "9.0     324\n",
       "10.0    324\n",
       "11.0    324\n",
       "12.0    324\n",
       "13.0    324\n",
       "14.0    324\n",
       "15.0    324\n",
       "16.0    324\n",
       "17.0    324\n",
       "18.0    324\n",
       "19.0    324\n",
       "20.0    324\n",
       "21.0    324\n",
       "22.0    324\n",
       "23.0    324\n",
       "24.0    324\n",
       "25.0    324\n",
       "26.0    324\n",
       "27.0    324\n",
       "28.0    324\n",
       "29.0    324\n",
       "30.0    324\n",
       "31.0    324\n",
       "32.0    324\n",
       "33.0    324\n",
       "34.0    324\n",
       "35.0    324\n",
       "36.0    324\n",
       "37.0    324\n",
       "38.0    324\n",
       "39.0    324\n",
       "40.0    324\n",
       "41.0    324\n",
       "42.0    324\n",
       "43.0    324\n",
       "44.0    324\n",
       "45.0    324\n",
       "46.0    324\n",
       "47.0    324\n",
       "48.0    324\n",
       "49.0    324\n",
       "50.0    324\n",
       "51.0    324\n",
       "52.0    324\n",
       "53.0    324\n",
       "54.0    324\n",
       "55.0    324\n",
       "56.0    324\n",
       "57.0    324\n",
       "58.0    324\n",
       "59.0    324\n",
       "60.0    324\n",
       "Name: TrialNum, dtype: int64"
      ]
     },
     "execution_count": 17,
     "metadata": {},
     "output_type": "execute_result"
    }
   ],
   "source": [
    "# TrialNum, should be 1-60 only\n",
    "df.TrialNum.value_counts().sort_index()"
   ]
  },
  {
   "cell_type": "code",
   "execution_count": 18,
   "metadata": {},
   "outputs": [
    {
     "data": {
      "text/plain": [
       "a        188\n",
       "v        197\n",
       "none     350\n",
       "r        742\n",
       "u        856\n",
       "m       1573\n",
       "j       7135\n",
       "f       8399\n",
       "Name: KeyPress, dtype: int64"
      ]
     },
     "execution_count": 18,
     "metadata": {},
     "output_type": "execute_result"
    }
   ],
   "source": [
    "# KeyPress, should be from {v, a, r, u, m, j, f, none}\n",
    "df.KeyPress.value_counts().sort_values()"
   ]
  },
  {
   "cell_type": "code",
   "execution_count": 19,
   "metadata": {},
   "outputs": [
    {
     "data": {
      "text/plain": [
       "1.0     8682\n",
       "0.0    10758\n",
       "Name: Accuracy, dtype: int64"
      ]
     },
     "execution_count": 19,
     "metadata": {},
     "output_type": "execute_result"
    }
   ],
   "source": [
    "# Accuracy, should be from {0, 1}\n",
    "df.Accuracy.value_counts().sort_values()"
   ]
  },
  {
   "cell_type": "code",
   "execution_count": 20,
   "metadata": {},
   "outputs": [
    {
     "data": {
      "text/plain": [
       "True    19089\n",
       "Name: RT, dtype: int64"
      ]
     },
     "execution_count": 20,
     "metadata": {},
     "output_type": "execute_result"
    }
   ],
   "source": [
    "# RT, should all be numeric or timeout\n",
    "df[df.RT != 'timeout'].RT.str.isnumeric().value_counts().sort_values()"
   ]
  },
  {
   "cell_type": "code",
   "execution_count": 21,
   "metadata": {
    "tags": []
   },
   "outputs": [
    {
     "name": "stdout",
     "output_type": "stream",
     "text": [
      "other_error     188\n",
      "ba_change       197\n",
      "none            350\n",
      "ba_error        742\n",
      "ni_error        855\n",
      "ni_change      1575\n",
      "ni_nochange    7134\n",
      "ba_correct     8399\n",
      "Name: Response, dtype: int64\n",
      "\n",
      "\n",
      "Total 'error':  188\n",
      "Total 'none':  350\n",
      "Total 'ba':  9338\n",
      "Total 'ni':  9564\n"
     ]
    }
   ],
   "source": [
    "# Response, should match the counts from KeyPress above\n",
    "respdf = df.Response.value_counts().sort_values()\n",
    "print(respdf)\n",
    "\n",
    "print('\\n')\n",
    "print(\"Total 'error': \", respdf.iloc[0])\n",
    "print(\"Total 'none': \", respdf.iloc[2])\n",
    "print(\"Total 'ba': \", respdf.iloc[1]+respdf.iloc[3]+respdf.iloc[-1])\n",
    "print(\"Total 'ni': \", respdf.iloc[4]+respdf.iloc[5]+respdf.iloc[6])"
   ]
  },
  {
   "cell_type": "code",
   "execution_count": 22,
   "metadata": {},
   "outputs": [
    {
     "data": {
      "text/plain": [
       "error     188\n",
       "none      350\n",
       "ba       9338\n",
       "ni       9564\n",
       "Name: AffixUsed, dtype: int64"
      ]
     },
     "execution_count": 22,
     "metadata": {},
     "output_type": "execute_result"
    }
   ],
   "source": [
    "# AffixUsed, should be from {ba, ni, error, none}; values should match with above.\n",
    "df.AffixUsed.value_counts().sort_values()"
   ]
  },
  {
   "cell_type": "code",
   "execution_count": 23,
   "metadata": {},
   "outputs": [
    {
     "data": {
      "text/plain": [
       "na         350\n",
       "yes       1772\n",
       "error     1785\n",
       "no       15533\n",
       "Name: StemAlternation, dtype: int64"
      ]
     },
     "execution_count": 23,
     "metadata": {},
     "output_type": "execute_result"
    }
   ],
   "source": [
    "# StemAlternation, should be {yes, no, error, na}; na should match none\n",
    "df.StemAlternation.value_counts().sort_values()"
   ]
  },
  {
   "cell_type": "code",
   "execution_count": 24,
   "metadata": {},
   "outputs": [
    {
     "data": {
      "text/plain": [
       "1        6\n",
       "24929    6\n",
       "24931    6\n",
       "24933    6\n",
       "24937    6\n",
       "        ..\n",
       "21051    7\n",
       "24713    7\n",
       "3539     7\n",
       "7707     7\n",
       "8927     7\n",
       "Name: AlienWord, Length: 19440, dtype: int64"
      ]
     },
     "execution_count": 24,
     "metadata": {},
     "output_type": "execute_result"
    }
   ],
   "source": [
    "# Check number of characters in AlienWord. Should be 6 or 7 for all.\n",
    "df.AlienWord.apply(lambda x: len(x)).sort_values()"
   ]
  },
  {
   "cell_type": "code",
   "execution_count": 25,
   "metadata": {},
   "outputs": [
    {
     "data": {
      "text/plain": [
       "array(['babagu', 'bachimu', 'badapi', 'bagaku', 'bagapi', 'bajapi',\n",
       "       'bakimu', 'bakuta', 'bamipa', 'baniba', 'baputi', 'batimu',\n",
       "       'nibagu', 'nichimu', 'nichuta', 'nidapi', 'nigaku', 'nigapi',\n",
       "       'nijaku', 'nijapi', 'nikimu', 'nikuta', 'nimipa', 'niniba',\n",
       "       'niputi', 'nitimu'], dtype=object)"
      ]
     },
     "execution_count": 25,
     "metadata": {},
     "output_type": "execute_result"
    }
   ],
   "source": [
    "df.AlienWord.sort_values().unique()"
   ]
  },
  {
   "cell_type": "code",
   "execution_count": 26,
   "metadata": {},
   "outputs": [
    {
     "data": {
      "text/plain": [
       "carrot2        1944\n",
       "egg2           1944\n",
       "bird2          1944\n",
       "bucket2        1944\n",
       "melon2         1944\n",
       "strawberry2    1944\n",
       "pillow2        1944\n",
       "flower2        1944\n",
       "kitten2        1944\n",
       "fork2          1944\n",
       "Name: Picture, dtype: int64"
      ]
     },
     "execution_count": 26,
     "metadata": {},
     "output_type": "execute_result"
    }
   ],
   "source": [
    "# Picture, should be one of 10 pictures, occurring equally.\n",
    "df.Picture.value_counts().sort_values()"
   ]
  },
  {
   "cell_type": "code",
   "execution_count": 27,
   "metadata": {},
   "outputs": [
    {
     "data": {
      "text/plain": [
       "Group  CorrectAffix\n",
       "1.0    ba              1000\n",
       "       ni               500\n",
       "2.0    ba               720\n",
       "       ni               720\n",
       "3.0    ba               520\n",
       "       ni              1040\n",
       "4.0    ba              1040\n",
       "       ni               520\n",
       "5.0    ba               750\n",
       "       ni               750\n",
       "6.0    ba               480\n",
       "       ni               960\n",
       "7.0    ba               750\n",
       "       ni               750\n",
       "8.0    ba              1000\n",
       "       ni               500\n",
       "9.0    ba               500\n",
       "       ni              1000\n",
       "10.0   ba              1000\n",
       "       ni               500\n",
       "11.0   ba               501\n",
       "       ni               999\n",
       "12.0   ba              1000\n",
       "       ni               500\n",
       "13.0   ba               480\n",
       "       ni               960\n",
       "Name: CorrectAffix, dtype: int64"
      ]
     },
     "execution_count": 27,
     "metadata": {},
     "output_type": "execute_result"
    }
   ],
   "source": [
    "# Correct Affix, should be from {ba, ni}; values should match proportion breakdown in each group\n",
    "df.groupby('Group').CorrectAffix.value_counts().sort_index()"
   ]
  },
  {
   "cell_type": "code",
   "execution_count": 28,
   "metadata": {},
   "outputs": [
    {
     "data": {
      "text/html": [
       "<div>\n",
       "<style scoped>\n",
       "    .dataframe tbody tr th:only-of-type {\n",
       "        vertical-align: middle;\n",
       "    }\n",
       "\n",
       "    .dataframe tbody tr th {\n",
       "        vertical-align: top;\n",
       "    }\n",
       "\n",
       "    .dataframe thead th {\n",
       "        text-align: right;\n",
       "    }\n",
       "</style>\n",
       "<table border=\"1\" class=\"dataframe\">\n",
       "  <thead>\n",
       "    <tr style=\"text-align: right;\">\n",
       "      <th></th>\n",
       "      <th>Subject</th>\n",
       "      <th>Group</th>\n",
       "      <th>Age</th>\n",
       "      <th>Gender</th>\n",
       "      <th>Phase</th>\n",
       "      <th>TrialNum</th>\n",
       "      <th>KeyPress</th>\n",
       "      <th>Accuracy</th>\n",
       "      <th>CurrentScore</th>\n",
       "      <th>RT</th>\n",
       "      <th>Response</th>\n",
       "      <th>AffixUsed</th>\n",
       "      <th>StemAlternation</th>\n",
       "      <th>AlienWord</th>\n",
       "      <th>Picture</th>\n",
       "      <th>CorrectAffix</th>\n",
       "      <th>total</th>\n",
       "    </tr>\n",
       "  </thead>\n",
       "  <tbody>\n",
       "    <tr>\n",
       "      <th>24719</th>\n",
       "      <td>271.0</td>\n",
       "      <td>9.0</td>\n",
       "      <td>22.0</td>\n",
       "      <td>f</td>\n",
       "      <td>affixedtest</td>\n",
       "      <td>60.0</td>\n",
       "      <td>r</td>\n",
       "      <td>0.0</td>\n",
       "      <td>530.0</td>\n",
       "      <td>NaN</td>\n",
       "      <td>ba_error</td>\n",
       "      <td>ba</td>\n",
       "      <td>error</td>\n",
       "      <td>nibagu</td>\n",
       "      <td>bucket2</td>\n",
       "      <td>ni</td>\n",
       "      <td>461100.0</td>\n",
       "    </tr>\n",
       "  </tbody>\n",
       "</table>\n",
       "</div>"
      ],
      "text/plain": [
       "       Subject  Group   Age Gender        Phase  TrialNum KeyPress  Accuracy  \\\n",
       "24719    271.0    9.0  22.0      f  affixedtest      60.0        r       0.0   \n",
       "\n",
       "       CurrentScore   RT  Response AffixUsed StemAlternation AlienWord  \\\n",
       "24719         530.0  NaN  ba_error        ba           error    nibagu   \n",
       "\n",
       "       Picture CorrectAffix     total  \n",
       "24719  bucket2           ni  461100.0  "
      ]
     },
     "execution_count": 28,
     "metadata": {},
     "output_type": "execute_result"
    }
   ],
   "source": [
    "# Check for null cells\n",
    "df[df.isnull().any(axis=1)]\n",
    "# The null cell is due to value missing in one of the original data files for Sub 271, trial 60 \n",
    "# (not clear why it is missing)"
   ]
  },
  {
   "cell_type": "code",
   "execution_count": 29,
   "metadata": {},
   "outputs": [
    {
     "data": {
      "text/plain": [
       "Group  CorrectAffix\n",
       "1.0    ba              1000\n",
       "       ni               500\n",
       "2.0    ba               720\n",
       "       ni               720\n",
       "3.0    ni              1040\n",
       "       ba               520\n",
       "4.0    ba              1040\n",
       "       ni               520\n",
       "5.0    ba               750\n",
       "       ni               750\n",
       "6.0    ni               960\n",
       "       ba               480\n",
       "7.0    ba               750\n",
       "       ni               750\n",
       "8.0    ba              1000\n",
       "       ni               500\n",
       "9.0    ni              1000\n",
       "       ba               500\n",
       "10.0   ba              1000\n",
       "       ni               500\n",
       "11.0   ni               999\n",
       "       ba               501\n",
       "12.0   ba              1000\n",
       "       ni               500\n",
       "13.0   ni               960\n",
       "       ba               480\n",
       "Name: CorrectAffix, dtype: int64"
      ]
     },
     "execution_count": 29,
     "metadata": {},
     "output_type": "execute_result"
    }
   ],
   "source": [
    "df.groupby('Group').CorrectAffix.value_counts()"
   ]
  },
  {
   "cell_type": "code",
   "execution_count": 30,
   "metadata": {},
   "outputs": [
    {
     "data": {
      "text/plain": [
       "19439"
      ]
     },
     "execution_count": 30,
     "metadata": {},
     "output_type": "execute_result"
    }
   ],
   "source": [
    "# Remove rows with null cells\n",
    "df = df[df.notnull().all(axis=1)]\n",
    "len(df)"
   ]
  },
  {
   "cell_type": "code",
   "execution_count": 31,
   "metadata": {},
   "outputs": [
    {
     "data": {
      "text/plain": [
       "timeout    350\n",
       "2590        35\n",
       "3241        33\n",
       "3190        33\n",
       "2221        32\n",
       "          ... \n",
       "7639         1\n",
       "3575         1\n",
       "1076         1\n",
       "8652         1\n",
       "6083         1\n",
       "Name: RT, Length: 5176, dtype: int64"
      ]
     },
     "execution_count": 31,
     "metadata": {},
     "output_type": "execute_result"
    }
   ],
   "source": [
    "df.RT.value_counts()"
   ]
  },
  {
   "cell_type": "code",
   "execution_count": 32,
   "metadata": {},
   "outputs": [
    {
     "data": {
      "text/plain": [
       "no       15533\n",
       "error     1784\n",
       "yes       1772\n",
       "na         350\n",
       "Name: StemAlternation, dtype: int64"
      ]
     },
     "execution_count": 32,
     "metadata": {},
     "output_type": "execute_result"
    }
   ],
   "source": [
    "df.StemAlternation.value_counts()"
   ]
  },
  {
   "cell_type": "code",
   "execution_count": 33,
   "metadata": {},
   "outputs": [],
   "source": [
    "# Remove data where a timeout (no response in time period) was recorded\n",
    "df = df[df['RT']!='timeout']\n",
    "\n",
    "# Remove errors\n",
    "df = df[df['StemAlternation'] != 'error']"
   ]
  },
  {
   "cell_type": "code",
   "execution_count": 34,
   "metadata": {
    "tags": []
   },
   "outputs": [
    {
     "name": "stdout",
     "output_type": "stream",
     "text": [
      "17305\n"
     ]
    }
   ],
   "source": [
    "# Check number of rows in dataframe remaining\n",
    "print(len(df))\n"
   ]
  },
  {
   "cell_type": "markdown",
   "metadata": {},
   "source": [
    "### Add columns to df"
   ]
  },
  {
   "cell_type": "code",
   "execution_count": 35,
   "metadata": {},
   "outputs": [],
   "source": [
    "# Add column for whether ni- was used\n",
    "df['UsedNi'] = df['AffixUsed'].apply(lambda x: 1 if x=='ni' else 0)"
   ]
  },
  {
   "cell_type": "code",
   "execution_count": 36,
   "metadata": {},
   "outputs": [],
   "source": [
    "###make groups Alternation type + Prefix Frequency\n",
    "conditions  = [\n",
    "    df.Subject.isin(list(range(11,21))+list(range(22,30))+[31,32,108,109,112,113,114]),\n",
    "    df.Subject.isin([33,34,35,36,39,41,42,44,45,49,51,52,53,55,56,57,96,98,100,101,102,104,105,106]),\n",
    "    df.Subject.isin(list(range(60,66))+[67]+list(range(70,78))+[80,81,83,84,85,86,87,90,91,92,94]),\n",
    "    df.Subject.isin([117,118,120,121,122]+list(range(124,131))+[132,133,134,135,136,139,143,144,146,147,148,149,150,151]),\n",
    "    df.Subject.isin([137,138,140,141,142,145]+list(range(152,168))+[169,170,171]),\n",
    "    df.Subject.isin([172,173,174,175,177,178,179,180,182,183,184,186,188,189,190,191,192,194,195,196,197,198,199,200]),\n",
    "    df.Subject.isin([232]+list(range(234,248))+list(range(249,259))),\n",
    "    df.Subject.isin([202,203,204]+list(range(206,214))+[216,217,219]+list(range(221,232))),\n",
    "    df.Subject.isin([260,265,268,269,271]+list(range(273,281))+[282,283,284,285,286,287]+list(range(292,298))),\n",
    "    df.Subject.isin([301]+list(range(303,316))+list(range(349, 360))),\n",
    "    df.Subject.isin([316,317,318,320,321,322,323,324,326,327,328,360,361,362]+list(range(364,375))),\n",
    "    df.Subject.isin([329,330]+list(range(332,340))+list(range(375,384))+[385,386,387,389,391,392]),\n",
    "    df.Subject.isin([331]+list(range(340,349))+ list(range(393,398))+list(range(398,407)))\n",
    "]\n",
    "groups = ['freqba_alt_nonneut',\n",
    "          '5050_alt_nonneut',\n",
    "          'freqni_alt_nonneut',\n",
    "          'freqba_nonalt_nonneut',\n",
    "          '5050_nonalt_nonneut',\n",
    "          'freqni_nonalt_nonneut',\n",
    "          'freqba_neut',\n",
    "          '5050_neut',\n",
    "          'freqni_neut',\n",
    "          'freqba_alt_nonneut_k',\n",
    "          'freqni_alt_nonneut_k',\n",
    "          'freqba_neut_k',\n",
    "          'freqni_neut_k'\n",
    "]\n",
    "\n",
    "df['Group'] = np.select(conditions,groups)"
   ]
  },
  {
   "cell_type": "code",
   "execution_count": 37,
   "metadata": {},
   "outputs": [
    {
     "data": {
      "text/plain": [
       "Group\n",
       "5050_alt_nonneut         24\n",
       "5050_neut                25\n",
       "5050_nonalt_nonneut      25\n",
       "freqba_alt_nonneut       25\n",
       "freqba_alt_nonneut_k     25\n",
       "freqba_neut              25\n",
       "freqba_neut_k            25\n",
       "freqba_nonalt_nonneut    26\n",
       "freqni_alt_nonneut       26\n",
       "freqni_alt_nonneut_k     25\n",
       "freqni_neut              25\n",
       "freqni_neut_k            24\n",
       "freqni_nonalt_nonneut    24\n",
       "Name: Subject, dtype: int64"
      ]
     },
     "execution_count": 37,
     "metadata": {},
     "output_type": "execute_result"
    }
   ],
   "source": [
    "# Check number of participants in each group\n",
    "df.groupby('Group')['Subject'].nunique()"
   ]
  },
  {
   "cell_type": "code",
   "execution_count": 38,
   "metadata": {},
   "outputs": [],
   "source": [
    "#\\ Devide Prefix Frequency by Groups##\n",
    "conditions=[\n",
    "    df.Group.isin(['5050_alt_nonneut', '5050_neut','5050_nonalt_nonneut']),\n",
    "    df.Group.isin(['freqba_alt_nonneut', 'freqba_alt_nonneut_k','freqba_neut','freqba_neut_k','freqba_nonalt_nonneut' ]),\n",
    "    df.Group.isin(['freqni_alt_nonneut','freqni_alt_nonneut_k', 'freqni_neut', 'freqni_neut_k','freqni_nonalt_nonneut'])\n",
    "]\n",
    "\n",
    "groups=[\n",
    "    '5050',\n",
    "    'freqba',\n",
    "    'freqni'\n",
    "\n",
    "]\n",
    "df['FreqCondition']=np.select(conditions,groups)\n",
    "##Devide Alternation Type by Group##\n"
   ]
  },
  {
   "cell_type": "code",
   "execution_count": 41,
   "metadata": {},
   "outputs": [],
   "source": [
    "\n",
    "conditions=[ df.Group.isin(['5050_nonalt_nonneut','freqba_nonalt_nonneut','freqni_nonalt_nonneut']),\n",
    "            df.Group.isin(['5050_alt_nonneut','freqba_alt_nonneut','freqni_alt_nonneut','freqba_alt_nonneut_k','freqni_alt_nonneut_k']),\n",
    "            df.Group.isin(['5050_neut','freqba_neut','freqni_neut','freqba_neut_k','freqni_neut_k'])\n",
    "]\n",
    "groups=[\n",
    "        'nonalternation',\n",
    "        'alternation',\n",
    "        'neutralization'\n",
    "]\n",
    "\n",
    "df['AltCondition']=np.select(conditions, groups)"
   ]
  },
  {
   "cell_type": "code",
   "execution_count": 39,
   "metadata": {},
   "outputs": [
    {
     "data": {
      "text/html": [
       "<div>\n",
       "<style scoped>\n",
       "    .dataframe tbody tr th:only-of-type {\n",
       "        vertical-align: middle;\n",
       "    }\n",
       "\n",
       "    .dataframe tbody tr th {\n",
       "        vertical-align: top;\n",
       "    }\n",
       "\n",
       "    .dataframe thead th {\n",
       "        text-align: right;\n",
       "    }\n",
       "</style>\n",
       "<table border=\"1\" class=\"dataframe\">\n",
       "  <thead>\n",
       "    <tr style=\"text-align: right;\">\n",
       "      <th></th>\n",
       "      <th>Subject</th>\n",
       "      <th>Group</th>\n",
       "      <th>Age</th>\n",
       "      <th>Gender</th>\n",
       "      <th>Phase</th>\n",
       "      <th>TrialNum</th>\n",
       "      <th>KeyPress</th>\n",
       "      <th>Accuracy</th>\n",
       "      <th>CurrentScore</th>\n",
       "      <th>RT</th>\n",
       "      <th>Response</th>\n",
       "      <th>AffixUsed</th>\n",
       "      <th>StemAlternation</th>\n",
       "      <th>AlienWord</th>\n",
       "      <th>Picture</th>\n",
       "      <th>CorrectAffix</th>\n",
       "      <th>total</th>\n",
       "      <th>UsedNi</th>\n",
       "      <th>FreqCondition</th>\n",
       "    </tr>\n",
       "  </thead>\n",
       "  <tbody>\n",
       "    <tr>\n",
       "      <th>3</th>\n",
       "      <td>11.0</td>\n",
       "      <td>freqba_alt_nonneut</td>\n",
       "      <td>26.0</td>\n",
       "      <td>m</td>\n",
       "      <td>affixedtest</td>\n",
       "      <td>2.0</td>\n",
       "      <td>f</td>\n",
       "      <td>1.0</td>\n",
       "      <td>215.0</td>\n",
       "      <td>5000</td>\n",
       "      <td>ba_correct</td>\n",
       "      <td>ba</td>\n",
       "      <td>no</td>\n",
       "      <td>bakuta</td>\n",
       "      <td>kitten2</td>\n",
       "      <td>ba</td>\n",
       "      <td>461100.0</td>\n",
       "      <td>0</td>\n",
       "      <td>freqba</td>\n",
       "    </tr>\n",
       "    <tr>\n",
       "      <th>5</th>\n",
       "      <td>11.0</td>\n",
       "      <td>freqba_alt_nonneut</td>\n",
       "      <td>26.0</td>\n",
       "      <td>m</td>\n",
       "      <td>affixedtest</td>\n",
       "      <td>3.0</td>\n",
       "      <td>j</td>\n",
       "      <td>0.0</td>\n",
       "      <td>220.0</td>\n",
       "      <td>7279</td>\n",
       "      <td>ni_nochange</td>\n",
       "      <td>ni</td>\n",
       "      <td>no</td>\n",
       "      <td>bagapi</td>\n",
       "      <td>fork2</td>\n",
       "      <td>ba</td>\n",
       "      <td>461100.0</td>\n",
       "      <td>1</td>\n",
       "      <td>freqba</td>\n",
       "    </tr>\n",
       "    <tr>\n",
       "      <th>7</th>\n",
       "      <td>11.0</td>\n",
       "      <td>freqba_alt_nonneut</td>\n",
       "      <td>26.0</td>\n",
       "      <td>m</td>\n",
       "      <td>affixedtest</td>\n",
       "      <td>4.0</td>\n",
       "      <td>f</td>\n",
       "      <td>1.0</td>\n",
       "      <td>230.0</td>\n",
       "      <td>3329</td>\n",
       "      <td>ba_correct</td>\n",
       "      <td>ba</td>\n",
       "      <td>no</td>\n",
       "      <td>baputi</td>\n",
       "      <td>bird2</td>\n",
       "      <td>ba</td>\n",
       "      <td>461100.0</td>\n",
       "      <td>0</td>\n",
       "      <td>freqba</td>\n",
       "    </tr>\n",
       "    <tr>\n",
       "      <th>9</th>\n",
       "      <td>11.0</td>\n",
       "      <td>freqba_alt_nonneut</td>\n",
       "      <td>26.0</td>\n",
       "      <td>m</td>\n",
       "      <td>affixedtest</td>\n",
       "      <td>5.0</td>\n",
       "      <td>f</td>\n",
       "      <td>1.0</td>\n",
       "      <td>240.0</td>\n",
       "      <td>5792</td>\n",
       "      <td>ba_correct</td>\n",
       "      <td>ba</td>\n",
       "      <td>no</td>\n",
       "      <td>bagaku</td>\n",
       "      <td>melon2</td>\n",
       "      <td>ba</td>\n",
       "      <td>461100.0</td>\n",
       "      <td>0</td>\n",
       "      <td>freqba</td>\n",
       "    </tr>\n",
       "    <tr>\n",
       "      <th>11</th>\n",
       "      <td>11.0</td>\n",
       "      <td>freqba_alt_nonneut</td>\n",
       "      <td>26.0</td>\n",
       "      <td>m</td>\n",
       "      <td>affixedtest</td>\n",
       "      <td>6.0</td>\n",
       "      <td>f</td>\n",
       "      <td>0.0</td>\n",
       "      <td>245.0</td>\n",
       "      <td>5699</td>\n",
       "      <td>ba_correct</td>\n",
       "      <td>ba</td>\n",
       "      <td>no</td>\n",
       "      <td>niniba</td>\n",
       "      <td>strawberry2</td>\n",
       "      <td>ni</td>\n",
       "      <td>461100.0</td>\n",
       "      <td>0</td>\n",
       "      <td>freqba</td>\n",
       "    </tr>\n",
       "  </tbody>\n",
       "</table>\n",
       "</div>"
      ],
      "text/plain": [
       "    Subject               Group   Age Gender        Phase  TrialNum KeyPress  \\\n",
       "3      11.0  freqba_alt_nonneut  26.0      m  affixedtest       2.0        f   \n",
       "5      11.0  freqba_alt_nonneut  26.0      m  affixedtest       3.0        j   \n",
       "7      11.0  freqba_alt_nonneut  26.0      m  affixedtest       4.0        f   \n",
       "9      11.0  freqba_alt_nonneut  26.0      m  affixedtest       5.0        f   \n",
       "11     11.0  freqba_alt_nonneut  26.0      m  affixedtest       6.0        f   \n",
       "\n",
       "    Accuracy  CurrentScore    RT     Response AffixUsed StemAlternation  \\\n",
       "3        1.0         215.0  5000   ba_correct        ba              no   \n",
       "5        0.0         220.0  7279  ni_nochange        ni              no   \n",
       "7        1.0         230.0  3329   ba_correct        ba              no   \n",
       "9        1.0         240.0  5792   ba_correct        ba              no   \n",
       "11       0.0         245.0  5699   ba_correct        ba              no   \n",
       "\n",
       "   AlienWord      Picture CorrectAffix     total  UsedNi FreqCondition  \n",
       "3     bakuta      kitten2           ba  461100.0       0        freqba  \n",
       "5     bagapi        fork2           ba  461100.0       1        freqba  \n",
       "7     baputi        bird2           ba  461100.0       0        freqba  \n",
       "9     bagaku       melon2           ba  461100.0       0        freqba  \n",
       "11    niniba  strawberry2           ni  461100.0       0        freqba  "
      ]
     },
     "execution_count": 39,
     "metadata": {},
     "output_type": "execute_result"
    }
   ],
   "source": [
    "df.head()"
   ]
  },
  {
   "cell_type": "code",
   "execution_count": 42,
   "metadata": {},
   "outputs": [],
   "source": [
    "# Add column for whether they are in a group with alternations\n",
    "df['Alternations'] = df['AltCondition'].isin(['alternation','neutralization']).apply(lambda x: 'yes' if x == True else 'no')\n",
    "\n",
    "# Add column for whether they are in the neutralization group\n",
    "df['Neutralization'] = df['AltCondition'].isin(['neutralization']).apply(lambda x: 'yes' if x == True else 'no')"
   ]
  },
  {
   "cell_type": "code",
   "execution_count": 44,
   "metadata": {},
   "outputs": [
    {
     "data": {
      "text/plain": [
       "3        False\n",
       "25995    False\n",
       "25997    False\n",
       "25999    False\n",
       "26001    False\n",
       "         ...  \n",
       "13163    False\n",
       "13165    False\n",
       "13167    False\n",
       "13135    False\n",
       "38999    False\n",
       "Name: InitialStemC, Length: 17305, dtype: bool"
      ]
     },
     "execution_count": 44,
     "metadata": {},
     "output_type": "execute_result"
    }
   ],
   "source": [
    "# Add column for initial stem C\n",
    "conditions = [\n",
    "    df.Picture=='kitten2',\n",
    "    df.Picture=='melon2',\n",
    "    df.Picture=='flower2',\n",
    "    df.Picture=='fork2',\n",
    "    df.Picture=='bird2',\n",
    "    df.Picture=='strawberry2',\n",
    "    df.Picture=='pillow2',\n",
    "    df.Picture=='carrot2',\n",
    "    df.Picture=='bucket2',\n",
    "    df.Picture=='egg2'\n",
    "]\n",
    "groups = ['k',\n",
    "          'g',\n",
    "          'k',\n",
    "          'g',\n",
    "          'p',\n",
    "          'n',\n",
    "          'm',\n",
    "          't',\n",
    "          'b',\n",
    "          'd'\n",
    "]\n",
    "\n",
    "df['InitialStemC'] = np.select(conditions,groups,default=\"problem\")\n",
    "\n",
    "## Check that there are no problem in the new column; no problems if all are False\n",
    "(df['InitialStemC']=='problem').sort_values()"
   ]
  },
  {
   "cell_type": "code",
   "execution_count": 45,
   "metadata": {},
   "outputs": [],
   "source": [
    "# Add column for what the frequent prefix was (arbitrarily ba- in 50-50 group)\n",
    "#df['FreqPrefix'] = df['Group'].isin(['freqni_alt_nonneut','freqni_nonalt_nonneut','freqni_neut']).apply(lambda x: 'ni' if x == True else 'ba')\n",
    "\n",
    "df['FreqPrefix']=df['Group'].isin(['freqni_alt_nonneut','freqni_alt_nonneut_k', 'freqni_neut', 'freqni_neut_k','freqni_nonalt_nonneut']).apply(\n",
    "    lambda x : 'ni' if x==True else 'ba')\n",
    "\n",
    "\n",
    "df['UsedFreq']=(df['AffixUsed']==df['FreqPrefix']).astype(int)\n",
    "\n",
    "\n",
    "\n",
    "\n",
    "# Add column for whether the response is the frequent variant\n",
    "#df['UsedFreq'] = (df['AffixUsed']==df['FreqPrefix']).astype(int)"
   ]
  },
  {
   "cell_type": "code",
   "execution_count": 46,
   "metadata": {},
   "outputs": [],
   "source": [
    "# Add colum for whether is is Korean data or English data\n",
    "\n",
    "df['Language']=df['Group'].isin(['freqba_alt_nonneut_k','freqni_alt_nonneut_k','freqba_neut_k','freqni_neut_k']).apply(\n",
    "    lambda x: 'Kor' if x==True else 'Eng')"
   ]
  },
  {
   "cell_type": "code",
   "execution_count": 47,
   "metadata": {},
   "outputs": [
    {
     "data": {
      "text/html": [
       "<div>\n",
       "<style scoped>\n",
       "    .dataframe tbody tr th:only-of-type {\n",
       "        vertical-align: middle;\n",
       "    }\n",
       "\n",
       "    .dataframe tbody tr th {\n",
       "        vertical-align: top;\n",
       "    }\n",
       "\n",
       "    .dataframe thead th {\n",
       "        text-align: right;\n",
       "    }\n",
       "</style>\n",
       "<table border=\"1\" class=\"dataframe\">\n",
       "  <thead>\n",
       "    <tr style=\"text-align: right;\">\n",
       "      <th></th>\n",
       "      <th>Subject</th>\n",
       "      <th>Group</th>\n",
       "      <th>Age</th>\n",
       "      <th>Gender</th>\n",
       "      <th>Phase</th>\n",
       "      <th>TrialNum</th>\n",
       "      <th>KeyPress</th>\n",
       "      <th>Accuracy</th>\n",
       "      <th>CurrentScore</th>\n",
       "      <th>RT</th>\n",
       "      <th>...</th>\n",
       "      <th>total</th>\n",
       "      <th>UsedNi</th>\n",
       "      <th>FreqCondition</th>\n",
       "      <th>AltCondition</th>\n",
       "      <th>Alternations</th>\n",
       "      <th>Neutralization</th>\n",
       "      <th>InitialStemC</th>\n",
       "      <th>FreqPrefix</th>\n",
       "      <th>UsedFreq</th>\n",
       "      <th>Language</th>\n",
       "    </tr>\n",
       "  </thead>\n",
       "  <tbody>\n",
       "    <tr>\n",
       "      <th>3</th>\n",
       "      <td>11.0</td>\n",
       "      <td>freqba_alt_nonneut</td>\n",
       "      <td>26.0</td>\n",
       "      <td>m</td>\n",
       "      <td>affixedtest</td>\n",
       "      <td>2.0</td>\n",
       "      <td>f</td>\n",
       "      <td>1.0</td>\n",
       "      <td>215.0</td>\n",
       "      <td>5000</td>\n",
       "      <td>...</td>\n",
       "      <td>461100.0</td>\n",
       "      <td>0</td>\n",
       "      <td>freqba</td>\n",
       "      <td>alternation</td>\n",
       "      <td>yes</td>\n",
       "      <td>no</td>\n",
       "      <td>k</td>\n",
       "      <td>ba</td>\n",
       "      <td>1</td>\n",
       "      <td>Eng</td>\n",
       "    </tr>\n",
       "    <tr>\n",
       "      <th>5</th>\n",
       "      <td>11.0</td>\n",
       "      <td>freqba_alt_nonneut</td>\n",
       "      <td>26.0</td>\n",
       "      <td>m</td>\n",
       "      <td>affixedtest</td>\n",
       "      <td>3.0</td>\n",
       "      <td>j</td>\n",
       "      <td>0.0</td>\n",
       "      <td>220.0</td>\n",
       "      <td>7279</td>\n",
       "      <td>...</td>\n",
       "      <td>461100.0</td>\n",
       "      <td>1</td>\n",
       "      <td>freqba</td>\n",
       "      <td>alternation</td>\n",
       "      <td>yes</td>\n",
       "      <td>no</td>\n",
       "      <td>g</td>\n",
       "      <td>ba</td>\n",
       "      <td>0</td>\n",
       "      <td>Eng</td>\n",
       "    </tr>\n",
       "    <tr>\n",
       "      <th>7</th>\n",
       "      <td>11.0</td>\n",
       "      <td>freqba_alt_nonneut</td>\n",
       "      <td>26.0</td>\n",
       "      <td>m</td>\n",
       "      <td>affixedtest</td>\n",
       "      <td>4.0</td>\n",
       "      <td>f</td>\n",
       "      <td>1.0</td>\n",
       "      <td>230.0</td>\n",
       "      <td>3329</td>\n",
       "      <td>...</td>\n",
       "      <td>461100.0</td>\n",
       "      <td>0</td>\n",
       "      <td>freqba</td>\n",
       "      <td>alternation</td>\n",
       "      <td>yes</td>\n",
       "      <td>no</td>\n",
       "      <td>p</td>\n",
       "      <td>ba</td>\n",
       "      <td>1</td>\n",
       "      <td>Eng</td>\n",
       "    </tr>\n",
       "    <tr>\n",
       "      <th>9</th>\n",
       "      <td>11.0</td>\n",
       "      <td>freqba_alt_nonneut</td>\n",
       "      <td>26.0</td>\n",
       "      <td>m</td>\n",
       "      <td>affixedtest</td>\n",
       "      <td>5.0</td>\n",
       "      <td>f</td>\n",
       "      <td>1.0</td>\n",
       "      <td>240.0</td>\n",
       "      <td>5792</td>\n",
       "      <td>...</td>\n",
       "      <td>461100.0</td>\n",
       "      <td>0</td>\n",
       "      <td>freqba</td>\n",
       "      <td>alternation</td>\n",
       "      <td>yes</td>\n",
       "      <td>no</td>\n",
       "      <td>g</td>\n",
       "      <td>ba</td>\n",
       "      <td>1</td>\n",
       "      <td>Eng</td>\n",
       "    </tr>\n",
       "    <tr>\n",
       "      <th>11</th>\n",
       "      <td>11.0</td>\n",
       "      <td>freqba_alt_nonneut</td>\n",
       "      <td>26.0</td>\n",
       "      <td>m</td>\n",
       "      <td>affixedtest</td>\n",
       "      <td>6.0</td>\n",
       "      <td>f</td>\n",
       "      <td>0.0</td>\n",
       "      <td>245.0</td>\n",
       "      <td>5699</td>\n",
       "      <td>...</td>\n",
       "      <td>461100.0</td>\n",
       "      <td>0</td>\n",
       "      <td>freqba</td>\n",
       "      <td>alternation</td>\n",
       "      <td>yes</td>\n",
       "      <td>no</td>\n",
       "      <td>n</td>\n",
       "      <td>ba</td>\n",
       "      <td>1</td>\n",
       "      <td>Eng</td>\n",
       "    </tr>\n",
       "  </tbody>\n",
       "</table>\n",
       "<p>5 rows × 26 columns</p>\n",
       "</div>"
      ],
      "text/plain": [
       "    Subject               Group   Age Gender        Phase  TrialNum KeyPress  \\\n",
       "3      11.0  freqba_alt_nonneut  26.0      m  affixedtest       2.0        f   \n",
       "5      11.0  freqba_alt_nonneut  26.0      m  affixedtest       3.0        j   \n",
       "7      11.0  freqba_alt_nonneut  26.0      m  affixedtest       4.0        f   \n",
       "9      11.0  freqba_alt_nonneut  26.0      m  affixedtest       5.0        f   \n",
       "11     11.0  freqba_alt_nonneut  26.0      m  affixedtest       6.0        f   \n",
       "\n",
       "    Accuracy  CurrentScore    RT  ...     total UsedNi FreqCondition  \\\n",
       "3        1.0         215.0  5000  ...  461100.0      0        freqba   \n",
       "5        0.0         220.0  7279  ...  461100.0      1        freqba   \n",
       "7        1.0         230.0  3329  ...  461100.0      0        freqba   \n",
       "9        1.0         240.0  5792  ...  461100.0      0        freqba   \n",
       "11       0.0         245.0  5699  ...  461100.0      0        freqba   \n",
       "\n",
       "   AltCondition Alternations Neutralization  InitialStemC  FreqPrefix  \\\n",
       "3   alternation          yes             no             k          ba   \n",
       "5   alternation          yes             no             g          ba   \n",
       "7   alternation          yes             no             p          ba   \n",
       "9   alternation          yes             no             g          ba   \n",
       "11  alternation          yes             no             n          ba   \n",
       "\n",
       "   UsedFreq Language  \n",
       "3         1      Eng  \n",
       "5         0      Eng  \n",
       "7         1      Eng  \n",
       "9         1      Eng  \n",
       "11        1      Eng  \n",
       "\n",
       "[5 rows x 26 columns]"
      ]
     },
     "execution_count": 47,
     "metadata": {},
     "output_type": "execute_result"
    }
   ],
   "source": [
    "df.head()"
   ]
  },
  {
   "cell_type": "code",
   "execution_count": 48,
   "metadata": {},
   "outputs": [],
   "source": [
    "# Add column for whether they alternated the stem (correctly) in their response\n",
    "df['AlternatedStem'] = df['KeyPress'].apply(lambda x: 1 if (x=='v' or x=='m') else 0)"
   ]
  },
  {
   "cell_type": "code",
   "execution_count": 46,
   "metadata": {},
   "outputs": [
    {
     "data": {
      "text/html": [
       "<div>\n",
       "<style scoped>\n",
       "    .dataframe tbody tr th:only-of-type {\n",
       "        vertical-align: middle;\n",
       "    }\n",
       "\n",
       "    .dataframe tbody tr th {\n",
       "        vertical-align: top;\n",
       "    }\n",
       "\n",
       "    .dataframe thead th {\n",
       "        text-align: right;\n",
       "    }\n",
       "</style>\n",
       "<table border=\"1\" class=\"dataframe\">\n",
       "  <thead>\n",
       "    <tr style=\"text-align: right;\">\n",
       "      <th></th>\n",
       "      <th>Subject</th>\n",
       "      <th>Group</th>\n",
       "      <th>Age</th>\n",
       "      <th>Gender</th>\n",
       "      <th>Phase</th>\n",
       "      <th>TrialNum</th>\n",
       "      <th>KeyPress</th>\n",
       "      <th>Accuracy</th>\n",
       "      <th>CurrentScore</th>\n",
       "      <th>RT</th>\n",
       "      <th>...</th>\n",
       "      <th>UsedNi</th>\n",
       "      <th>FreqCondition</th>\n",
       "      <th>AltCondition</th>\n",
       "      <th>Alternations</th>\n",
       "      <th>Neutralization</th>\n",
       "      <th>InitialStemC</th>\n",
       "      <th>FreqPrefix</th>\n",
       "      <th>UsedFreq</th>\n",
       "      <th>Language</th>\n",
       "      <th>AlternatedStem</th>\n",
       "    </tr>\n",
       "  </thead>\n",
       "  <tbody>\n",
       "    <tr>\n",
       "      <th>3</th>\n",
       "      <td>11.0</td>\n",
       "      <td>1.0</td>\n",
       "      <td>26.0</td>\n",
       "      <td>m</td>\n",
       "      <td>affixedtest</td>\n",
       "      <td>2.0</td>\n",
       "      <td>f</td>\n",
       "      <td>1.0</td>\n",
       "      <td>215.0</td>\n",
       "      <td>5000</td>\n",
       "      <td>...</td>\n",
       "      <td>0</td>\n",
       "      <td>0</td>\n",
       "      <td>0</td>\n",
       "      <td>no</td>\n",
       "      <td>no</td>\n",
       "      <td>k</td>\n",
       "      <td>ba</td>\n",
       "      <td>1</td>\n",
       "      <td>Eng</td>\n",
       "      <td>0</td>\n",
       "    </tr>\n",
       "    <tr>\n",
       "      <th>5</th>\n",
       "      <td>11.0</td>\n",
       "      <td>1.0</td>\n",
       "      <td>26.0</td>\n",
       "      <td>m</td>\n",
       "      <td>affixedtest</td>\n",
       "      <td>3.0</td>\n",
       "      <td>j</td>\n",
       "      <td>0.0</td>\n",
       "      <td>220.0</td>\n",
       "      <td>7279</td>\n",
       "      <td>...</td>\n",
       "      <td>1</td>\n",
       "      <td>0</td>\n",
       "      <td>0</td>\n",
       "      <td>no</td>\n",
       "      <td>no</td>\n",
       "      <td>g</td>\n",
       "      <td>ba</td>\n",
       "      <td>0</td>\n",
       "      <td>Eng</td>\n",
       "      <td>0</td>\n",
       "    </tr>\n",
       "    <tr>\n",
       "      <th>7</th>\n",
       "      <td>11.0</td>\n",
       "      <td>1.0</td>\n",
       "      <td>26.0</td>\n",
       "      <td>m</td>\n",
       "      <td>affixedtest</td>\n",
       "      <td>4.0</td>\n",
       "      <td>f</td>\n",
       "      <td>1.0</td>\n",
       "      <td>230.0</td>\n",
       "      <td>3329</td>\n",
       "      <td>...</td>\n",
       "      <td>0</td>\n",
       "      <td>0</td>\n",
       "      <td>0</td>\n",
       "      <td>no</td>\n",
       "      <td>no</td>\n",
       "      <td>p</td>\n",
       "      <td>ba</td>\n",
       "      <td>1</td>\n",
       "      <td>Eng</td>\n",
       "      <td>0</td>\n",
       "    </tr>\n",
       "    <tr>\n",
       "      <th>9</th>\n",
       "      <td>11.0</td>\n",
       "      <td>1.0</td>\n",
       "      <td>26.0</td>\n",
       "      <td>m</td>\n",
       "      <td>affixedtest</td>\n",
       "      <td>5.0</td>\n",
       "      <td>f</td>\n",
       "      <td>1.0</td>\n",
       "      <td>240.0</td>\n",
       "      <td>5792</td>\n",
       "      <td>...</td>\n",
       "      <td>0</td>\n",
       "      <td>0</td>\n",
       "      <td>0</td>\n",
       "      <td>no</td>\n",
       "      <td>no</td>\n",
       "      <td>g</td>\n",
       "      <td>ba</td>\n",
       "      <td>1</td>\n",
       "      <td>Eng</td>\n",
       "      <td>0</td>\n",
       "    </tr>\n",
       "    <tr>\n",
       "      <th>11</th>\n",
       "      <td>11.0</td>\n",
       "      <td>1.0</td>\n",
       "      <td>26.0</td>\n",
       "      <td>m</td>\n",
       "      <td>affixedtest</td>\n",
       "      <td>6.0</td>\n",
       "      <td>f</td>\n",
       "      <td>0.0</td>\n",
       "      <td>245.0</td>\n",
       "      <td>5699</td>\n",
       "      <td>...</td>\n",
       "      <td>0</td>\n",
       "      <td>0</td>\n",
       "      <td>0</td>\n",
       "      <td>no</td>\n",
       "      <td>no</td>\n",
       "      <td>n</td>\n",
       "      <td>ba</td>\n",
       "      <td>1</td>\n",
       "      <td>Eng</td>\n",
       "      <td>0</td>\n",
       "    </tr>\n",
       "  </tbody>\n",
       "</table>\n",
       "<p>5 rows × 27 columns</p>\n",
       "</div>"
      ],
      "text/plain": [
       "    Subject  Group   Age Gender        Phase  TrialNum KeyPress  Accuracy  \\\n",
       "3      11.0    1.0  26.0      m  affixedtest       2.0        f       1.0   \n",
       "5      11.0    1.0  26.0      m  affixedtest       3.0        j       0.0   \n",
       "7      11.0    1.0  26.0      m  affixedtest       4.0        f       1.0   \n",
       "9      11.0    1.0  26.0      m  affixedtest       5.0        f       1.0   \n",
       "11     11.0    1.0  26.0      m  affixedtest       6.0        f       0.0   \n",
       "\n",
       "    CurrentScore    RT  ... UsedNi FreqCondition AltCondition Alternations  \\\n",
       "3          215.0  5000  ...      0             0            0           no   \n",
       "5          220.0  7279  ...      1             0            0           no   \n",
       "7          230.0  3329  ...      0             0            0           no   \n",
       "9          240.0  5792  ...      0             0            0           no   \n",
       "11         245.0  5699  ...      0             0            0           no   \n",
       "\n",
       "   Neutralization InitialStemC  FreqPrefix  UsedFreq Language AlternatedStem  \n",
       "3              no            k          ba         1      Eng              0  \n",
       "5              no            g          ba         0      Eng              0  \n",
       "7              no            p          ba         1      Eng              0  \n",
       "9              no            g          ba         1      Eng              0  \n",
       "11             no            n          ba         1      Eng              0  \n",
       "\n",
       "[5 rows x 27 columns]"
      ]
     },
     "execution_count": 46,
     "metadata": {},
     "output_type": "execute_result"
    }
   ],
   "source": [
    "df.head()"
   ]
  },
  {
   "cell_type": "code",
   "execution_count": 101,
   "metadata": {},
   "outputs": [],
   "source": [
    "sns.set_style('ticks')\n",
    "sns.set_context('notebook',font_scale=1.4)\n",
    "import matplotlib.ticker as ticker"
   ]
  },
  {
   "cell_type": "markdown",
   "metadata": {},
   "source": [
    "## Proportion frequent prefix used"
   ]
  },
  {
   "cell_type": "code",
   "execution_count": 49,
   "metadata": {},
   "outputs": [
    {
     "data": {
      "text/plain": [
       "Group\n",
       "5050_alt_nonneut         0.512945\n",
       "5050_neut                0.483704\n",
       "5050_nonalt_nonneut      0.469311\n",
       "freqba_alt_nonneut       0.756996\n",
       "freqba_alt_nonneut_k     0.648318\n",
       "freqba_neut              0.666181\n",
       "freqba_neut_k            0.673631\n",
       "freqba_nonalt_nonneut    0.588745\n",
       "freqni_alt_nonneut       0.664389\n",
       "freqni_alt_nonneut_k     0.696804\n",
       "freqni_neut              0.662348\n",
       "freqni_neut_k            0.699850\n",
       "freqni_nonalt_nonneut    0.647770\n",
       "Name: UsedFreq, dtype: float64"
      ]
     },
     "execution_count": 49,
     "metadata": {},
     "output_type": "execute_result"
    }
   ],
   "source": [
    "# Proportion of trials in which participants chose frequent prefix option, by group\n",
    "df.groupby('Group')['UsedFreq'].mean()"
   ]
  },
  {
   "cell_type": "markdown",
   "metadata": {},
   "source": [
    "### Barplot"
   ]
  },
  {
   "cell_type": "code",
   "execution_count": 52,
   "metadata": {},
   "outputs": [
    {
     "data": {
      "image/png": "[encoded data removed]",
      "text/plain": [
       "<Figure size 864x432 with 2 Axes>"
      ]
     },
     "metadata": {},
     "output_type": "display_data"
    }
   ],
   "source": [
    "## Barplot for proportion frequent prefix by condition\n",
    "\n",
    "#Calculate 95% CIs for error bars (normal approximation method for binomial proportions, on means)\n",
    "def binom_CIs(p,n,z):\n",
    "    ci = (z * np.sqrt( p*(1-p))/n )\n",
    "    return ci\n",
    "\n",
    "CIs = [\n",
    "    binom_CIs(df[df.Group=='freqba_alt_nonneut_k'].UsedFreq.mean(),df[df.Group=='freqba_alt_nonneut_k'].Subject.nunique(),1.96),\n",
    "    binom_CIs(df[df.Group=='freqni_alt_nonneut_k'].UsedFreq.mean(),df[df.Group=='freqni_alt_nonneut_k'].Subject.nunique(),1.96),\n",
    "    binom_CIs(df[df.Group=='freqba_neut_k'].UsedFreq.mean(),df[df.Group=='freqba_neut_k'].Subject.nunique(),1.96),\n",
    "    binom_CIs(df[df.Group=='freqni_neut_k'].UsedFreq.mean(),df[df.Group=='freqni_neut_k'].Subject.nunique(),1.96)\n",
    "]\n",
    "\n",
    "# Initialise figure subplots\n",
    "fig, ax = plt.subplots(nrows=1,ncols=2,figsize=(12,6))\n",
    "\n",
    "# Set figure data\n",
    "\n",
    "sns.barplot(x='Group',y='UsedFreq',\n",
    "            data=df[(df.Neutralization=='no') & (df.Alternations=='yes')],\n",
    "            order=['freqba_alt_nonneut_k','freqni_alt_nonneut_k'], \n",
    "            palette='GnBu', \n",
    "            ci=None, yerr=[CIs[0],CIs[1]], error_kw=dict(lw=1, capsize=5, capthick=1), \n",
    "            \n",
    "            ax=ax[0])\n",
    "sns.barplot(x='Group',y='UsedFreq',\n",
    "            data=df[(df.Neutralization=='yes') & (df.Alternations=='yes')],\n",
    "            order=['freqba_neut_k','freqni_neut_k'],\n",
    "            palette='GnBu', \n",
    "            ci=None, yerr=[CIs[2],CIs[3]], error_kw=dict(lw=1, capsize=5, capthick=1), \n",
    "            ax=ax[1])\n",
    "\n",
    "# Set figure parameters\n",
    "sns.set_style( {'font.family':'serif', 'font.serif':'Times New Roman'})\n",
    "\n",
    "ax[0].set_title('Alternation group', fontsize=20) \n",
    "ax[0].set_xlabel('Prefix Frequency', fontsize=20)\n",
    "ax[0].set_ylabel('Proportion frequent prefix used',fontsize=20)\n",
    "ax[0].set_xticklabels(['Freq ba-','Freq ni-'], fontsize =20)\n",
    "ax[0].set_ylim([0,1])\n",
    "\n",
    "ax[0].yaxis.set_major_locator(ticker.LinearLocator(11))\n",
    "\n",
    "ax[1].set_title('Neutralizing group', fontsize=20)\n",
    "ax[1].set_xlabel('Prefix Frequency',fontsize=20)\n",
    "ax[1].set_ylabel('')\n",
    "ax[1].set_xticklabels(['Freq ba-','Freq ni-'],fontsize=20)\n",
    "ax[1].set_ylim([0,1])\n",
    "         \n",
    "ax[1].yaxis.set_major_locator(ticker.LinearLocator(11))\n",
    "\n",
    "\n",
    "# Add input amount lines to plot\n",
    "\n",
    "ax[0].axhline(0.667,color='black',linestyle='--', lw=1, dashes=(5,3))\n",
    "\n",
    "ax[1].axhline(0.667,color='black',linestyle='--', lw=1, dashes=(5,3))\n",
    "\n",
    "\n",
    "# Make the spacing nice\n",
    "plt.tight_layout()"
   ]
  },
  {
   "cell_type": "code",
   "execution_count": 53,
   "metadata": {},
   "outputs": [
    {
     "data": {
      "image/png": "[encoded data removed]",
      "text/plain": [
       "<Figure size 1080x648 with 2 Axes>"
      ]
     },
     "metadata": {},
     "output_type": "display_data"
    }
   ],
   "source": [
    "## Barplot for Korean \n",
    "\n",
    "#Calculate 95% CIs for error bars (normal approximation method for binomial proportions, on means)\n",
    "def binom_CIs(p,n,z):\n",
    "    ci = (z * np.sqrt( p*(1-p))/n )\n",
    "    return ci\n",
    "\n",
    "CIs = [\n",
    "    \n",
    "    binom_CIs(df[df.Group=='freqba_alt_nonneut'].UsedFreq.mean(),df[df.Group=='freqba_alt_nonneut'].Subject.nunique(),1.96),\n",
    "    binom_CIs(df[df.Group=='freqni_alt_nonneut'].UsedFreq.mean(),df[df.Group=='freqni_alt_nonneut'].Subject.nunique(),1.96),\n",
    "    binom_CIs(df[df.Group=='freqba_alt_nonneut_k'].UsedFreq.mean(),df[df.Group=='freqba_alt_nonneut_k'].Subject.nunique(),1.96),\n",
    "    binom_CIs(df[df.Group=='freqni_alt_nonneut_k'].UsedFreq.mean(),df[df.Group=='freqni_alt_nonneut_k'].Subject.nunique(),1.96),\n",
    "    binom_CIs(df[df.Group=='freqba_neut'].UsedFreq.mean(),df[df.Group=='freqba_neut'].Subject.nunique(),1.96),\n",
    "    binom_CIs(df[df.Group=='freqni_neut'].UsedFreq.mean(),df[df.Group=='freqni_neut'].Subject.nunique(),1.96),\n",
    "    binom_CIs(df[df.Group=='freqba_neut_k'].UsedFreq.mean(),df[df.Group=='freqba_neut_k'].Subject.nunique(),1.96),\n",
    "    binom_CIs(df[df.Group=='freqni_neut_k'].UsedFreq.mean(),df[df.Group=='freqni_neut_k'].Subject.nunique(),1.96)\n",
    "]\n",
    "\n",
    "# Initialise figure subplots\n",
    "fig, ax = plt.subplots(nrows=1,ncols=2,figsize=(15,9))\n",
    "\n",
    "# Set figure data\n",
    "\n",
    "sns.barplot(x='Group',y='UsedFreq',\n",
    "            data=df[(df.Neutralization=='no') & (df.Alternations=='yes')],\n",
    "            order=['freqba_alt_nonneut','freqni_alt_nonneut','freqba_alt_nonneut_k','freqni_alt_nonneut_k'], \n",
    "            palette='flare', \n",
    "            ci=None, yerr=[CIs[0],CIs[1],CIs[2],CIs[3]], error_kw=dict(lw=1, capsize=5, capthick=1), \n",
    "            ax=ax[0])\n",
    "sns.barplot(x='Group',y='UsedFreq',\n",
    "            data=df[(df.Neutralization=='yes') & (df.Alternations=='yes')],\n",
    "            order=['freqba_neut','freqni_neut','freqba_neut_k','freqni_neut_k'],\n",
    "            palette='flare', \n",
    "            ci=None, yerr=[CIs[4],CIs[5],CIs[6],CIs[7]], error_kw=dict(lw=1, capsize=5, capthick=1), \n",
    "            ax=ax[1])\n",
    "\n",
    "# Set figure parameters\n",
    "sns.set_style( {'font.family':'serif', 'font.serif':'Times New Roman'})\n",
    "\n",
    "ax[0].set_title('Alternation group', fontsize=20)\n",
    "ax[0].set_xlabel('Prefix Frequency',fontsize=20)\n",
    "ax[0].set_ylabel('Proportion frequent prefix used',fontsize=20)\n",
    "ax[0].set_xticklabels(['Freq ba-Eng','Freq ni-Eng','Freq ba-Kor','Freq ni-Kor'],fontsize=15)\n",
    "ax[0].set_ylim([0,1])\n",
    "         \n",
    "ax[0].yaxis.set_major_locator(ticker.LinearLocator(11))\n",
    "\n",
    "ax[1].set_title('Neutralizing group',fontsize=20)\n",
    "ax[1].set_xlabel('Prefix Frequency',fontsize=20)\n",
    "ax[1].set_ylabel(''),\n",
    "ax[1].set_xticklabels(['Freq ba-Eng','Freq ni-Eng','Freq ba-Kor','Freq ni-Kor'],fontsize=15)\n",
    "ax[1].set_ylim([0,1])\n",
    "        \n",
    "ax[1].yaxis.set_major_locator(ticker.LinearLocator(11))\n",
    "\n",
    "\n",
    "\n",
    "# Add input amount lines to plot\n",
    "\n",
    "ax[0].axhline(0.667,color='black',linestyle='--', lw=1, dashes=(5,3))\n",
    "\n",
    "ax[1].axhline(0.667,color='black',linestyle='--', lw=1, dashes=(5,3))\n",
    "\n",
    "'''\n",
    "ax[0].axhline(0.5,0,0.33,color='black',linestyle='--', lw=1, dashes=(5,3))\n",
    "ax[0].axhline(0.667,0.33,1,color='black',linestyle='--', lw=1, dashes=(5,3))\n",
    "ax[1].axhline(0.5,0,0.33,color='black',linestyle='--', lw=1, dashes=(5,3))\n",
    "ax[1].axhline(0.667,0.33,1,color='black',linestyle='--', lw=1, dashes=(5,3))\n",
    "ax[2].axhline(0.5,0,0.33,color='black',linestyle='--', lw=1, dashes=(5,3))\n",
    "ax[2].axhline(0.667,0.33,1,color='black',linestyle='--', lw=1, dashes=(5,3))\n",
    "# Make the spacing nice\n",
    "'''\n",
    "plt.tight_layout()"
   ]
  },
  {
   "cell_type": "markdown",
   "metadata": {},
   "source": [
    "### Statistics"
   ]
  },
  {
   "cell_type": "code",
   "execution_count": 141,
   "metadata": {},
   "outputs": [],
   "source": [
    "## Print current dataframe to new csv to be opened with R \n",
    "with open('data_for_R.csv','w+') as f: df.to_csv(f, index=False)\n"
   ]
  },
  {
   "cell_type": "code",
   "execution_count": null,
   "metadata": {},
   "outputs": [],
   "source": [
    "# Note: %%R at the beginning of the cell means that the cell is run with R instead of python."
   ]
  },
  {
   "cell_type": "code",
   "execution_count": 142,
   "metadata": {
    "tags": []
   },
   "outputs": [
    {
     "name": "stderr",
     "output_type": "stream",
     "text": [
      "R[write to console]: Installing package into 'C:/Users/HanByulSong/Documents/R/win-library/3.5'\n",
      "(as 'lib' is unspecified)\n",
      "\n"
     ]
    },
    {
     "name": "stdout",
     "output_type": "stream",
     "text": [
      "--- Please select a CRAN mirror for use in this session ---\n",
      "\n",
      "  There is a binary version available but the source version is later:\n",
      "     binary source needs_compilation\n",
      "lme4 1.1-23 1.1-26              TRUE\n",
      "\n",
      "Do you want to install from sources the package which needs compilation? (Yes/no/cancel) y\n"
     ]
    },
    {
     "name": "stderr",
     "output_type": "stream",
     "text": [
      "R[write to console]: installing the source package 'lme4'\n",
      "\n",
      "\n",
      "R[write to console]: trying URL 'https://cran.ma.imperial.ac.uk/src/contrib/lme4_1.1-26.tar.gz'\n",
      "\n",
      "R[write to console]: Content type 'application/x-gzip'\n",
      "R[write to console]:  length 3297635 bytes (3.1 MB)\n",
      "\n",
      "R[write to console]: downloaded 3.1 MB\n",
      "\n",
      "\n",
      "R[write to console]: \n",
      "\n",
      "R[write to console]: \n",
      "R[write to console]: The downloaded source packages are in\n",
      "\t'C:\\Users\\HanByulSong\\AppData\\Local\\Temp\\RtmpCwT4YK\\downloaded_packages'\n",
      "R[write to console]: \n",
      "R[write to console]: \n",
      "\n",
      "R[write to console]: Loading required package: Matrix\n",
      "\n"
     ]
    }
   ],
   "source": [
    "%%R\n",
    "setwd('/Users/HanByulSong/Desktop/publication python')\n",
    "install.packages(\"lme4\")\n",
    "library(lme4)\n",
    "#setwd('/Users/james.white/Dropbox/Advising/UCL/PhD/HanbyulSong/Experiment/June2020')"
   ]
  },
  {
   "cell_type": "code",
   "execution_count": 143,
   "metadata": {
    "tags": []
   },
   "outputs": [
    {
     "name": "stdout",
     "output_type": "stream",
     "text": [
      "  Subject              Group Age Gender       Phase TrialNum KeyPress Accuracy\n",
      "1      11 freqba_alt_nonneut  26      m affixedtest        2        f        1\n",
      "2      11 freqba_alt_nonneut  26      m affixedtest        3        j        0\n",
      "3      11 freqba_alt_nonneut  26      m affixedtest        4        f        1\n",
      "4      11 freqba_alt_nonneut  26      m affixedtest        5        f        1\n",
      "5      11 freqba_alt_nonneut  26      m affixedtest        6        f        0\n",
      "6      11 freqba_alt_nonneut  26      m affixedtest        7        f        1\n",
      "  CurrentScore   RT    Response AffixUsed StemAlternation AlienWord     Picture\n",
      "1          215 5000  ba_correct        ba              no    bakuta     kitten2\n",
      "2          220 7279 ni_nochange        ni              no    bagapi       fork2\n",
      "3          230 3329  ba_correct        ba              no    baputi       bird2\n",
      "4          240 5792  ba_correct        ba              no    bagaku      melon2\n",
      "5          245 5699  ba_correct        ba              no    niniba strawberry2\n",
      "6          255 4913  ba_correct        ba              no    bamipa     pillow2\n",
      "  CorrectAffix  total UsedNi FreqCondition AltCondition Language Alternations\n",
      "1           ba 461100      0        freqba  alternation      Eng          yes\n",
      "2           ba 461100      1        freqba  alternation      Eng          yes\n",
      "3           ba 461100      0        freqba  alternation      Eng          yes\n",
      "4           ba 461100      0        freqba  alternation      Eng          yes\n",
      "5           ni 461100      0        freqba  alternation      Eng          yes\n",
      "6           ba 461100      0        freqba  alternation      Eng          yes\n",
      "  Neutralization InitialStemC FreqPrefix UsedFreq AlternatedStem\n",
      "1             no            k         ba        1              0\n",
      "2             no            g         ba        0              0\n",
      "3             no            p         ba        1              0\n",
      "4             no            g         ba        1              0\n",
      "5             no            n         ba        1              0\n",
      "6             no            m         ba        1              0\n"
     ]
    }
   ],
   "source": [
    "%%R\n",
    "# Read data into R and check dataframe\n",
    "data = read.csv('./data_for_R.csv',header=TRUE)\n",
    "head(data)"
   ]
  },
  {
   "cell_type": "code",
   "execution_count": 144,
   "metadata": {
    "tags": []
   },
   "outputs": [
    {
     "name": "stdout",
     "output_type": "stream",
     "text": [
      "[1] 17305\n"
     ]
    }
   ],
   "source": [
    "%%R\n",
    "# Check number of row to be sure all are accounted for (should match value from pandas above)\n",
    "nrow(data)"
   ]
  },
  {
   "cell_type": "code",
   "execution_count": 145,
   "metadata": {},
   "outputs": [
    {
     "name": "stdout",
     "output_type": "stream",
     "text": [
      "      Subject                Group Age Gender       Phase TrialNum KeyPress\n",
      "11991     301 freqba_alt_nonneut_k  22      f affixedtest        1        j\n",
      "11992     301 freqba_alt_nonneut_k  22      f affixedtest        3        f\n",
      "11993     301 freqba_alt_nonneut_k  22      f affixedtest        4        f\n",
      "11994     301 freqba_alt_nonneut_k  22      f affixedtest        6        f\n",
      "11995     301 freqba_alt_nonneut_k  22      f affixedtest       10        f\n",
      "11996     301 freqba_alt_nonneut_k  22      f affixedtest       13        f\n",
      "      Accuracy CurrentScore   RT    Response AffixUsed StemAlternation\n",
      "11991        0          215 3644 ni_nochange        ni              no\n",
      "11992        1          225 3834  ba_correct        ba              no\n",
      "11993        0          225 7121  ba_correct        ba              no\n",
      "11994        0          230 6232  ba_correct        ba              no\n",
      "11995        0          235 3876  ba_correct        ba              no\n",
      "11996        1          245 5643  ba_correct        ba              no\n",
      "      AlienWord     Picture CorrectAffix  total UsedNi FreqCondition\n",
      "11991    baputi       bird2           ba 461100      1        freqba\n",
      "11992    bakimu     flower2           ba 461100      0        freqba\n",
      "11993   nichuta     kitten2           ni 461100      0        freqba\n",
      "11994    nitimu     carrot2           ni 461100      0        freqba\n",
      "11995    niniba strawberry2           ni 461100      0        freqba\n",
      "11996    bakimu     flower2           ba 461100      0        freqba\n",
      "      AltCondition Language Alternations Neutralization InitialStemC FreqPrefix\n",
      "11991  alternation      Kor          yes             no            p         ba\n",
      "11992  alternation      Kor          yes             no            k         ba\n",
      "11993  alternation      Kor          yes             no            k         ba\n",
      "11994  alternation      Kor          yes             no            t         ba\n",
      "11995  alternation      Kor          yes             no            n         ba\n",
      "11996  alternation      Kor          yes             no            k         ba\n",
      "      UsedFreq AlternatedStem\n",
      "11991        0              0\n",
      "11992        1              0\n",
      "11993        1              0\n",
      "11994        1              0\n",
      "11995        1              0\n",
      "11996        1              0\n"
     ]
    }
   ],
   "source": [
    "%%R\n",
    "#Making a subset for Korean model\n",
    "dataK=subset(data,(data$Language %in% c('Kor')))\n",
    "\n",
    "\n",
    "head(dataK)\n"
   ]
  },
  {
   "cell_type": "code",
   "execution_count": 146,
   "metadata": {},
   "outputs": [
    {
     "name": "stdout",
     "output_type": "stream",
     "text": [
      "[1] 5315\n"
     ]
    }
   ],
   "source": [
    "%%R\n",
    "nrow(dataK)"
   ]
  },
  {
   "cell_type": "code",
   "execution_count": 147,
   "metadata": {},
   "outputs": [
    {
     "name": "stdout",
     "output_type": "stream",
     "text": [
      "     5050_alt_nonneut             5050_neut   5050_nonalt_nonneut \n",
      "                   NA                    NA                    NA \n",
      "   freqba_alt_nonneut  freqba_alt_nonneut_k           freqba_neut \n",
      "                   NA             0.6483180                    NA \n",
      "        freqba_neut_k freqba_nonalt_nonneut    freqni_alt_nonneut \n",
      "            0.6736311                    NA                    NA \n",
      " freqni_alt_nonneut_k           freqni_neut         freqni_neut_k \n",
      "            0.6968044                    NA             0.6998503 \n",
      "freqni_nonalt_nonneut \n",
      "                   NA \n"
     ]
    }
   ],
   "source": [
    "%%R\n",
    "with(dataK, tapply(UsedFreq, list(Group), mean, na.r.=T))"
   ]
  },
  {
   "cell_type": "code",
   "execution_count": 148,
   "metadata": {},
   "outputs": [],
   "source": [
    "%%R\n",
    "data_no5050= subset(data, (data$Group != '5050_alt_nonneut' & data$Group != '5050_neut'& data$Group !='5050_nonalt_nonneut' ))\n",
    "                    "
   ]
  },
  {
   "cell_type": "code",
   "execution_count": 149,
   "metadata": {},
   "outputs": [
    {
     "name": "stdout",
     "output_type": "stream",
     "text": [
      "[1] 5266\n"
     ]
    }
   ],
   "source": [
    "%%R\n",
    "##Make a subset that only includes Alternation condiiton of Eng and Kor data\n",
    "dataA = subset(data_no5050, (data_no5050$Group %in% c('freqba_alt_nonneut_k', 'freqni_alt_nonneut_k' ,'freqba_alt_nonneut', 'freqni_alt_nonneut')))\n",
    "nrow(dataA)\n",
    "\n"
   ]
  },
  {
   "cell_type": "code",
   "execution_count": 150,
   "metadata": {},
   "outputs": [
    {
     "name": "stdout",
     "output_type": "stream",
     "text": [
      ", , Eng\n",
      "\n",
      "               5050    freqba    freqni\n",
      "alternation      NA 0.7569956 0.6643888\n",
      "neutralization   NA        NA        NA\n",
      "nonalternation   NA        NA        NA\n",
      "\n",
      ", , Kor\n",
      "\n",
      "               5050   freqba    freqni\n",
      "alternation      NA 0.648318 0.6968044\n",
      "neutralization   NA       NA        NA\n",
      "nonalternation   NA       NA        NA\n",
      "\n"
     ]
    }
   ],
   "source": [
    "%%R\n",
    "with(dataA, tapply(UsedFreq, list(AltCondition,FreqCondition,Language), mean, na.r.=T))"
   ]
  },
  {
   "cell_type": "code",
   "execution_count": 151,
   "metadata": {},
   "outputs": [
    {
     "name": "stdout",
     "output_type": "stream",
     "text": [
      "[1] 5408\n"
     ]
    }
   ],
   "source": [
    "%%R\n",
    "##Make a subset that only includes Neutralization condition of Eng and Kor data\n",
    "dataN = subset(data_no5050, (data_no5050$Group %in% c('freqba_neut_k','freqni_neut_k','freqba_neut','freqni_neut')))\n",
    "nrow(dataN)\n"
   ]
  },
  {
   "cell_type": "code",
   "execution_count": 152,
   "metadata": {},
   "outputs": [
    {
     "name": "stdout",
     "output_type": "stream",
     "text": [
      ", , Eng\n",
      "\n",
      "               5050    freqba    freqni\n",
      "alternation      NA        NA        NA\n",
      "neutralization   NA 0.6661808 0.6623476\n",
      "nonalternation   NA        NA        NA\n",
      "\n",
      ", , Kor\n",
      "\n",
      "               5050    freqba    freqni\n",
      "alternation      NA        NA        NA\n",
      "neutralization   NA 0.6736311 0.6998503\n",
      "nonalternation   NA        NA        NA\n",
      "\n"
     ]
    }
   ],
   "source": [
    "%%R\n",
    "with(dataN, tapply(UsedFreq, list(AltCondition,FreqCondition,Language), mean, na.r.=T))"
   ]
  },
  {
   "cell_type": "code",
   "execution_count": 154,
   "metadata": {},
   "outputs": [
    {
     "name": "stdout",
     "output_type": "stream",
     "text": [
      "Generalized linear mixed model fit by maximum likelihood (Laplace\n",
      "  Approximation) [glmerMod]\n",
      " Family: binomial  ( logit )\n",
      "Formula: UsedFreq ~ Neutralization * FreqCondition + (1 | Subject) + (1 |  \n",
      "    Picture)\n",
      "   Data: dataK\n",
      "\n",
      "     AIC      BIC   logLik deviance df.resid \n",
      "  6462.2   6501.7  -3225.1   6450.2     5309 \n",
      "\n",
      "Scaled residuals: \n",
      "    Min      1Q  Median      3Q     Max \n",
      "-3.2009 -1.1014  0.5345  0.7005  1.2366 \n",
      "\n",
      "Random effects:\n",
      " Groups  Name        Variance Std.Dev.\n",
      " Subject (Intercept) 0.36055  0.6005  \n",
      " Picture (Intercept) 0.02229  0.1493  \n",
      "Number of obs: 5315, groups:  Subject, 99; Picture, 10\n",
      "\n",
      "Fixed effects:\n",
      "                                      Estimate Std. Error z value Pr(>|z|)    \n",
      "(Intercept)                             0.6616     0.1427   4.636 3.55e-06 ***\n",
      "Neutralizationyes                       0.1317     0.1902   0.692    0.489    \n",
      "FreqConditionfreqni                     0.2794     0.1922   1.454    0.146    \n",
      "Neutralizationyes:FreqConditionfreqni  -0.1541     0.2719  -0.567    0.571    \n",
      "---\n",
      "Signif. codes:  0 '***' 0.001 '**' 0.01 '*' 0.05 '.' 0.1 ' ' 1\n",
      "\n",
      "Correlation of Fixed Effects:\n",
      "            (Intr) Ntrlzt FrqCnd\n",
      "Neutrlztnys -0.667              \n",
      "FrqCndtnfrq -0.660  0.496       \n",
      "Ntrlztny:FC  0.466 -0.700 -0.707\n"
     ]
    }
   ],
   "source": [
    "%%R\n",
    "# FUll model  *****THIS MODEL ONLY INCLUDES KOREAN DATA****\n",
    "# This model includes Freqba Freqni Alternation and Freqba Freqni Neutralization Korean data\n",
    "# compare the Frequency of prefix form in output only in Alt and Neut of Korean data\n",
    "lmer1 = glmer(UsedFreq ~ Neutralization*FreqCondition + (1|Subject) + (1|Picture), data=dataK, family=binomial)\n",
    "summary(lmer1)"
   ]
  },
  {
   "cell_type": "markdown",
   "metadata": {},
   "source": [
    "### Summary"
   ]
  },
  {
   "cell_type": "markdown",
   "metadata": {},
   "source": [
    "The intercept was sig (positive). Korean participants used the freq prefix significantly often. They did not avoid using the neutralizing variant in Neutralizing condiiton.\n",
    "The propertion of the frequent prefix in output is comparable across the conditions.\n",
    "-There was no fixed-effects of Neutralization or Frequent prefix\n",
    "-There was no interaction-effect of Neutralization * Frequent prefix either"
   ]
  },
  {
   "cell_type": "markdown",
   "metadata": {},
   "source": [
    "##### Alternation Kor - Alternation Neut #####"
   ]
  },
  {
   "cell_type": "code",
   "execution_count": 155,
   "metadata": {},
   "outputs": [
    {
     "name": "stdout",
     "output_type": "stream",
     "text": [
      "  Subject              Group Age Gender       Phase TrialNum KeyPress Accuracy\n",
      "1      11 freqba_alt_nonneut  26      m affixedtest        2        f        1\n",
      "2      11 freqba_alt_nonneut  26      m affixedtest        3        j        0\n",
      "3      11 freqba_alt_nonneut  26      m affixedtest        4        f        1\n",
      "4      11 freqba_alt_nonneut  26      m affixedtest        5        f        1\n",
      "5      11 freqba_alt_nonneut  26      m affixedtest        6        f        0\n",
      "6      11 freqba_alt_nonneut  26      m affixedtest        7        f        1\n",
      "  CurrentScore   RT    Response AffixUsed StemAlternation AlienWord     Picture\n",
      "1          215 5000  ba_correct        ba              no    bakuta     kitten2\n",
      "2          220 7279 ni_nochange        ni              no    bagapi       fork2\n",
      "3          230 3329  ba_correct        ba              no    baputi       bird2\n",
      "4          240 5792  ba_correct        ba              no    bagaku      melon2\n",
      "5          245 5699  ba_correct        ba              no    niniba strawberry2\n",
      "6          255 4913  ba_correct        ba              no    bamipa     pillow2\n",
      "  CorrectAffix  total UsedNi FreqCondition AltCondition Language Alternations\n",
      "1           ba 461100      0        freqba  alternation      Eng          yes\n",
      "2           ba 461100      1        freqba  alternation      Eng          yes\n",
      "3           ba 461100      0        freqba  alternation      Eng          yes\n",
      "4           ba 461100      0        freqba  alternation      Eng          yes\n",
      "5           ni 461100      0        freqba  alternation      Eng          yes\n",
      "6           ba 461100      0        freqba  alternation      Eng          yes\n",
      "  Neutralization InitialStemC FreqPrefix UsedFreq AlternatedStem\n",
      "1             no            k         ba        1              0\n",
      "2             no            g         ba        0              0\n",
      "3             no            p         ba        1              0\n",
      "4             no            g         ba        1              0\n",
      "5             no            n         ba        1              0\n",
      "6             no            m         ba        1              0\n"
     ]
    }
   ],
   "source": [
    "%%R\n",
    "head(dataA)"
   ]
  },
  {
   "cell_type": "code",
   "execution_count": 156,
   "metadata": {},
   "outputs": [
    {
     "name": "stdout",
     "output_type": "stream",
     "text": [
      "Generalized linear mixed model fit by maximum likelihood (Laplace\n",
      "  Approximation) [glmerMod]\n",
      " Family: binomial  ( logit )\n",
      "Formula: UsedFreq ~ Language * FreqCondition + (1 | Subject) + (1 | Picture)\n",
      "   Data: dataA\n",
      "\n",
      "     AIC      BIC   logLik deviance df.resid \n",
      "  6274.7   6314.1  -3131.3   6262.7     5260 \n",
      "\n",
      "Scaled residuals: \n",
      "    Min      1Q  Median      3Q     Max \n",
      "-3.2918 -1.0822  0.5196  0.6851  1.2398 \n",
      "\n",
      "Random effects:\n",
      " Groups  Name        Variance Std.Dev.\n",
      " Subject (Intercept) 0.35598  0.5966  \n",
      " Picture (Intercept) 0.02761  0.1662  \n",
      "Number of obs: 5266, groups:  Subject, 101; Picture, 10\n",
      "\n",
      "Fixed effects:\n",
      "                                Estimate Std. Error z value Pr(>|z|)    \n",
      "(Intercept)                       1.2162     0.1467   8.292  < 2e-16 ***\n",
      "LanguageKor                      -0.5543     0.1915  -2.895  0.00379 ** \n",
      "FreqConditionfreqni              -0.5175     0.1900  -2.724  0.00645 ** \n",
      "LanguageKor:FreqConditionfreqni   0.7955     0.2697   2.950  0.00318 ** \n",
      "---\n",
      "Signif. codes:  0 '***' 0.001 '**' 0.01 '*' 0.05 '.' 0.1 ' ' 1\n",
      "\n",
      "Correlation of Fixed Effects:\n",
      "            (Intr) LnggKr FrqCnd\n",
      "LanguageKor -0.667              \n",
      "FrqCndtnfrq -0.672  0.515       \n",
      "LnggKr:FrqC  0.475 -0.710 -0.705\n"
     ]
    }
   ],
   "source": [
    "%%R\n",
    "##Compare Alternation condition in Korean data to English data\n",
    "##This model includes Freq ba/ni Alternation English, Freq ba/ni Alternation Korean\n",
    "\n",
    "lmer3 = glmer(UsedFreq ~ Language*FreqCondition+ (1|Subject) + (1|Picture), data=dataA, family=binomial)\n",
    "summary(lmer3)\n",
    "#removing the interaction significantly lower the accuary of model, so the interaction effects of Language*FreqCondition remain"
   ]
  },
  {
   "cell_type": "code",
   "execution_count": 157,
   "metadata": {},
   "outputs": [
    {
     "name": "stdout",
     "output_type": "stream",
     "text": [
      "Generalized linear mixed model fit by maximum likelihood (Laplace\n",
      "  Approximation) [glmerMod]\n",
      " Family: binomial  ( logit )\n",
      "Formula: UsedFreq ~ Language + FreqCondition + (1 | Subject) + (1 | Picture)\n",
      "   Data: dataA\n",
      "\n",
      "     AIC      BIC   logLik deviance df.resid \n",
      "  6281.1   6313.9  -3135.5   6271.1     5261 \n",
      "\n",
      "Scaled residuals: \n",
      "    Min      1Q  Median      3Q     Max \n",
      "-3.2674 -1.0833  0.5220  0.6838  1.2705 \n",
      "\n",
      "Random effects:\n",
      " Groups  Name        Variance Std.Dev.\n",
      " Subject (Intercept) 0.39447  0.6281  \n",
      " Picture (Intercept) 0.02764  0.1662  \n",
      "Number of obs: 5266, groups:  Subject, 101; Picture, 10\n",
      "\n",
      "Fixed effects:\n",
      "                    Estimate Std. Error z value Pr(>|z|)    \n",
      "(Intercept)           1.0140     0.1333   7.604 2.87e-14 ***\n",
      "LanguageKor          -0.1513     0.1403  -1.079    0.281    \n",
      "FreqConditionfreqni  -0.1221     0.1403  -0.871    0.384    \n",
      "---\n",
      "Signif. codes:  0 '***' 0.001 '**' 0.01 '*' 0.05 '.' 0.1 ' ' 1\n",
      "\n",
      "Correlation of Fixed Effects:\n",
      "            (Intr) LnggKr\n",
      "LanguageKor -0.533       \n",
      "FrqCndtnfrq -0.543  0.023\n"
     ]
    }
   ],
   "source": [
    "%%R\n",
    "lmer4 = glmer(UsedFreq ~ Language+FreqCondition+(1|Subject)+(1|Picture), data=dataA, family=binomial)\n",
    "summary(lmer4)"
   ]
  },
  {
   "cell_type": "code",
   "execution_count": 158,
   "metadata": {},
   "outputs": [
    {
     "name": "stdout",
     "output_type": "stream",
     "text": [
      "Data: dataA\n",
      "Models:\n",
      "lmer4: UsedFreq ~ Language + FreqCondition + (1 | Subject) + (1 | Picture)\n",
      "lmer3: UsedFreq ~ Language * FreqCondition + (1 | Subject) + (1 | Picture)\n",
      "      Df    AIC    BIC  logLik deviance  Chisq Chi Df Pr(>Chisq)   \n",
      "lmer4  5 6281.1 6313.9 -3135.6   6271.1                            \n",
      "lmer3  6 6274.7 6314.1 -3131.3   6262.7 8.4172      1   0.003717 **\n",
      "---\n",
      "Signif. codes:  0 '***' 0.001 '**' 0.01 '*' 0.05 '.' 0.1 ' ' 1\n"
     ]
    }
   ],
   "source": [
    "%%R\n",
    "anova(lmer3, lmer4)"
   ]
  },
  {
   "cell_type": "markdown",
   "metadata": {},
   "source": [
    "### Summary"
   ]
  },
  {
   "cell_type": "markdown",
   "metadata": {},
   "source": [
    "The Korean Participants used the frequent prefix form significantly less often in Freqba- Alternation compare to Englsih participants in Freqba-Alternation.\n",
    "The interaction effect of Language* FreqCondition shows that the propertion of freqnt prefix in Korean Freqni-Alternation is sig higher than English Freqba-Alternation ( Should it be sig lower?)\n"
   ]
  },
  {
   "cell_type": "markdown",
   "metadata": {},
   "source": [
    "#### Neutralization Korean - Neutralization English#### "
   ]
  },
  {
   "cell_type": "code",
   "execution_count": 159,
   "metadata": {},
   "outputs": [
    {
     "name": "stdout",
     "output_type": "stream",
     "text": [
      "Generalized linear mixed model fit by maximum likelihood (Laplace\n",
      "  Approximation) [glmerMod]\n",
      " Family: binomial  ( logit )\n",
      "Formula: UsedFreq ~ Language * FreqCondition + (1 | Subject) + (1 | Picture)\n",
      "   Data: dataN\n",
      "\n",
      "     AIC      BIC   logLik deviance df.resid \n",
      "  6686.0   6725.5  -3337.0   6674.0     5402 \n",
      "\n",
      "Scaled residuals: \n",
      "    Min      1Q  Median      3Q     Max \n",
      "-2.4634 -1.1710  0.5701  0.7170  1.3544 \n",
      "\n",
      "Random effects:\n",
      " Groups  Name        Variance Std.Dev.\n",
      " Subject (Intercept) 0.248899 0.49890 \n",
      " Picture (Intercept) 0.009264 0.09625 \n",
      "Number of obs: 5408, groups:  Subject, 99; Picture, 10\n",
      "\n",
      "Fixed effects:\n",
      "                                Estimate Std. Error z value Pr(>|z|)    \n",
      "(Intercept)                      0.73921    0.12036   6.142 8.16e-10 ***\n",
      "LanguageKor                      0.04163    0.16450   0.253    0.800    \n",
      "FreqConditionfreqni             -0.04132    0.16456  -0.251    0.802    \n",
      "LanguageKor:FreqConditionfreqni  0.16476    0.23413   0.704    0.482    \n",
      "---\n",
      "Signif. codes:  0 '***' 0.001 '**' 0.01 '*' 0.05 '.' 0.1 ' ' 1\n",
      "\n",
      "Correlation of Fixed Effects:\n",
      "            (Intr) LnggKr FrqCnd\n",
      "LanguageKor -0.683              \n",
      "FrqCndtnfrq -0.684  0.500       \n",
      "LnggKr:FrqC  0.481 -0.703 -0.703\n"
     ]
    }
   ],
   "source": [
    "%%R\n",
    "##Compare Neutralization condition in Korean data to English data\n",
    "## MOdel 1\n",
    "lmer6=glmer(UsedFreq~ Language*FreqCondition+(1|Subject)+(1|Picture), data= dataN, family=binomial)\n",
    "summary(lmer6)\n",
    "#The interaction-effect of Language*\\freqCondition does not increase the model fit, so it can be removed"
   ]
  },
  {
   "cell_type": "code",
   "execution_count": 160,
   "metadata": {},
   "outputs": [
    {
     "name": "stdout",
     "output_type": "stream",
     "text": [
      "Generalized linear mixed model fit by maximum likelihood (Laplace\n",
      "  Approximation) [glmerMod]\n",
      " Family: binomial  ( logit )\n",
      "Formula: UsedFreq ~ Language + FreqCondition + (1 | Subject) + (1 | Picture)\n",
      "   Data: dataN\n",
      "\n",
      "     AIC      BIC   logLik deviance df.resid \n",
      "  6684.5   6717.4  -3337.2   6674.5     5403 \n",
      "\n",
      "Scaled residuals: \n",
      "    Min      1Q  Median      3Q     Max \n",
      "-2.4477 -1.1709  0.5665  0.7193  1.3625 \n",
      "\n",
      "Random effects:\n",
      " Groups  Name        Variance Std.Dev.\n",
      " Subject (Intercept) 0.250365 0.50036 \n",
      " Picture (Intercept) 0.009281 0.09634 \n",
      "Number of obs: 5408, groups:  Subject, 99; Picture, 10\n",
      "\n",
      "Fixed effects:\n",
      "                    Estimate Std. Error z value Pr(>|z|)    \n",
      "(Intercept)           0.6987     0.1057   6.609 3.88e-11 ***\n",
      "LanguageKor           0.1230     0.1173   1.049    0.294    \n",
      "FreqConditionfreqni   0.0400     0.1173   0.341    0.733    \n",
      "---\n",
      "Signif. codes:  0 '***' 0.001 '**' 0.01 '*' 0.05 '.' 0.1 ' ' 1\n",
      "\n",
      "Correlation of Fixed Effects:\n",
      "            (Intr) LnggKr\n",
      "LanguageKor -0.554       \n",
      "FrqCndtnfrq -0.555  0.011\n"
     ]
    }
   ],
   "source": [
    "%%R\n",
    "#this will be the best model\n",
    "lmer7=glmer(UsedFreq~ Language+FreqCondition+(1|Subject)+(1|Picture), data= dataN, family=binomial)\n",
    "summary(lmer7)\n",
    "## A fixed effect of FreqCondition did not sig improve the model fit"
   ]
  },
  {
   "cell_type": "code",
   "execution_count": 161,
   "metadata": {},
   "outputs": [
    {
     "name": "stdout",
     "output_type": "stream",
     "text": [
      "Data: dataN\n",
      "Models:\n",
      "lmer7: UsedFreq ~ Language + FreqCondition + (1 | Subject) + (1 | Picture)\n",
      "lmer6: UsedFreq ~ Language * FreqCondition + (1 | Subject) + (1 | Picture)\n",
      "      Df    AIC    BIC  logLik deviance  Chisq Chi Df Pr(>Chisq)\n",
      "lmer7  5 6684.5 6717.4 -3337.2   6674.5                         \n",
      "lmer6  6 6686.0 6725.5 -3337.0   6674.0 0.4939      1     0.4822\n"
     ]
    }
   ],
   "source": [
    "%%R\n",
    "anova(lmer6,lmer7)"
   ]
  },
  {
   "cell_type": "code",
   "execution_count": 165,
   "metadata": {},
   "outputs": [
    {
     "name": "stdout",
     "output_type": "stream",
     "text": [
      "Generalized linear mixed model fit by maximum likelihood (Laplace\n",
      "  Approximation) [glmerMod]\n",
      " Family: binomial  ( logit )\n",
      "Formula: UsedFreq ~ Language + (1 | Subject) + (1 | Picture)\n",
      "   Data: dataN\n",
      "\n",
      "     AIC      BIC   logLik deviance df.resid \n",
      "  6682.6   6708.9  -3337.3   6674.6     5404 \n",
      "\n",
      "Scaled residuals: \n",
      "    Min      1Q  Median      3Q     Max \n",
      "-2.4581 -1.1702  0.5658  0.7197  1.3597 \n",
      "\n",
      "Random effects:\n",
      " Groups  Name        Variance Std.Dev.\n",
      " Subject (Intercept) 0.251017 0.50102 \n",
      " Picture (Intercept) 0.009287 0.09637 \n",
      "Number of obs: 5408, groups:  Subject, 99; Picture, 10\n",
      "\n",
      "Fixed effects:\n",
      "            Estimate Std. Error z value Pr(>|z|)    \n",
      "(Intercept)  0.71871    0.08806   8.161 3.32e-16 ***\n",
      "LanguageKor  0.12261    0.11742   1.044    0.296    \n",
      "---\n",
      "Signif. codes:  0 '***' 0.001 '**' 0.01 '*' 0.05 '.' 0.1 ' ' 1\n",
      "\n",
      "Correlation of Fixed Effects:\n",
      "            (Intr)\n",
      "LanguageKor -0.658\n"
     ]
    }
   ],
   "source": [
    "%%R\n",
    "lmer8=glmer(UsedFreq~ Language+(1|Subject)+(1|Picture), data= dataN, family=binomial)\n",
    "summary(lmer8)\n",
    "#A fixed-effect of Language did not sig improve the model fit"
   ]
  },
  {
   "cell_type": "code",
   "execution_count": 167,
   "metadata": {},
   "outputs": [
    {
     "name": "stdout",
     "output_type": "stream",
     "text": [
      "Data: dataN\n",
      "Models:\n",
      "lmer7: UsedFreq ~ Language + (1 | Subject) + (1 | Picture)\n",
      "lmer8: UsedFreq ~ Language + (1 | Subject) + (1 | Picture)\n",
      "      Df    AIC    BIC  logLik deviance Chisq Chi Df Pr(>Chisq)\n",
      "lmer7  4 6682.6 6708.9 -3337.3   6674.6                        \n",
      "lmer8  4 6682.6 6708.9 -3337.3   6674.6     0      0          1\n"
     ]
    }
   ],
   "source": [
    "%%R\n",
    "anova(lmer7, lmer8)"
   ]
  },
  {
   "cell_type": "code",
   "execution_count": 168,
   "metadata": {},
   "outputs": [
    {
     "name": "stdout",
     "output_type": "stream",
     "text": [
      "Generalized linear mixed model fit by maximum likelihood (Laplace\n",
      "  Approximation) [glmerMod]\n",
      " Family: binomial  ( logit )\n",
      "Formula: UsedFreq ~ (1 | Subject) + (1 | Picture)\n",
      "   Data: dataN\n",
      "\n",
      "     AIC      BIC   logLik deviance df.resid \n",
      "  6681.7   6701.4  -3337.8   6675.7     5405 \n",
      "\n",
      "Scaled residuals: \n",
      "    Min      1Q  Median      3Q     Max \n",
      "-2.4923 -1.1673  0.5677  0.7197  1.3525 \n",
      "\n",
      "Random effects:\n",
      " Groups  Name        Variance Std.Dev.\n",
      " Subject (Intercept) 0.254498 0.5045  \n",
      " Picture (Intercept) 0.009313 0.0965  \n",
      "Number of obs: 5408, groups:  Subject, 99; Picture, 10\n",
      "\n",
      "Fixed effects:\n",
      "            Estimate Std. Error z value Pr(>|z|)    \n",
      "(Intercept)  0.77965    0.06658   11.71   <2e-16 ***\n",
      "---\n",
      "Signif. codes:  0 '***' 0.001 '**' 0.01 '*' 0.05 '.' 0.1 ' ' 1\n"
     ]
    }
   ],
   "source": [
    "%%R\n",
    "lmer9=glmer(UsedFreq~ (1|Subject)+(1|Picture), data= dataN, family=binomial)\n",
    "summary(lmer9)\n",
    "###This would be the best model"
   ]
  },
  {
   "cell_type": "code",
   "execution_count": 171,
   "metadata": {},
   "outputs": [
    {
     "name": "stdout",
     "output_type": "stream",
     "text": [
      "Data: dataN\n",
      "Models:\n",
      "lmer9: UsedFreq ~ (1 | Subject) + (1 | Picture)\n",
      "lmer8: UsedFreq ~ Language + (1 | Subject) + (1 | Picture)\n",
      "      Df    AIC    BIC  logLik deviance  Chisq Chi Df Pr(>Chisq)\n",
      "lmer9  3 6681.7 6701.4 -3337.8   6675.7                         \n",
      "lmer8  4 6682.6 6708.9 -3337.3   6674.6 1.0849      1     0.2976\n"
     ]
    }
   ],
   "source": [
    "%%R\n",
    "anova(lmer8, lmer9)"
   ]
  },
  {
   "cell_type": "markdown",
   "metadata": {},
   "source": [
    "### Summary"
   ]
  },
  {
   "cell_type": "markdown",
   "metadata": {},
   "source": [
    "In Neutralization condition, the proportion of the frequent prefix in output was comparable in all Prefix Frequency conditions and Langauge of participants."
   ]
  },
  {
   "cell_type": "markdown",
   "metadata": {},
   "source": [
    "## Number of subjects who regularized"
   ]
  },
  {
   "cell_type": "code",
   "execution_count": 172,
   "metadata": {},
   "outputs": [],
   "source": [
    "from scipy.stats import binom_test"
   ]
  },
  {
   "cell_type": "code",
   "execution_count": 173,
   "metadata": {},
   "outputs": [
    {
     "name": "stdout",
     "output_type": "stream",
     "text": [
      "                            Age  TrialNum  Accuracy  CurrentScore  total  \\\n",
      "Subject Group                                                              \n",
      "11.0    freqba_alt_nonneut    1         1         1             1      1   \n",
      "12.0    freqba_alt_nonneut    1         1         1             1      1   \n",
      "13.0    freqba_alt_nonneut    1         1         1             1      1   \n",
      "14.0    freqba_alt_nonneut    1         1         1             1      1   \n",
      "15.0    freqba_alt_nonneut    1         1         1             1      1   \n",
      "...                         ...       ...       ...           ...    ...   \n",
      "402.0   freqni_neut_k         1         1         1             1      1   \n",
      "403.0   freqni_neut_k         1         1         1             1      1   \n",
      "404.0   freqni_neut_k         1         1         1             1      1   \n",
      "405.0   freqni_neut_k         1         1         1             1      1   \n",
      "406.0   freqni_neut_k         1         1         1             1      1   \n",
      "\n",
      "                            UsedNi  UsedFreq  AlternatedStem  \n",
      "Subject Group                                                 \n",
      "11.0    freqba_alt_nonneut       1         1               1  \n",
      "12.0    freqba_alt_nonneut       1         1               1  \n",
      "13.0    freqba_alt_nonneut       1         1               1  \n",
      "14.0    freqba_alt_nonneut       1         1               1  \n",
      "15.0    freqba_alt_nonneut       1         1               1  \n",
      "...                            ...       ...             ...  \n",
      "402.0   freqni_neut_k            1         1               1  \n",
      "403.0   freqni_neut_k            1         1               1  \n",
      "404.0   freqni_neut_k            1         1               1  \n",
      "405.0   freqni_neut_k            1         1               1  \n",
      "406.0   freqni_neut_k            1         1               1  \n",
      "\n",
      "[324 rows x 8 columns]\n"
     ]
    }
   ],
   "source": [
    "regularisers = pd.concat(\n",
    "    [pd.DataFrame(\n",
    "        (df[df.FreqCondition=='5050'].groupby(['Subject','Group']).mean())),\n",
    "    pd.DataFrame(\n",
    "        (df[df.FreqCondition!='5050'].groupby(['Subject','Group']).mean()))]\n",
    ")\n",
    "\n",
    "print(regularisers.groupby(['Subject','Group']).nunique())\n",
    "        "
   ]
  },
  {
   "cell_type": "code",
   "execution_count": 189,
   "metadata": {},
   "outputs": [
    {
     "data": {
      "text/html": [
       "<div>\n",
       "<style scoped>\n",
       "    .dataframe tbody tr th:only-of-type {\n",
       "        vertical-align: middle;\n",
       "    }\n",
       "\n",
       "    .dataframe tbody tr th {\n",
       "        vertical-align: top;\n",
       "    }\n",
       "\n",
       "    .dataframe thead th {\n",
       "        text-align: right;\n",
       "    }\n",
       "</style>\n",
       "<table border=\"1\" class=\"dataframe\">\n",
       "  <thead>\n",
       "    <tr style=\"text-align: right;\">\n",
       "      <th></th>\n",
       "      <th>Number of regularisers</th>\n",
       "      <th>Total subjects</th>\n",
       "      <th>Proportion regularisers</th>\n",
       "      <th>Binomial test p-value</th>\n",
       "    </tr>\n",
       "    <tr>\n",
       "      <th>Group</th>\n",
       "      <th></th>\n",
       "      <th></th>\n",
       "      <th></th>\n",
       "      <th></th>\n",
       "    </tr>\n",
       "  </thead>\n",
       "  <tbody>\n",
       "    <tr>\n",
       "      <th>5050_alt_nonneut</th>\n",
       "      <td>12</td>\n",
       "      <td>24</td>\n",
       "      <td>0.50</td>\n",
       "      <td>1.000000</td>\n",
       "    </tr>\n",
       "    <tr>\n",
       "      <th>5050_neut</th>\n",
       "      <td>9</td>\n",
       "      <td>25</td>\n",
       "      <td>0.36</td>\n",
       "      <td>0.229523</td>\n",
       "    </tr>\n",
       "    <tr>\n",
       "      <th>5050_nonalt_nonneut</th>\n",
       "      <td>12</td>\n",
       "      <td>25</td>\n",
       "      <td>0.48</td>\n",
       "      <td>1.000000</td>\n",
       "    </tr>\n",
       "    <tr>\n",
       "      <th>freqba_alt_nonneut</th>\n",
       "      <td>21</td>\n",
       "      <td>25</td>\n",
       "      <td>0.84</td>\n",
       "      <td>0.000911</td>\n",
       "    </tr>\n",
       "    <tr>\n",
       "      <th>freqba_alt_nonneut_k</th>\n",
       "      <td>10</td>\n",
       "      <td>25</td>\n",
       "      <td>0.40</td>\n",
       "      <td>0.424356</td>\n",
       "    </tr>\n",
       "    <tr>\n",
       "      <th>freqba_neut</th>\n",
       "      <td>10</td>\n",
       "      <td>25</td>\n",
       "      <td>0.40</td>\n",
       "      <td>0.424356</td>\n",
       "    </tr>\n",
       "    <tr>\n",
       "      <th>freqba_neut_k</th>\n",
       "      <td>12</td>\n",
       "      <td>25</td>\n",
       "      <td>0.48</td>\n",
       "      <td>1.000000</td>\n",
       "    </tr>\n",
       "    <tr>\n",
       "      <th>freqba_nonalt_nonneut</th>\n",
       "      <td>7</td>\n",
       "      <td>26</td>\n",
       "      <td>0.27</td>\n",
       "      <td>0.028959</td>\n",
       "    </tr>\n",
       "    <tr>\n",
       "      <th>freqni_alt_nonneut</th>\n",
       "      <td>12</td>\n",
       "      <td>26</td>\n",
       "      <td>0.46</td>\n",
       "      <td>0.845019</td>\n",
       "    </tr>\n",
       "    <tr>\n",
       "      <th>freqni_alt_nonneut_k</th>\n",
       "      <td>13</td>\n",
       "      <td>25</td>\n",
       "      <td>0.52</td>\n",
       "      <td>1.000000</td>\n",
       "    </tr>\n",
       "    <tr>\n",
       "      <th>freqni_neut</th>\n",
       "      <td>11</td>\n",
       "      <td>25</td>\n",
       "      <td>0.44</td>\n",
       "      <td>0.690038</td>\n",
       "    </tr>\n",
       "    <tr>\n",
       "      <th>freqni_neut_k</th>\n",
       "      <td>14</td>\n",
       "      <td>24</td>\n",
       "      <td>0.58</td>\n",
       "      <td>0.541256</td>\n",
       "    </tr>\n",
       "    <tr>\n",
       "      <th>freqni_nonalt_nonneut</th>\n",
       "      <td>11</td>\n",
       "      <td>24</td>\n",
       "      <td>0.46</td>\n",
       "      <td>0.838820</td>\n",
       "    </tr>\n",
       "  </tbody>\n",
       "</table>\n",
       "</div>"
      ],
      "text/plain": [
       "                       Number of regularisers  Total subjects  \\\n",
       "Group                                                           \n",
       "5050_alt_nonneut                           12              24   \n",
       "5050_neut                                   9              25   \n",
       "5050_nonalt_nonneut                        12              25   \n",
       "freqba_alt_nonneut                         21              25   \n",
       "freqba_alt_nonneut_k                       10              25   \n",
       "freqba_neut                                10              25   \n",
       "freqba_neut_k                              12              25   \n",
       "freqba_nonalt_nonneut                       7              26   \n",
       "freqni_alt_nonneut                         12              26   \n",
       "freqni_alt_nonneut_k                       13              25   \n",
       "freqni_neut                                11              25   \n",
       "freqni_neut_k                              14              24   \n",
       "freqni_nonalt_nonneut                      11              24   \n",
       "\n",
       "                       Proportion regularisers  Binomial test p-value  \n",
       "Group                                                                  \n",
       "5050_alt_nonneut                          0.50               1.000000  \n",
       "5050_neut                                 0.36               0.229523  \n",
       "5050_nonalt_nonneut                       0.48               1.000000  \n",
       "freqba_alt_nonneut                        0.84               0.000911  \n",
       "freqba_alt_nonneut_k                      0.40               0.424356  \n",
       "freqba_neut                               0.40               0.424356  \n",
       "freqba_neut_k                             0.48               1.000000  \n",
       "freqba_nonalt_nonneut                     0.27               0.028959  \n",
       "freqni_alt_nonneut                        0.46               0.845019  \n",
       "freqni_alt_nonneut_k                      0.52               1.000000  \n",
       "freqni_neut                               0.44               0.690038  \n",
       "freqni_neut_k                             0.58               0.541256  \n",
       "freqni_nonalt_nonneut                     0.46               0.838820  "
      ]
     },
     "execution_count": 189,
     "metadata": {},
     "output_type": "execute_result"
    }
   ],
   "source": [
    "## Number of subjects who individually used the frequent affix more than the input proportion\n",
    "regularisers = pd.concat(\n",
    "    [pd.DataFrame(\n",
    "        (df[df.FreqCondition=='5050'].groupby(['Subject','Group']).mean()['UsedFreq']>.5).groupby('Group').sum().astype(int)),\n",
    "    pd.DataFrame(\n",
    "        (df[df.FreqCondition!='5050'].groupby(['Subject','Group']).mean()['UsedFreq']>.6667).groupby('Group').sum().astype(int))\n",
    "    ]  \n",
    ")\n",
    "\n",
    "regularisers = pd.concat([regularisers,\n",
    "                          pd.DataFrame(df.groupby('Group')['Subject'].nunique())],axis=1)\n",
    "\n",
    "regularisers.columns = ['Number of regularisers','Total subjects']\n",
    "\n",
    "regularisers['Proportion regularisers'] = round(regularisers['Number of regularisers']/regularisers['Total subjects'],2)\n",
    "\n",
    "binomtest_pvalues = []\n",
    "\n",
    "for i in range(len(regularisers)):\n",
    "    p = binom_test(regularisers.iloc[i]['Number of regularisers'],regularisers.iloc[i]['Total subjects'])\n",
    "    binomtest_pvalues.append(p)\n",
    "\n",
    "regularisers['Binomial test p-value'] = binomtest_pvalues\n",
    "\n",
    "regularisers\n",
    "\n"
   ]
  },
  {
   "cell_type": "code",
   "execution_count": 203,
   "metadata": {},
   "outputs": [
    {
     "data": {
      "text/plain": [
       "10.0"
      ]
     },
     "execution_count": 203,
     "metadata": {},
     "output_type": "execute_result"
    }
   ],
   "source": [
    "regularisers.iloc[5]['Number of regularisers']"
   ]
  },
  {
   "cell_type": "code",
   "execution_count": 198,
   "metadata": {},
   "outputs": [
    {
     "data": {
      "text/plain": [
       "Group\n",
       "5050_alt_nonneut         12\n",
       "5050_neut                 9\n",
       "5050_nonalt_nonneut      12\n",
       "freqba_alt_nonneut       21\n",
       "freqba_alt_nonneut_k     10\n",
       "freqba_neut              10\n",
       "freqba_neut_k            12\n",
       "freqba_nonalt_nonneut     7\n",
       "freqni_alt_nonneut       12\n",
       "freqni_alt_nonneut_k     13\n",
       "freqni_neut              11\n",
       "freqni_neut_k            14\n",
       "freqni_nonalt_nonneut    11\n",
       "Name: Number of regularisers, dtype: int32"
      ]
     },
     "execution_count": 198,
     "metadata": {},
     "output_type": "execute_result"
    }
   ],
   "source": [
    "regularisers['Number of regularisers']"
   ]
  },
  {
   "cell_type": "markdown",
   "metadata": {},
   "source": [
    "## Application of palatalization rule"
   ]
  },
  {
   "cell_type": "code",
   "execution_count": 211,
   "metadata": {},
   "outputs": [
    {
     "ename": "TypeError",
     "evalue": "ufunc 'bitwise_and' not supported for the input types, and the inputs could not be safely coerced to any supported types according to the casting rule ''safe''",
     "output_type": "error",
     "traceback": [
      "\u001b[1;31m---------------------------------------------------------------------------\u001b[0m",
      "\u001b[1;31mTypeError\u001b[0m                                 Traceback (most recent call last)",
      "\u001b[1;32m<ipython-input-211-65923e182379>\u001b[0m in \u001b[0;36m<module>\u001b[1;34m\u001b[0m\n\u001b[0;32m     12\u001b[0m \u001b[1;33m\u001b[0m\u001b[0m\n\u001b[0;32m     13\u001b[0m ax[0].bar(x=[1-width,1,2-width,2,3-width,3],\n\u001b[1;32m---> 14\u001b[1;33m           \u001b[0mheight\u001b[0m\u001b[1;33m=\u001b[0m\u001b[0mregularisers\u001b[0m\u001b[1;33m[\u001b[0m\u001b[1;33m(\u001b[0m\u001b[0mregularisers\u001b[0m\u001b[1;33m.\u001b[0m\u001b[0miloc\u001b[0m\u001b[1;33m[\u001b[0m\u001b[1;36m4\u001b[0m\u001b[1;33m]\u001b[0m\u001b[1;33m[\u001b[0m\u001b[1;34m'Number of regularisers'\u001b[0m\u001b[1;33m]\u001b[0m\u001b[1;33m)\u001b[0m \u001b[1;33m&\u001b[0m \u001b[1;33m(\u001b[0m\u001b[0mregularisers\u001b[0m\u001b[1;33m.\u001b[0m\u001b[0miloc\u001b[0m\u001b[1;33m[\u001b[0m\u001b[1;36m9\u001b[0m\u001b[1;33m]\u001b[0m\u001b[1;33m[\u001b[0m\u001b[1;34m'Number of regularisers'\u001b[0m\u001b[1;33m]\u001b[0m\u001b[1;33m)\u001b[0m \u001b[1;33m&\u001b[0m \u001b[1;33m(\u001b[0m\u001b[0mregularisers\u001b[0m\u001b[1;33m.\u001b[0m\u001b[0miloc\u001b[0m\u001b[1;33m[\u001b[0m\u001b[1;36m6\u001b[0m\u001b[1;33m]\u001b[0m\u001b[1;33m[\u001b[0m\u001b[1;34m'Number of regularisers'\u001b[0m\u001b[1;33m]\u001b[0m\u001b[1;33m)\u001b[0m \u001b[1;33m&\u001b[0m \u001b[0mregularisers\u001b[0m\u001b[1;33m.\u001b[0m\u001b[0miloc\u001b[0m\u001b[1;33m[\u001b[0m\u001b[1;36m11\u001b[0m\u001b[1;33m]\u001b[0m\u001b[1;33m[\u001b[0m\u001b[1;34m'Number of regularisers'\u001b[0m\u001b[1;33m]\u001b[0m\u001b[1;33m]\u001b[0m\u001b[1;33m,\u001b[0m\u001b[1;33m\u001b[0m\u001b[1;33m\u001b[0m\u001b[0m\n\u001b[0m\u001b[0;32m     15\u001b[0m           \u001b[0mcolor\u001b[0m\u001b[1;33m=\u001b[0m\u001b[1;33m[\u001b[0m\u001b[1;34m'black'\u001b[0m\u001b[1;33m,\u001b[0m\u001b[1;34m'grey'\u001b[0m\u001b[1;33m,\u001b[0m\u001b[1;34m'blue'\u001b[0m\u001b[1;33m,\u001b[0m\u001b[1;34m'orange'\u001b[0m\u001b[1;33m]\u001b[0m\u001b[1;33m\u001b[0m\u001b[1;33m\u001b[0m\u001b[0m\n\u001b[0;32m     16\u001b[0m           \u001b[1;31m#yerr=[12, 7, 11]\u001b[0m\u001b[1;33m\u001b[0m\u001b[1;33m\u001b[0m\u001b[1;33m\u001b[0m\u001b[0m\n",
      "\u001b[1;31mTypeError\u001b[0m: ufunc 'bitwise_and' not supported for the input types, and the inputs could not be safely coerced to any supported types according to the casting rule ''safe''"
     ]
    },
    {
     "data": {
      "image/png": "[encoded data removed]",
      "text/plain": [
       "<Figure size 1080x648 with 2 Axes>"
      ]
     },
     "metadata": {},
     "output_type": "display_data"
    }
   ],
   "source": [
    "## Barplot for the number of people who regularize the response\n",
    "# Subject for velar-initial only\n",
    "regularisers\n",
    "\n",
    "\n",
    "fig, ax = plt.subplots(nrows=1,ncols=2,figsize=(15,9))\n",
    "\n",
    "# Set global parameters\n",
    "width=0.4\n",
    "\n",
    "# Set figure data\n",
    "\n",
    "ax[0].bar(x=[1-width,1,2-width,2,3-width,3],\n",
    "          height=regularisers[(regularisers.iloc[4]['Number of regularisers']) & (regularisers.iloc[9]['Number of regularisers']) & (regularisers.iloc[6]['Number of regularisers']) & regularisers.iloc[11]['Number of regularisers']],\n",
    "          color=['black','grey','blue','orange']\n",
    "          #yerr=[12, 7, 11]\n",
    "         )\n",
    "ax[1].bar(x=[1-width,1,2-width,2,3-width,3],\n",
    "          height=regularisers[((regularisers.iloc[3]['Number of regularisers']) & (regularisers.iloc[8]['Number of regularisers'])& (regularisers.iloc[5]['Number of regularisers']) & (regularisers.iloc[10]['Number of regularisers']))],\n",
    "          color=['black','grey','blue','orange']\n",
    "          #yerr=[12,21,12 ]\n",
    "         )\n",
    "\n",
    "\n",
    "\n",
    "# Set figure parameters\n",
    "ax[0].set(title='Regularized responses \\n (Korean participants)' ,\n",
    "          xlabel='Frequency condition',\n",
    "          ylabel='Number of participants who regularized the output',\n",
    "          xticks= [1,2,3,4],\n",
    "          xticklabels=['Alt Freqba','Alt Freqni','Neu Freqba', 'Neu Freqni'],\n",
    "          xlim=[0.5,3.5],\n",
    "          ylim=[0,1]\n",
    "         )\n",
    "ax[0].yaxis.set_major_locator(ticker.LinearLocator(11))\n",
    "\n",
    "ax[1].set(title='Regularized responses \\n (English participants)',\n",
    "          xlabel='Frequency condition',\n",
    "          ylabel='',\n",
    "          xticks= [1,2,3,4],\n",
    "          xticklabels=['Alt Freqba','Alt Freqni','Neu Freqba', 'Neu Freqni'],\n",
    "          xlim=[0.5,3.5],\n",
    "          ylim=[0,1]\n",
    "         )\n",
    "ax[1].yaxis.set_major_locator(ticker.LinearLocator(11))\n",
    "\n",
    "'''        \n",
    "# Legend \n",
    "plt.legend(handles=[mpatches.Patch(color='darkmagenta', label='50-50)'),\n",
    "            mpatches.Patch(color='violet', label='Alternation'),\n",
    "            mpatches.Patch(color='thistle', label='Neutralizing')],\n",
    "           title='Group',\n",
    "           frameon=False,\n",
    "           loc='upper left', bbox_to_anchor=(1, 1)\n",
    "          )\n",
    "'''  \n",
    "# Make the spacing nice\n",
    "plt.tight_layout()"
   ]
  },
  {
   "cell_type": "code",
   "execution_count": 212,
   "metadata": {},
   "outputs": [
    {
     "data": {
      "text/plain": [
       "Group                 AffixUsed\n",
       "5050_alt_nonneut      ba           0.037344\n",
       "                      ni           0.740741\n",
       "5050_neut             ba           0.082397\n",
       "                      ni           0.586207\n",
       "freqba_alt_nonneut    ba           0.022005\n",
       "                      ni           0.737226\n",
       "freqba_alt_nonneut_k  ba           0.021978\n",
       "                      ni           0.387097\n",
       "freqba_neut           ba           0.039578\n",
       "                      ni           0.454545\n",
       "freqba_neut_k         ba           0.046512\n",
       "                      ni           0.527607\n",
       "freqni_alt_nonneut    ba           0.110465\n",
       "                      ni           0.713881\n",
       "freqni_alt_nonneut_k  ba           0.174825\n",
       "                      ni           0.647541\n",
       "freqni_neut           ba           0.245000\n",
       "                      ni           0.620130\n",
       "freqni_neut_k         ba           0.109756\n",
       "                      ni           0.641243\n",
       "Name: AlternatedStem, dtype: float64"
      ]
     },
     "execution_count": 212,
     "metadata": {},
     "output_type": "execute_result"
    }
   ],
   "source": [
    "## Proportion of trials in which participants alternated the stem, by condition and prefix\n",
    "# Velar-initial stems only\n",
    "# Non-alt condition excluded (as there was no rule application in training)  0518103824\n",
    "df[(df.Alternations=='yes') & ((df.InitialStemC=='k') | (df.InitialStemC =='g'))].groupby(['Group','AffixUsed'])['AlternatedStem'].mean()\n",
    "# which has the same result as following:\n",
    "#df[(df.Alternations=='yes') & (df.InitialStemC.isin(['k','g']))].groupby(['Group','AffixUsed'])['AlternatedStem'].mean()"
   ]
  },
  {
   "cell_type": "markdown",
   "metadata": {},
   "source": [
    "### Barplots"
   ]
  },
  {
   "cell_type": "code",
   "execution_count": 214,
   "metadata": {},
   "outputs": [],
   "source": [
    "import matplotlib.patches as mpatches"
   ]
  },
  {
   "cell_type": "code",
   "execution_count": 215,
   "metadata": {},
   "outputs": [
    {
     "data": {
      "text/html": [
       "<div>\n",
       "<style scoped>\n",
       "    .dataframe tbody tr th:only-of-type {\n",
       "        vertical-align: middle;\n",
       "    }\n",
       "\n",
       "    .dataframe tbody tr th {\n",
       "        vertical-align: top;\n",
       "    }\n",
       "\n",
       "    .dataframe thead th {\n",
       "        text-align: right;\n",
       "    }\n",
       "</style>\n",
       "<table border=\"1\" class=\"dataframe\">\n",
       "  <thead>\n",
       "    <tr style=\"text-align: right;\">\n",
       "      <th></th>\n",
       "      <th>Subject</th>\n",
       "      <th>Group</th>\n",
       "      <th>Age</th>\n",
       "      <th>Gender</th>\n",
       "      <th>Phase</th>\n",
       "      <th>TrialNum</th>\n",
       "      <th>KeyPress</th>\n",
       "      <th>Accuracy</th>\n",
       "      <th>CurrentScore</th>\n",
       "      <th>RT</th>\n",
       "      <th>...</th>\n",
       "      <th>UsedNi</th>\n",
       "      <th>FreqCondition</th>\n",
       "      <th>AltCondition</th>\n",
       "      <th>Alternations</th>\n",
       "      <th>Neutralization</th>\n",
       "      <th>InitialStemC</th>\n",
       "      <th>FreqPrefix</th>\n",
       "      <th>UsedFreq</th>\n",
       "      <th>Language</th>\n",
       "      <th>AlternatedStem</th>\n",
       "    </tr>\n",
       "  </thead>\n",
       "  <tbody>\n",
       "    <tr>\n",
       "      <th>3</th>\n",
       "      <td>11.0</td>\n",
       "      <td>freqba_alt_nonneut</td>\n",
       "      <td>26.0</td>\n",
       "      <td>m</td>\n",
       "      <td>affixedtest</td>\n",
       "      <td>2.0</td>\n",
       "      <td>f</td>\n",
       "      <td>1.0</td>\n",
       "      <td>215.0</td>\n",
       "      <td>5000</td>\n",
       "      <td>...</td>\n",
       "      <td>0</td>\n",
       "      <td>freqba</td>\n",
       "      <td>alternation</td>\n",
       "      <td>yes</td>\n",
       "      <td>no</td>\n",
       "      <td>k</td>\n",
       "      <td>ba</td>\n",
       "      <td>1</td>\n",
       "      <td>Eng</td>\n",
       "      <td>0</td>\n",
       "    </tr>\n",
       "    <tr>\n",
       "      <th>5</th>\n",
       "      <td>11.0</td>\n",
       "      <td>freqba_alt_nonneut</td>\n",
       "      <td>26.0</td>\n",
       "      <td>m</td>\n",
       "      <td>affixedtest</td>\n",
       "      <td>3.0</td>\n",
       "      <td>j</td>\n",
       "      <td>0.0</td>\n",
       "      <td>220.0</td>\n",
       "      <td>7279</td>\n",
       "      <td>...</td>\n",
       "      <td>1</td>\n",
       "      <td>freqba</td>\n",
       "      <td>alternation</td>\n",
       "      <td>yes</td>\n",
       "      <td>no</td>\n",
       "      <td>g</td>\n",
       "      <td>ba</td>\n",
       "      <td>0</td>\n",
       "      <td>Eng</td>\n",
       "      <td>0</td>\n",
       "    </tr>\n",
       "    <tr>\n",
       "      <th>7</th>\n",
       "      <td>11.0</td>\n",
       "      <td>freqba_alt_nonneut</td>\n",
       "      <td>26.0</td>\n",
       "      <td>m</td>\n",
       "      <td>affixedtest</td>\n",
       "      <td>4.0</td>\n",
       "      <td>f</td>\n",
       "      <td>1.0</td>\n",
       "      <td>230.0</td>\n",
       "      <td>3329</td>\n",
       "      <td>...</td>\n",
       "      <td>0</td>\n",
       "      <td>freqba</td>\n",
       "      <td>alternation</td>\n",
       "      <td>yes</td>\n",
       "      <td>no</td>\n",
       "      <td>p</td>\n",
       "      <td>ba</td>\n",
       "      <td>1</td>\n",
       "      <td>Eng</td>\n",
       "      <td>0</td>\n",
       "    </tr>\n",
       "    <tr>\n",
       "      <th>9</th>\n",
       "      <td>11.0</td>\n",
       "      <td>freqba_alt_nonneut</td>\n",
       "      <td>26.0</td>\n",
       "      <td>m</td>\n",
       "      <td>affixedtest</td>\n",
       "      <td>5.0</td>\n",
       "      <td>f</td>\n",
       "      <td>1.0</td>\n",
       "      <td>240.0</td>\n",
       "      <td>5792</td>\n",
       "      <td>...</td>\n",
       "      <td>0</td>\n",
       "      <td>freqba</td>\n",
       "      <td>alternation</td>\n",
       "      <td>yes</td>\n",
       "      <td>no</td>\n",
       "      <td>g</td>\n",
       "      <td>ba</td>\n",
       "      <td>1</td>\n",
       "      <td>Eng</td>\n",
       "      <td>0</td>\n",
       "    </tr>\n",
       "    <tr>\n",
       "      <th>11</th>\n",
       "      <td>11.0</td>\n",
       "      <td>freqba_alt_nonneut</td>\n",
       "      <td>26.0</td>\n",
       "      <td>m</td>\n",
       "      <td>affixedtest</td>\n",
       "      <td>6.0</td>\n",
       "      <td>f</td>\n",
       "      <td>0.0</td>\n",
       "      <td>245.0</td>\n",
       "      <td>5699</td>\n",
       "      <td>...</td>\n",
       "      <td>0</td>\n",
       "      <td>freqba</td>\n",
       "      <td>alternation</td>\n",
       "      <td>yes</td>\n",
       "      <td>no</td>\n",
       "      <td>n</td>\n",
       "      <td>ba</td>\n",
       "      <td>1</td>\n",
       "      <td>Eng</td>\n",
       "      <td>0</td>\n",
       "    </tr>\n",
       "  </tbody>\n",
       "</table>\n",
       "<p>5 rows × 27 columns</p>\n",
       "</div>"
      ],
      "text/plain": [
       "    Subject               Group   Age Gender        Phase  TrialNum KeyPress  \\\n",
       "3      11.0  freqba_alt_nonneut  26.0      m  affixedtest       2.0        f   \n",
       "5      11.0  freqba_alt_nonneut  26.0      m  affixedtest       3.0        j   \n",
       "7      11.0  freqba_alt_nonneut  26.0      m  affixedtest       4.0        f   \n",
       "9      11.0  freqba_alt_nonneut  26.0      m  affixedtest       5.0        f   \n",
       "11     11.0  freqba_alt_nonneut  26.0      m  affixedtest       6.0        f   \n",
       "\n",
       "    Accuracy  CurrentScore    RT  ... UsedNi FreqCondition AltCondition  \\\n",
       "3        1.0         215.0  5000  ...      0        freqba  alternation   \n",
       "5        0.0         220.0  7279  ...      1        freqba  alternation   \n",
       "7        1.0         230.0  3329  ...      0        freqba  alternation   \n",
       "9        1.0         240.0  5792  ...      0        freqba  alternation   \n",
       "11       0.0         245.0  5699  ...      0        freqba  alternation   \n",
       "\n",
       "   Alternations Neutralization InitialStemC  FreqPrefix  UsedFreq Language  \\\n",
       "3           yes             no            k          ba         1      Eng   \n",
       "5           yes             no            g          ba         0      Eng   \n",
       "7           yes             no            p          ba         1      Eng   \n",
       "9           yes             no            g          ba         1      Eng   \n",
       "11          yes             no            n          ba         1      Eng   \n",
       "\n",
       "   AlternatedStem  \n",
       "3               0  \n",
       "5               0  \n",
       "7               0  \n",
       "9               0  \n",
       "11              0  \n",
       "\n",
       "[5 rows x 27 columns]"
      ]
     },
     "execution_count": 215,
     "metadata": {},
     "output_type": "execute_result"
    }
   ],
   "source": [
    "df.head()"
   ]
  },
  {
   "cell_type": "code",
   "execution_count": 216,
   "metadata": {},
   "outputs": [],
   "source": [
    "velars = df[df.InitialStemC.isin(['k','g'])]"
   ]
  },
  {
   "cell_type": "markdown",
   "metadata": {},
   "source": [
    "### First separated by group"
   ]
  },
  {
   "cell_type": "code",
   "execution_count": 217,
   "metadata": {},
   "outputs": [
    {
     "data": {
      "text/html": [
       "<div>\n",
       "<style scoped>\n",
       "    .dataframe tbody tr th:only-of-type {\n",
       "        vertical-align: middle;\n",
       "    }\n",
       "\n",
       "    .dataframe tbody tr th {\n",
       "        vertical-align: top;\n",
       "    }\n",
       "\n",
       "    .dataframe thead th {\n",
       "        text-align: right;\n",
       "    }\n",
       "</style>\n",
       "<table border=\"1\" class=\"dataframe\">\n",
       "  <thead>\n",
       "    <tr style=\"text-align: right;\">\n",
       "      <th></th>\n",
       "      <th>Subject</th>\n",
       "      <th>Group</th>\n",
       "      <th>Age</th>\n",
       "      <th>Gender</th>\n",
       "      <th>Phase</th>\n",
       "      <th>TrialNum</th>\n",
       "      <th>KeyPress</th>\n",
       "      <th>Accuracy</th>\n",
       "      <th>CurrentScore</th>\n",
       "      <th>RT</th>\n",
       "      <th>...</th>\n",
       "      <th>UsedNi</th>\n",
       "      <th>FreqCondition</th>\n",
       "      <th>AltCondition</th>\n",
       "      <th>Alternations</th>\n",
       "      <th>Neutralization</th>\n",
       "      <th>InitialStemC</th>\n",
       "      <th>FreqPrefix</th>\n",
       "      <th>UsedFreq</th>\n",
       "      <th>Language</th>\n",
       "      <th>AlternatedStem</th>\n",
       "    </tr>\n",
       "  </thead>\n",
       "  <tbody>\n",
       "    <tr>\n",
       "      <th>3</th>\n",
       "      <td>11.0</td>\n",
       "      <td>freqba_alt_nonneut</td>\n",
       "      <td>26.0</td>\n",
       "      <td>m</td>\n",
       "      <td>affixedtest</td>\n",
       "      <td>2.0</td>\n",
       "      <td>f</td>\n",
       "      <td>1.0</td>\n",
       "      <td>215.0</td>\n",
       "      <td>5000</td>\n",
       "      <td>...</td>\n",
       "      <td>0</td>\n",
       "      <td>freqba</td>\n",
       "      <td>alternation</td>\n",
       "      <td>yes</td>\n",
       "      <td>no</td>\n",
       "      <td>k</td>\n",
       "      <td>ba</td>\n",
       "      <td>1</td>\n",
       "      <td>Eng</td>\n",
       "      <td>0</td>\n",
       "    </tr>\n",
       "    <tr>\n",
       "      <th>5</th>\n",
       "      <td>11.0</td>\n",
       "      <td>freqba_alt_nonneut</td>\n",
       "      <td>26.0</td>\n",
       "      <td>m</td>\n",
       "      <td>affixedtest</td>\n",
       "      <td>3.0</td>\n",
       "      <td>j</td>\n",
       "      <td>0.0</td>\n",
       "      <td>220.0</td>\n",
       "      <td>7279</td>\n",
       "      <td>...</td>\n",
       "      <td>1</td>\n",
       "      <td>freqba</td>\n",
       "      <td>alternation</td>\n",
       "      <td>yes</td>\n",
       "      <td>no</td>\n",
       "      <td>g</td>\n",
       "      <td>ba</td>\n",
       "      <td>0</td>\n",
       "      <td>Eng</td>\n",
       "      <td>0</td>\n",
       "    </tr>\n",
       "    <tr>\n",
       "      <th>9</th>\n",
       "      <td>11.0</td>\n",
       "      <td>freqba_alt_nonneut</td>\n",
       "      <td>26.0</td>\n",
       "      <td>m</td>\n",
       "      <td>affixedtest</td>\n",
       "      <td>5.0</td>\n",
       "      <td>f</td>\n",
       "      <td>1.0</td>\n",
       "      <td>240.0</td>\n",
       "      <td>5792</td>\n",
       "      <td>...</td>\n",
       "      <td>0</td>\n",
       "      <td>freqba</td>\n",
       "      <td>alternation</td>\n",
       "      <td>yes</td>\n",
       "      <td>no</td>\n",
       "      <td>g</td>\n",
       "      <td>ba</td>\n",
       "      <td>1</td>\n",
       "      <td>Eng</td>\n",
       "      <td>0</td>\n",
       "    </tr>\n",
       "    <tr>\n",
       "      <th>19</th>\n",
       "      <td>11.0</td>\n",
       "      <td>freqba_alt_nonneut</td>\n",
       "      <td>26.0</td>\n",
       "      <td>m</td>\n",
       "      <td>affixedtest</td>\n",
       "      <td>10.0</td>\n",
       "      <td>f</td>\n",
       "      <td>1.0</td>\n",
       "      <td>270.0</td>\n",
       "      <td>8531</td>\n",
       "      <td>...</td>\n",
       "      <td>0</td>\n",
       "      <td>freqba</td>\n",
       "      <td>alternation</td>\n",
       "      <td>yes</td>\n",
       "      <td>no</td>\n",
       "      <td>k</td>\n",
       "      <td>ba</td>\n",
       "      <td>1</td>\n",
       "      <td>Eng</td>\n",
       "      <td>0</td>\n",
       "    </tr>\n",
       "    <tr>\n",
       "      <th>29</th>\n",
       "      <td>11.0</td>\n",
       "      <td>freqba_alt_nonneut</td>\n",
       "      <td>26.0</td>\n",
       "      <td>m</td>\n",
       "      <td>affixedtest</td>\n",
       "      <td>15.0</td>\n",
       "      <td>f</td>\n",
       "      <td>1.0</td>\n",
       "      <td>305.0</td>\n",
       "      <td>7519</td>\n",
       "      <td>...</td>\n",
       "      <td>0</td>\n",
       "      <td>freqba</td>\n",
       "      <td>alternation</td>\n",
       "      <td>yes</td>\n",
       "      <td>no</td>\n",
       "      <td>k</td>\n",
       "      <td>ba</td>\n",
       "      <td>1</td>\n",
       "      <td>Eng</td>\n",
       "      <td>0</td>\n",
       "    </tr>\n",
       "  </tbody>\n",
       "</table>\n",
       "<p>5 rows × 27 columns</p>\n",
       "</div>"
      ],
      "text/plain": [
       "    Subject               Group   Age Gender        Phase  TrialNum KeyPress  \\\n",
       "3      11.0  freqba_alt_nonneut  26.0      m  affixedtest       2.0        f   \n",
       "5      11.0  freqba_alt_nonneut  26.0      m  affixedtest       3.0        j   \n",
       "9      11.0  freqba_alt_nonneut  26.0      m  affixedtest       5.0        f   \n",
       "19     11.0  freqba_alt_nonneut  26.0      m  affixedtest      10.0        f   \n",
       "29     11.0  freqba_alt_nonneut  26.0      m  affixedtest      15.0        f   \n",
       "\n",
       "    Accuracy  CurrentScore    RT  ... UsedNi FreqCondition AltCondition  \\\n",
       "3        1.0         215.0  5000  ...      0        freqba  alternation   \n",
       "5        0.0         220.0  7279  ...      1        freqba  alternation   \n",
       "9        1.0         240.0  5792  ...      0        freqba  alternation   \n",
       "19       1.0         270.0  8531  ...      0        freqba  alternation   \n",
       "29       1.0         305.0  7519  ...      0        freqba  alternation   \n",
       "\n",
       "   Alternations Neutralization InitialStemC  FreqPrefix  UsedFreq Language  \\\n",
       "3           yes             no            k          ba         1      Eng   \n",
       "5           yes             no            g          ba         0      Eng   \n",
       "9           yes             no            g          ba         1      Eng   \n",
       "19          yes             no            k          ba         1      Eng   \n",
       "29          yes             no            k          ba         1      Eng   \n",
       "\n",
       "   AlternatedStem  \n",
       "3               0  \n",
       "5               0  \n",
       "9               0  \n",
       "19              0  \n",
       "29              0  \n",
       "\n",
       "[5 rows x 27 columns]"
      ]
     },
     "execution_count": 217,
     "metadata": {},
     "output_type": "execute_result"
    }
   ],
   "source": [
    "velars.head()\n"
   ]
  },
  {
   "cell_type": "code",
   "execution_count": 218,
   "metadata": {},
   "outputs": [
    {
     "data": {
      "image/png": "[encoded data removed]",
      "text/plain": [
       "<Figure size 1080x432 with 2 Axes>"
      ]
     },
     "metadata": {},
     "output_type": "display_data"
    }
   ],
   "source": [
    "## Barplot for Korean \n",
    "velars = df[df.InitialStemC.isin(['k','g'])]\n",
    "#Calculate 95% CIs for error bars (normal approximation method for binomial proportions, on means)\n",
    "def binom_CIs(p,n,z):\n",
    "    ci = (z * np.sqrt( p*(1-p))/n )\n",
    "    return ci\n",
    "\n",
    "CIs = [\n",
    "    \n",
    "    binom_CIs(velars[(velars.Group=='freqba_alt_nonneut') & (velars.AffixUsed=='ba')].AlternatedStem.mean(),velars[velars.Group=='freqba_alt_nonneut'].Subject.nunique(),1.96),\n",
    "    binom_CIs(velars[(velars.Group=='freqba_alt_nonneut') & (velars.AffixUsed=='ni')].AlternatedStem.mean(),velars[velars.Group=='freqba_alt_nonneut'].Subject.nunique(),1.96),\n",
    "    binom_CIs(velars[(velars.Group=='freqni_alt_nonneut') & (velars.AffixUsed=='ba')].AlternatedStem.mean(),velars[velars.Group=='freqni_alt_nonneut'].Subject.nunique(),1.96),\n",
    "    binom_CIs(velars[(velars.Group=='freqni_alt_nonneut') & (velars.AffixUsed=='ni')].AlternatedStem.mean(),velars[velars.Group=='freqni_alt_nonneut'].Subject.nunique(),1.96),\n",
    "    binom_CIs(velars[(velars.Group=='freqba_alt_nonneut_k') & (velars.AffixUsed=='ba')].AlternatedStem.mean(),velars[velars.Group=='freqba_alt_nonneut_k'].Subject.nunique(),1.96),\n",
    "    binom_CIs(velars[(velars.Group=='freqba_alt_nonneut_k') & (velars.AffixUsed=='ni')].AlternatedStem.mean(),velars[velars.Group=='freqba_alt_nonneut_k'].Subject.nunique(),1.96),\n",
    "    binom_CIs(velars[(velars.Group=='freqni_alt_nonneut_k') & (velars.AffixUsed=='ba')].AlternatedStem.mean(),velars[velars.Group=='freqni_alt_nonneut_k'].Subject.nunique(),1.96),\n",
    "    binom_CIs(velars[(velars.Group=='freqni_alt_nonneut_k') & (velars.AffixUsed=='ni')].AlternatedStem.mean(),velars[velars.Group=='freqni_alt_nonneut_k'].Subject.nunique(),1.96),\n",
    "    binom_CIs(velars[(velars.Group=='freqba_neut') & (velars.AffixUsed=='ba')].AlternatedStem.mean(),velars[velars.Group=='freqba_neut'].Subject.nunique(),1.96),\n",
    "    binom_CIs(velars[(velars.Group=='freqba_neut') & (velars.AffixUsed=='ni')].AlternatedStem.mean(),velars[velars.Group=='freqba_neut'].Subject.nunique(),1.96),\n",
    "    binom_CIs(velars[(velars.Group=='freqni_neut') & (velars.AffixUsed=='ba')].AlternatedStem.mean(),velars[velars.Group=='freqni_neut'].Subject.nunique(),1.96),\n",
    "    binom_CIs(velars[(velars.Group=='freqni_neut') & (velars.AffixUsed=='ni')].AlternatedStem.mean(),velars[velars.Group=='freqni_neut'].Subject.nunique(),1.96),\n",
    "    binom_CIs(velars[(velars.Group=='freqba_neut_k') & (velars.AffixUsed=='ba')].AlternatedStem.mean(),velars[velars.Group=='freqba_neut_k'].Subject.nunique(),1.96),\n",
    "    binom_CIs(velars[(velars.Group=='freqba_neut_k') & (velars.AffixUsed=='ni')].AlternatedStem.mean(),velars[velars.Group=='freqba_neut_k'].Subject.nunique(),1.96),    \n",
    "    binom_CIs(velars[(velars.Group=='freqni_neut_k') & (velars.AffixUsed=='ba')].AlternatedStem.mean(),velars[velars.Group=='freqni_neut_k'].Subject.nunique(),1.96),\n",
    "    binom_CIs(velars[(velars.Group=='freqni_neut_k') & (velars.AffixUsed=='ni')].AlternatedStem.mean(),velars[velars.Group=='freqni_neut_k'].Subject.nunique(),1.96)\n",
    "]\n",
    "\n",
    "# Initialise figure subplots\n",
    "fig, ax = plt.subplots(nrows=1,ncols=2,figsize=(15,6))\n",
    "\n",
    "# Set figure data\n",
    "\n",
    "sns.barplot(\n",
    "            data=velars[(velars.AltCondition!='nonalternation') & (velars.FreqCondition !='5050') & (velars.AffixUsed =='ni')],\n",
    "            x='Group',y='AlternatedStem',\n",
    "            order=['freqba_alt_nonneut','freqni_alt_nonneut','freqba_alt_nonneut_k','freqni_alt_nonneut_k','freqba_neut','freqni_neut','freqba_neut_k','freqni_neut_k'], \n",
    "            palette=\"magma\", \n",
    "            hue = 'AltCondition',\n",
    "            dodge=False,\n",
    "            ci=None, yerr=[CIs[0],CIs[2],CIs[4],CIs[6],CIs[8],CIs[10],CIs[12],CIs[14]], error_kw=dict(lw=1, capsize=5, capthick=1),\n",
    "            ax=ax[0]\n",
    "            )\n",
    "\n",
    "\n",
    "sns.barplot(\n",
    "            data=velars[(velars.AltCondition!='nonalternation') & (velars.FreqCondition !='5050') & (velars.AffixUsed =='ba')],\n",
    "            x='Group',y='AlternatedStem',\n",
    "            order=['freqba_alt_nonneut','freqni_alt_nonneut','freqba_alt_nonneut_k','freqni_alt_nonneut_k','freqba_neut','freqni_neut','freqba_neut_k','freqni_neut_k'], \n",
    "            hue = 'AltCondition',\n",
    "            palette=\"magma\", \n",
    "            dodge=False,\n",
    "            ci=None, yerr=[CIs[1],CIs[3],CIs[5],CIs[7],CIs[9],CIs[11],CIs[13],CIs[15]], error_kw=dict(lw=1, capsize=5, capthick=1),\n",
    "            ax=ax[1]\n",
    ")\n",
    "\n",
    "\n",
    "sns.set_style( {'font.family':'serif', 'font.serif':'Times New Roman'})\n",
    "# Set figure parameters\n",
    "\n",
    "\n",
    "ax[0].set(title='Used ni- prefix \\n (correct changes)', \n",
    "      xlabel='Prefix Frequency',\n",
    "      ylabel='Proportion palatalization applied',\n",
    "      ylim=[0,1] \n",
    "    )\n",
    "    \n",
    "ax[0].set_xticklabels(['Freba-E','Freni-E','Freba-K','Freni-K','Freba-E','Freni-E','Freba-K','Freni-K'], fontsize=13)       \n",
    "\n",
    "\n",
    "ax[0].yaxis.set_major_locator(ticker.LinearLocator(11))\n",
    "\n",
    "\n",
    "ax[1].set(title='Used ba- prefix \\n (over-generalization errors)',\n",
    "          xlabel='Prefix Frequency',\n",
    "          ylabel='',\n",
    "          ylim=[0,1],\n",
    "          )\n",
    "    \n",
    "ax[1].set_xticklabels(['Freba-E','Freni-E','Freba-K','Freni-K','Freba-E','Freni-E','Freba-K','Freni-K'], fontsize=13)         \n",
    "    \n",
    "ax[1].yaxis.set_major_locator(ticker.LinearLocator(11))\n",
    "\n",
    "\n",
    "plt.tight_layout()\n",
    "\n",
    "\n"
   ]
  },
  {
   "cell_type": "markdown",
   "metadata": {},
   "source": [
    "### Separated by ba- vs. ni- instead"
   ]
  },
  {
   "cell_type": "markdown",
   "metadata": {},
   "source": [
    "### Statistics"
   ]
  },
  {
   "cell_type": "code",
   "execution_count": 220,
   "metadata": {},
   "outputs": [
    {
     "ename": "PermissionError",
     "evalue": "[Errno 13] Permission denied: 'data_for_R.csv'",
     "output_type": "error",
     "traceback": [
      "\u001b[1;31m---------------------------------------------------------------------------\u001b[0m",
      "\u001b[1;31mPermissionError\u001b[0m                           Traceback (most recent call last)",
      "\u001b[1;32m<ipython-input-220-274914d11e55>\u001b[0m in \u001b[0;36m<module>\u001b[1;34m\u001b[0m\n\u001b[0;32m      1\u001b[0m \u001b[1;31m## Print current dataframe to new csv to be opened with R\u001b[0m\u001b[1;33m\u001b[0m\u001b[1;33m\u001b[0m\u001b[1;33m\u001b[0m\u001b[0m\n\u001b[1;32m----> 2\u001b[1;33m \u001b[1;32mwith\u001b[0m \u001b[0mopen\u001b[0m\u001b[1;33m(\u001b[0m\u001b[1;34m'data_for_R.csv'\u001b[0m\u001b[1;33m,\u001b[0m\u001b[1;34m'w+'\u001b[0m\u001b[1;33m)\u001b[0m \u001b[1;32mas\u001b[0m \u001b[0mf\u001b[0m\u001b[1;33m:\u001b[0m \u001b[0mdf\u001b[0m\u001b[1;33m.\u001b[0m\u001b[0mto_csv\u001b[0m\u001b[1;33m(\u001b[0m\u001b[0mf\u001b[0m\u001b[1;33m,\u001b[0m \u001b[0mindex\u001b[0m\u001b[1;33m=\u001b[0m\u001b[1;32mFalse\u001b[0m\u001b[1;33m)\u001b[0m\u001b[1;33m\u001b[0m\u001b[1;33m\u001b[0m\u001b[0m\n\u001b[0m",
      "\u001b[1;31mPermissionError\u001b[0m: [Errno 13] Permission denied: 'data_for_R.csv'"
     ]
    }
   ],
   "source": [
    "## Print current dataframe to new csv to be opened with R \n",
    "with open('data_for_R.csv','w+') as f: df.to_csv(f, index=False)"
   ]
  },
  {
   "cell_type": "code",
   "execution_count": 221,
   "metadata": {},
   "outputs": [],
   "source": [
    "%%R\n",
    "# Open libraries in R and set working directory\n",
    "library(lme4)\n",
    "setwd('/Users/HanByulSong/Desktop/publication python')\n",
    "#setwd('/Users/james.white/Dropbox/Advising/UCL/PhD/HanbyulSong/Experiment/June2020')"
   ]
  },
  {
   "cell_type": "code",
   "execution_count": 222,
   "metadata": {},
   "outputs": [
    {
     "name": "stdout",
     "output_type": "stream",
     "text": [
      "  Subject              Group Age Gender       Phase TrialNum KeyPress Accuracy\n",
      "1      11 freqba_alt_nonneut  26      m affixedtest        2        f        1\n",
      "2      11 freqba_alt_nonneut  26      m affixedtest        3        j        0\n",
      "3      11 freqba_alt_nonneut  26      m affixedtest        4        f        1\n",
      "4      11 freqba_alt_nonneut  26      m affixedtest        5        f        1\n",
      "5      11 freqba_alt_nonneut  26      m affixedtest        6        f        0\n",
      "6      11 freqba_alt_nonneut  26      m affixedtest        7        f        1\n",
      "  CurrentScore   RT    Response AffixUsed StemAlternation AlienWord     Picture\n",
      "1          215 5000  ba_correct        ba              no    bakuta     kitten2\n",
      "2          220 7279 ni_nochange        ni              no    bagapi       fork2\n",
      "3          230 3329  ba_correct        ba              no    baputi       bird2\n",
      "4          240 5792  ba_correct        ba              no    bagaku      melon2\n",
      "5          245 5699  ba_correct        ba              no    niniba strawberry2\n",
      "6          255 4913  ba_correct        ba              no    bamipa     pillow2\n",
      "  CorrectAffix  total UsedNi FreqCondition AltCondition Language Alternations\n",
      "1           ba 461100      0        freqba  alternation      Eng          yes\n",
      "2           ba 461100      1        freqba  alternation      Eng          yes\n",
      "3           ba 461100      0        freqba  alternation      Eng          yes\n",
      "4           ba 461100      0        freqba  alternation      Eng          yes\n",
      "5           ni 461100      0        freqba  alternation      Eng          yes\n",
      "6           ba 461100      0        freqba  alternation      Eng          yes\n",
      "  Neutralization InitialStemC FreqPrefix UsedFreq AlternatedStem\n",
      "1             no            k         ba        1              0\n",
      "2             no            g         ba        0              0\n",
      "3             no            p         ba        1              0\n",
      "4             no            g         ba        1              0\n",
      "5             no            n         ba        1              0\n",
      "6             no            m         ba        1              0\n"
     ]
    }
   ],
   "source": [
    "%%R\n",
    "# Read data into R and check dataframe\n",
    "data = read.csv('./data_for_R.csv',header=TRUE)\n",
    "head(data)"
   ]
  },
  {
   "cell_type": "code",
   "execution_count": 223,
   "metadata": {},
   "outputs": [
    {
     "name": "stdout",
     "output_type": "stream",
     "text": [
      "[1] 5315\n"
     ]
    }
   ],
   "source": [
    "%%R\n",
    "dataK=subset(data,(data$Language %in% c('Kor')))\n",
    "\n",
    "\n",
    "nrow(dataK)"
   ]
  },
  {
   "cell_type": "code",
   "execution_count": 224,
   "metadata": {},
   "outputs": [],
   "source": [
    "%%R\n",
    "# Make subset of just velar-initial\n",
    "velars = subset(data,data$InitialStemC %in% c('k','g'))\n",
    "\n",
    "#Make subset of velars that excludes non-alternation groups\n",
    "paldata = subset(velars,velars$AltCondition!='nonalternation')\n",
    "\n",
    "#Make separate subsets of paldata for ba and ni used\n",
    "baall = subset(paldata,paldata$AffixUsed=='ba')\n",
    "niall = subset(paldata,paldata$AffixUsed=='ni')"
   ]
  },
  {
   "cell_type": "code",
   "execution_count": 225,
   "metadata": {},
   "outputs": [
    {
     "name": "stdout",
     "output_type": "stream",
     "text": [
      "     5050_alt_nonneut             5050_neut   5050_nonalt_nonneut \n",
      "           0.15372168            0.13407407            0.00000000 \n",
      "   freqba_alt_nonneut  freqba_alt_nonneut_k           freqba_neut \n",
      "           0.08173785            0.05198777            0.06559767 \n",
      "        freqba_neut_k freqba_nonalt_nonneut    freqni_alt_nonneut \n",
      "           0.07492795            0.00000000            0.20728929 \n",
      " freqni_alt_nonneut_k           freqni_neut         freqni_neut_k \n",
      "           0.20498831            0.18521341            0.18413174 \n",
      "freqni_nonalt_nonneut \n",
      "           0.00000000 \n"
     ]
    }
   ],
   "source": [
    "%%R\n",
    "with(data, tapply(AlternatedStem, list(Group), mean, na.r = T))"
   ]
  },
  {
   "cell_type": "code",
   "execution_count": 226,
   "metadata": {},
   "outputs": [
    {
     "name": "stdout",
     "output_type": "stream",
     "text": [
      "     5050_alt_nonneut             5050_neut   5050_nonalt_nonneut \n",
      "           0.03734440            0.08239700                    NA \n",
      "   freqba_alt_nonneut  freqba_alt_nonneut_k           freqba_neut \n",
      "           0.02200489            0.02197802            0.03957784 \n",
      "        freqba_neut_k freqba_nonalt_nonneut    freqni_alt_nonneut \n",
      "           0.04651163                    NA            0.11046512 \n",
      " freqni_alt_nonneut_k           freqni_neut         freqni_neut_k \n",
      "           0.17482517            0.24500000            0.10975610 \n",
      "freqni_nonalt_nonneut \n",
      "                   NA \n"
     ]
    }
   ],
   "source": [
    "%%R\n",
    "with(baall, tapply(AlternatedStem, list(Group), mean, na.r=T))"
   ]
  },
  {
   "cell_type": "code",
   "execution_count": 227,
   "metadata": {},
   "outputs": [
    {
     "name": "stdout",
     "output_type": "stream",
     "text": [
      "     5050_alt_nonneut             5050_neut   5050_nonalt_nonneut \n",
      "            0.7407407             0.5862069                    NA \n",
      "   freqba_alt_nonneut  freqba_alt_nonneut_k           freqba_neut \n",
      "            0.7372263             0.3870968             0.4545455 \n",
      "        freqba_neut_k freqba_nonalt_nonneut    freqni_alt_nonneut \n",
      "            0.5276074                    NA             0.7138810 \n",
      " freqni_alt_nonneut_k           freqni_neut         freqni_neut_k \n",
      "            0.6475410             0.6201299             0.6412429 \n",
      "freqni_nonalt_nonneut \n",
      "                   NA \n"
     ]
    }
   ],
   "source": [
    "%%R\n",
    "with(niall, tapply(AlternatedStem, list(Group), mean, na.r=T))"
   ]
  },
  {
   "cell_type": "code",
   "execution_count": 228,
   "metadata": {},
   "outputs": [],
   "source": [
    "%%R\n",
    "#Make subset of just velar-initial in Korean\n",
    "velarsK = subset(dataK, dataK$InitialStemC %in% c('k','g'))\n",
    "#Make separate subsets of palatalization for ba and ni used\n",
    "ba = subset(velarsK, velarsK$AffixUsed == 'ba')\n",
    "ni= subset(velarsK, velarsK$AffixUsed == 'ni')"
   ]
  },
  {
   "cell_type": "code",
   "execution_count": 229,
   "metadata": {},
   "outputs": [
    {
     "name": "stdout",
     "output_type": "stream",
     "text": [
      "     5050_alt_nonneut             5050_neut   5050_nonalt_nonneut \n",
      "                   NA                    NA                    NA \n",
      "   freqba_alt_nonneut  freqba_alt_nonneut_k           freqba_neut \n",
      "                   NA            0.02197802                    NA \n",
      "        freqba_neut_k freqba_nonalt_nonneut    freqni_alt_nonneut \n",
      "           0.04651163                    NA                    NA \n",
      " freqni_alt_nonneut_k           freqni_neut         freqni_neut_k \n",
      "           0.17482517                    NA            0.10975610 \n",
      "freqni_nonalt_nonneut \n",
      "                   NA \n"
     ]
    }
   ],
   "source": [
    "%%R\n",
    "with(ba, tapply(AlternatedStem, list(Group), mean, na.r.=T))"
   ]
  },
  {
   "cell_type": "code",
   "execution_count": 230,
   "metadata": {},
   "outputs": [
    {
     "name": "stdout",
     "output_type": "stream",
     "text": [
      "     5050_alt_nonneut             5050_neut   5050_nonalt_nonneut \n",
      "                   NA                    NA                    NA \n",
      "   freqba_alt_nonneut  freqba_alt_nonneut_k           freqba_neut \n",
      "                   NA             0.3870968                    NA \n",
      "        freqba_neut_k freqba_nonalt_nonneut    freqni_alt_nonneut \n",
      "            0.5276074                    NA                    NA \n",
      " freqni_alt_nonneut_k           freqni_neut         freqni_neut_k \n",
      "            0.6475410                    NA             0.6412429 \n",
      "freqni_nonalt_nonneut \n",
      "                   NA \n"
     ]
    }
   ],
   "source": [
    "%%R\n",
    "with(ni, tapply(AlternatedStem, list(Group), mean, na.r.=T))"
   ]
  },
  {
   "cell_type": "markdown",
   "metadata": {},
   "source": [
    "### when ni- was used (correct application)"
   ]
  },
  {
   "cell_type": "code",
   "execution_count": 232,
   "metadata": {},
   "outputs": [
    {
     "name": "stdout",
     "output_type": "stream",
     "text": [
      "Generalized linear mixed model fit by maximum likelihood (Laplace\n",
      "  Approximation) [glmerMod]\n",
      " Family: binomial  ( logit )\n",
      "Formula: AlternatedStem ~ Neutralization * FreqCondition + (1 | Subject) +  \n",
      "    (1 | Picture)\n",
      "   Data: ni\n",
      "\n",
      "     AIC      BIC   logLik deviance df.resid \n",
      "  1177.2   1206.9   -582.6   1165.2     1032 \n",
      "\n",
      "Scaled residuals: \n",
      "    Min      1Q  Median      3Q     Max \n",
      "-4.3297 -0.6413  0.2472  0.6079  2.3559 \n",
      "\n",
      "Random effects:\n",
      " Groups  Name        Variance Std.Dev.\n",
      " Subject (Intercept) 2.5342   1.5919  \n",
      " Picture (Intercept) 0.1096   0.3311  \n",
      "Number of obs: 1038, groups:  Subject, 98; Picture, 4\n",
      "\n",
      "Fixed effects:\n",
      "                                      Estimate Std. Error z value Pr(>|z|)   \n",
      "(Intercept)                            -0.7946     0.4335  -1.833  0.06683 . \n",
      "Neutralizationyes                       0.8684     0.5522   1.573  0.11583   \n",
      "FreqConditionfreqni                     1.5861     0.5342   2.969  0.00299 **\n",
      "Neutralizationyes:FreqConditionfreqni  -0.7169     0.7450  -0.962  0.33587   \n",
      "---\n",
      "Signif. codes:  0 '***' 0.001 '**' 0.01 '*' 0.05 '.' 0.1 ' ' 1\n",
      "\n",
      "Correlation of Fixed Effects:\n",
      "            (Intr) Ntrlzt FrqCnd\n",
      "Neutrlztnys -0.669              \n",
      "FrqCndtnfrq -0.695  0.545       \n",
      "Ntrlztny:FC  0.494 -0.740 -0.712\n"
     ]
    }
   ],
   "source": [
    "%%R\n",
    "## Full model ***THIS MODEL ONLY INCLUDES KOREAN DATA****\n",
    "#This model includes Freq ba, Freqni of Alt and Neut Korean data\n",
    "# This model includes Neutralization, FreqCondition, and the interaction\n",
    "lmer1ni = glmer(AlternatedStem ~ Neutralization*FreqCondition + (1|Subject) + (1|Picture), data=ni, family=binomial)\n",
    "summary(lmer1ni)\n"
   ]
  },
  {
   "cell_type": "code",
   "execution_count": 234,
   "metadata": {},
   "outputs": [
    {
     "name": "stdout",
     "output_type": "stream",
     "text": [
      "Generalized linear mixed model fit by maximum likelihood (Laplace\n",
      "  Approximation) [glmerMod]\n",
      " Family: binomial  ( logit )\n",
      "Formula: AlternatedStem ~ Neutralization + FreqCondition + (1 | Subject) +  \n",
      "    (1 | Picture)\n",
      "   Data: ni\n",
      "\n",
      "     AIC      BIC   logLik deviance df.resid \n",
      "  1176.2   1200.9   -583.1   1166.2     1033 \n",
      "\n",
      "Scaled residuals: \n",
      "    Min      1Q  Median      3Q     Max \n",
      "-4.4115 -0.6404  0.2458  0.6127  2.3974 \n",
      "\n",
      "Random effects:\n",
      " Groups  Name        Variance Std.Dev.\n",
      " Subject (Intercept) 2.5656   1.6017  \n",
      " Picture (Intercept) 0.1094   0.3308  \n",
      "Number of obs: 1038, groups:  Subject, 98; Picture, 4\n",
      "\n",
      "Fixed effects:\n",
      "                    Estimate Std. Error z value Pr(>|z|)   \n",
      "(Intercept)          -0.5890     0.3778  -1.559  0.11901   \n",
      "Neutralizationyes     0.4762     0.3734   1.275  0.20215   \n",
      "FreqConditionfreqni   1.2227     0.3766   3.247  0.00117 **\n",
      "---\n",
      "Signif. codes:  0 '***' 0.001 '**' 0.01 '*' 0.05 '.' 0.1 ' ' 1\n",
      "\n",
      "Correlation of Fixed Effects:\n",
      "            (Intr) Ntrlzt\n",
      "Neutrlztnys -0.520       \n",
      "FrqCndtnfrq -0.563  0.039\n"
     ]
    }
   ],
   "source": [
    "%%R\n",
    "# Remove the interaction\n",
    "lmer2ni = glmer(AlternatedStem ~ Neutralization+FreqCondition + (1|Subject) + (1|Picture), data=ni, family=binomial)\n",
    "summary(lmer2ni)\n",
    "##FreqCOndition significantly increased the model fit. This is the final model"
   ]
  },
  {
   "cell_type": "code",
   "execution_count": 235,
   "metadata": {
    "scrolled": true
   },
   "outputs": [
    {
     "name": "stdout",
     "output_type": "stream",
     "text": [
      "Data: ni\n",
      "Models:\n",
      "lmer2ni: AlternatedStem ~ Neutralization + FreqCondition + (1 | Subject) + \n",
      "lmer2ni:     (1 | Picture)\n",
      "lmer1ni: AlternatedStem ~ Neutralization * FreqCondition + (1 | Subject) + \n",
      "lmer1ni:     (1 | Picture)\n",
      "        Df    AIC    BIC  logLik deviance  Chisq Chi Df Pr(>Chisq)\n",
      "lmer2ni  5 1176.2 1200.9 -583.08   1166.2                         \n",
      "lmer1ni  6 1177.2 1206.9 -582.62   1165.2 0.9127      1     0.3394\n"
     ]
    }
   ],
   "source": [
    "%%R\n",
    "# Compare lmer1ni and lmer2ni with likelihood ratio test\n",
    "anova(lmer1ni, lmer2ni)\n",
    "\n",
    "# Interaction is not sig., and so should be removed."
   ]
  },
  {
   "cell_type": "code",
   "execution_count": 236,
   "metadata": {},
   "outputs": [
    {
     "name": "stdout",
     "output_type": "stream",
     "text": [
      "Generalized linear mixed model fit by maximum likelihood (Laplace\n",
      "  Approximation) [glmerMod]\n",
      " Family: binomial  ( logit )\n",
      "Formula: AlternatedStem ~ Neutralization + (1 | Subject) + (1 | Picture)\n",
      "   Data: ni\n",
      "\n",
      "     AIC      BIC   logLik deviance df.resid \n",
      "  1184.3   1204.1   -588.2   1176.3     1034 \n",
      "\n",
      "Scaled residuals: \n",
      "    Min      1Q  Median      3Q     Max \n",
      "-4.2312 -0.6361  0.2537  0.6107  2.5878 \n",
      "\n",
      "Random effects:\n",
      " Groups  Name        Variance Std.Dev.\n",
      " Subject (Intercept) 2.9391   1.7144  \n",
      " Picture (Intercept) 0.1049   0.3238  \n",
      "Number of obs: 1038, groups:  Subject, 98; Picture, 4\n",
      "\n",
      "Fixed effects:\n",
      "                  Estimate Std. Error z value Pr(>|z|)\n",
      "(Intercept)        0.09832    0.32292   0.304    0.761\n",
      "Neutralizationyes  0.44886    0.39359   1.140    0.254\n",
      "\n",
      "Correlation of Fixed Effects:\n",
      "            (Intr)\n",
      "Neutrlztnys -0.615\n"
     ]
    }
   ],
   "source": [
    "%%R\n",
    "# Remove FreqCondition\n",
    "lmer3ni = glmer(AlternatedStem ~ Neutralization + (1|Subject) + (1|Picture), data=ni, family=binomial)\n",
    "summary(lmer3ni)\n"
   ]
  },
  {
   "cell_type": "code",
   "execution_count": 237,
   "metadata": {},
   "outputs": [
    {
     "name": "stdout",
     "output_type": "stream",
     "text": [
      "Data: ni\n",
      "Models:\n",
      "lmer3ni: AlternatedStem ~ Neutralization + (1 | Subject) + (1 | Picture)\n",
      "lmer2ni: AlternatedStem ~ Neutralization + FreqCondition + (1 | Subject) + \n",
      "lmer2ni:     (1 | Picture)\n",
      "        Df    AIC    BIC  logLik deviance  Chisq Chi Df Pr(>Chisq)   \n",
      "lmer3ni  4 1184.3 1204.1 -588.17   1176.3                            \n",
      "lmer2ni  5 1176.2 1200.9 -583.08   1166.2 10.175      1   0.001423 **\n",
      "---\n",
      "Signif. codes:  0 '***' 0.001 '**' 0.01 '*' 0.05 '.' 0.1 ' ' 1\n"
     ]
    }
   ],
   "source": [
    "%%R\n",
    "# Compare lmer2ni and lmer3ni with likelihood ratio test\n",
    "anova(lmer2ni, lmer3ni)\n",
    "\n",
    "##"
   ]
  },
  {
   "cell_type": "markdown",
   "metadata": {},
   "source": [
    "### Summary"
   ]
  },
  {
   "cell_type": "markdown",
   "metadata": {},
   "source": [
    "Korean participants palatalized stems when using ni- only in Alternation frequent ni- condition.\n",
    "No other effects were significant."
   ]
  },
  {
   "cell_type": "markdown",
   "metadata": {},
   "source": [
    "### when ba- was used (over-generalization errors)"
   ]
  },
  {
   "cell_type": "code",
   "execution_count": 238,
   "metadata": {},
   "outputs": [
    {
     "name": "stdout",
     "output_type": "stream",
     "text": [
      "Generalized linear mixed model fit by maximum likelihood (Laplace\n",
      "  Approximation) [glmerMod]\n",
      " Family: binomial  ( logit )\n",
      "Formula: AlternatedStem ~ Neutralization * FreqCondition + (1 | Subject)\n",
      "   Data: ba\n",
      "\n",
      "     AIC      BIC   logLik deviance df.resid \n",
      "   444.9    469.7   -217.4    434.9     1053 \n",
      "\n",
      "Scaled residuals: \n",
      "    Min      1Q  Median      3Q     Max \n",
      "-0.8915 -0.2030 -0.1113 -0.0851  5.6041 \n",
      "\n",
      "Random effects:\n",
      " Groups  Name        Variance Std.Dev.\n",
      " Subject (Intercept) 2.348    1.532   \n",
      "Number of obs: 1058, groups:  Subject, 99\n",
      "\n",
      "Fixed effects:\n",
      "                                      Estimate Std. Error z value Pr(>|z|)    \n",
      "(Intercept)                            -4.7081     0.5942  -7.923 2.31e-15 ***\n",
      "Neutralizationyes                       0.7763     0.6877   1.129 0.258928    \n",
      "FreqConditionfreqni                     2.6333     0.6900   3.816 0.000135 ***\n",
      "Neutralizationyes:FreqConditionfreqni  -1.6943     0.9486  -1.786 0.074081 .  \n",
      "---\n",
      "Signif. codes:  0 '***' 0.001 '**' 0.01 '*' 0.05 '.' 0.1 ' ' 1\n",
      "\n",
      "Correlation of Fixed Effects:\n",
      "            (Intr) Ntrlzt FrqCnd\n",
      "Neutrlztnys -0.676              \n",
      "FrqCndtnfrq -0.757  0.579       \n",
      "Ntrlztny:FC  0.547 -0.727 -0.726\n"
     ]
    }
   ],
   "source": [
    "%%R\n",
    "## Full model\n",
    "# This model includes Neutralization, FreqCondition, and the interaction\n",
    "lmer1ba = glmer(AlternatedStem ~ Neutralization*FreqCondition + (1|Subject), data=ba, family=binomial)\n",
    "summary(lmer1ba)\n",
    "\n",
    "#Note: the model does not converge with the random item intercepts, so these have been removed in this series."
   ]
  },
  {
   "cell_type": "code",
   "execution_count": 239,
   "metadata": {},
   "outputs": [
    {
     "name": "stdout",
     "output_type": "stream",
     "text": [
      "Generalized linear mixed model fit by maximum likelihood (Laplace\n",
      "  Approximation) [glmerMod]\n",
      " Family: binomial  ( logit )\n",
      "Formula: AlternatedStem ~ Neutralization + FreqCondition + (1 | Subject)\n",
      "   Data: ba\n",
      "\n",
      "     AIC      BIC   logLik deviance df.resid \n",
      "   446.1    466.0   -219.1    438.1     1054 \n",
      "\n",
      "Scaled residuals: \n",
      "    Min      1Q  Median      3Q     Max \n",
      "-0.8643 -0.2012 -0.1005 -0.0956  5.7484 \n",
      "\n",
      "Random effects:\n",
      " Groups  Name        Variance Std.Dev.\n",
      " Subject (Intercept) 2.539    1.593   \n",
      "Number of obs: 1058, groups:  Subject, 99\n",
      "\n",
      "Fixed effects:\n",
      "                    Estimate Std. Error z value Pr(>|z|)    \n",
      "(Intercept)          -4.2640     0.5036  -8.468  < 2e-16 ***\n",
      "Neutralizationyes    -0.1321     0.4776  -0.277 0.782107    \n",
      "FreqConditionfreqni   1.7840     0.4830   3.693 0.000221 ***\n",
      "---\n",
      "Signif. codes:  0 '***' 0.001 '**' 0.01 '*' 0.05 '.' 0.1 ' ' 1\n",
      "\n",
      "Correlation of Fixed Effects:\n",
      "            (Intr) Ntrlzt\n",
      "Neutrlztnys -0.441       \n",
      "FrqCndtnfrq -0.604  0.031\n"
     ]
    }
   ],
   "source": [
    "%%R\n",
    "# Remove the interaction\n",
    "lmer2ba = glmer(AlternatedStem ~ Neutralization+FreqCondition + (1|Subject), data=ba, family=binomial)\n",
    "summary(lmer2ba)\n",
    "\n",
    "## This turns out to be the final model."
   ]
  },
  {
   "cell_type": "code",
   "execution_count": 240,
   "metadata": {},
   "outputs": [
    {
     "name": "stdout",
     "output_type": "stream",
     "text": [
      "Data: ba\n",
      "Models:\n",
      "lmer2ba: AlternatedStem ~ Neutralization + FreqCondition + (1 | Subject)\n",
      "lmer1ba: AlternatedStem ~ Neutralization * FreqCondition + (1 | Subject)\n",
      "        Df    AIC    BIC  logLik deviance  Chisq Chi Df Pr(>Chisq)  \n",
      "lmer2ba  4 446.12 465.98 -219.06   438.12                           \n",
      "lmer1ba  5 444.88 469.70 -217.44   434.88 3.2418      1    0.07178 .\n",
      "---\n",
      "Signif. codes:  0 '***' 0.001 '**' 0.01 '*' 0.05 '.' 0.1 ' ' 1\n"
     ]
    }
   ],
   "source": [
    "%%R\n",
    "# Compare lmer1ba and lmer2ba with likelihood ratio test\n",
    "anova(lmer1ba, lmer2ba)\n",
    "\n",
    "# Interaction is not sig., and so should be removed."
   ]
  },
  {
   "cell_type": "code",
   "execution_count": 241,
   "metadata": {},
   "outputs": [
    {
     "name": "stdout",
     "output_type": "stream",
     "text": [
      "Generalized linear mixed model fit by maximum likelihood (Laplace\n",
      "  Approximation) [glmerMod]\n",
      " Family: binomial  ( logit )\n",
      "Formula: AlternatedStem ~ Neutralization + (1 | Subject)\n",
      "   Data: ba\n",
      "\n",
      "     AIC      BIC   logLik deviance df.resid \n",
      "   456.8    471.7   -225.4    450.8     1055 \n",
      "\n",
      "Scaled residuals: \n",
      "    Min      1Q  Median      3Q     Max \n",
      "-0.8721 -0.1980 -0.1123 -0.1044  5.0503 \n",
      "\n",
      "Random effects:\n",
      " Groups  Name        Variance Std.Dev.\n",
      " Subject (Intercept) 3.992    1.998   \n",
      "Number of obs: 1058, groups:  Subject, 99\n",
      "\n",
      "Fixed effects:\n",
      "                  Estimate Std. Error z value Pr(>|z|)    \n",
      "(Intercept)        -3.6273     0.4724  -7.678 1.61e-14 ***\n",
      "Neutralizationyes  -0.2903     0.5602  -0.518    0.604    \n",
      "---\n",
      "Signif. codes:  0 '***' 0.001 '**' 0.01 '*' 0.05 '.' 0.1 ' ' 1\n",
      "\n",
      "Correlation of Fixed Effects:\n",
      "            (Intr)\n",
      "Neutrlztnys -0.507\n"
     ]
    }
   ],
   "source": [
    "%%R\n",
    "# Try removing FreqCondition\n",
    "lmer3ba = glmer(AlternatedStem ~ Neutralization + (1|Subject), data=ba, family=binomial)\n",
    "summary(lmer3ba)"
   ]
  },
  {
   "cell_type": "code",
   "execution_count": 242,
   "metadata": {},
   "outputs": [
    {
     "name": "stdout",
     "output_type": "stream",
     "text": [
      "Data: ba\n",
      "Models:\n",
      "lmer3ba: AlternatedStem ~ Neutralization + (1 | Subject)\n",
      "lmer2ba: AlternatedStem ~ Neutralization + FreqCondition + (1 | Subject)\n",
      "        Df    AIC    BIC  logLik deviance  Chisq Chi Df Pr(>Chisq)    \n",
      "lmer3ba  3 456.81 471.70 -225.41   450.81                             \n",
      "lmer2ba  4 446.12 465.98 -219.06   438.12 12.688      1  0.0003681 ***\n",
      "---\n",
      "Signif. codes:  0 '***' 0.001 '**' 0.01 '*' 0.05 '.' 0.1 ' ' 1\n"
     ]
    }
   ],
   "source": [
    "%%R\n",
    "# Compare lmer2ba and lmer3ba with likelihood ratio test\n",
    "anova(lmer2ba, lmer3ba)\n",
    "\n",
    "# FreqCondition is sig. (p < .001) and so should be retained."
   ]
  },
  {
   "cell_type": "code",
   "execution_count": 243,
   "metadata": {},
   "outputs": [
    {
     "name": "stdout",
     "output_type": "stream",
     "text": [
      "Generalized linear mixed model fit by maximum likelihood (Laplace\n",
      "  Approximation) [glmerMod]\n",
      " Family: binomial  ( logit )\n",
      "Formula: AlternatedStem ~ FreqCondition + (1 | Subject)\n",
      "   Data: ba\n",
      "\n",
      "     AIC      BIC   logLik deviance df.resid \n",
      "   444.2    459.1   -219.1    438.2     1055 \n",
      "\n",
      "Scaled residuals: \n",
      "    Min      1Q  Median      3Q     Max \n",
      "-0.8565 -0.1982 -0.0982 -0.0941  5.6812 \n",
      "\n",
      "Random effects:\n",
      " Groups  Name        Variance Std.Dev.\n",
      " Subject (Intercept) 2.522    1.588   \n",
      "Number of obs: 1058, groups:  Subject, 99\n",
      "\n",
      "Fixed effects:\n",
      "                    Estimate Std. Error z value Pr(>|z|)    \n",
      "(Intercept)          -4.3288     0.4513  -9.592  < 2e-16 ***\n",
      "FreqConditionfreqni   1.7892     0.4819   3.713 0.000205 ***\n",
      "---\n",
      "Signif. codes:  0 '***' 0.001 '**' 0.01 '*' 0.05 '.' 0.1 ' ' 1\n",
      "\n",
      "Correlation of Fixed Effects:\n",
      "            (Intr)\n",
      "FrqCndtnfrq -0.659\n"
     ]
    }
   ],
   "source": [
    "%%R\n",
    "# Try instead removing Neutralization\n",
    "lmer4ba = glmer(AlternatedStem ~ FreqCondition + (1|Subject), data=ba, family=binomial)\n",
    "summary(lmer4ba)"
   ]
  },
  {
   "cell_type": "code",
   "execution_count": 244,
   "metadata": {},
   "outputs": [
    {
     "name": "stdout",
     "output_type": "stream",
     "text": [
      "Data: ba\n",
      "Models:\n",
      "lmer4ba: AlternatedStem ~ FreqCondition + (1 | Subject)\n",
      "lmer2ba: AlternatedStem ~ Neutralization + FreqCondition + (1 | Subject)\n",
      "        Df    AIC    BIC  logLik deviance  Chisq Chi Df Pr(>Chisq)\n",
      "lmer4ba  3 444.20 459.09 -219.10   438.20                         \n",
      "lmer2ba  4 446.12 465.98 -219.06   438.12 0.0769      1     0.7815\n"
     ]
    }
   ],
   "source": [
    "%%R\n",
    "# Compare lmer2ba and lmer4ba with likelihood ratio test\n",
    "anova(lmer2ba, lmer4ba)\n",
    "\n",
    "# Neutralization is sig. and should be retained (p =.003)\n",
    "# That makes lmer2ba the final model."
   ]
  },
  {
   "cell_type": "markdown",
   "metadata": {},
   "source": [
    "#### Summary"
   ]
  },
  {
   "cell_type": "markdown",
   "metadata": {},
   "source": [
    "Korean participants palatalized stems sig more less often when using a prefix ba- in the Alternation Frequent ba- condition.\n",
    "Only Freq ni- had the fixed effect (positive) and no other effects were found."
   ]
  }
 ],
 "metadata": {
  "kernelspec": {
   "display_name": "Python 3",
   "language": "python",
   "name": "python3"
  },
  "language_info": {
   "codemirror_mode": {
    "name": "ipython",
    "version": 3
   },
   "file_extension": ".py",
   "mimetype": "text/x-python",
   "name": "python",
   "nbconvert_exporter": "python",
   "pygments_lexer": "ipython3",
   "version": "3.7.3"
  }
 },
 "nbformat": 4,
 "nbformat_minor": 4
}
